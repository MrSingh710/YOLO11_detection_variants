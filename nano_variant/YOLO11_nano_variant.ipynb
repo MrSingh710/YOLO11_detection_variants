{
  "cells": [
    {
      "cell_type": "code",
      "execution_count": 1,
      "metadata": {
        "colab": {
          "base_uri": "https://localhost:8080/"
        },
        "id": "xaJqYKL6LH4L",
        "outputId": "3d973e1b-a5ed-4532-9790-0573178c9c33"
      },
      "outputs": [
        {
          "name": "stdout",
          "output_type": "stream",
          "text": [
            "Collecting ultralytics\n",
            "  Downloading ultralytics-8.3.55-py3-none-any.whl.metadata (35 kB)\n",
            "Requirement already satisfied: numpy>=1.23.0 in /usr/local/lib/python3.10/dist-packages (from ultralytics) (1.26.4)\n",
            "Requirement already satisfied: matplotlib>=3.3.0 in /usr/local/lib/python3.10/dist-packages (from ultralytics) (3.8.0)\n",
            "Requirement already satisfied: opencv-python>=4.6.0 in /usr/local/lib/python3.10/dist-packages (from ultralytics) (4.10.0.84)\n",
            "Requirement already satisfied: pillow>=7.1.2 in /usr/local/lib/python3.10/dist-packages (from ultralytics) (11.0.0)\n",
            "Requirement already satisfied: pyyaml>=5.3.1 in /usr/local/lib/python3.10/dist-packages (from ultralytics) (6.0.2)\n",
            "Requirement already satisfied: requests>=2.23.0 in /usr/local/lib/python3.10/dist-packages (from ultralytics) (2.32.3)\n",
            "Requirement already satisfied: scipy>=1.4.1 in /usr/local/lib/python3.10/dist-packages (from ultralytics) (1.13.1)\n",
            "Requirement already satisfied: torch>=1.8.0 in /usr/local/lib/python3.10/dist-packages (from ultralytics) (2.5.1+cu121)\n",
            "Requirement already satisfied: torchvision>=0.9.0 in /usr/local/lib/python3.10/dist-packages (from ultralytics) (0.20.1+cu121)\n",
            "Requirement already satisfied: tqdm>=4.64.0 in /usr/local/lib/python3.10/dist-packages (from ultralytics) (4.67.1)\n",
            "Requirement already satisfied: psutil in /usr/local/lib/python3.10/dist-packages (from ultralytics) (5.9.5)\n",
            "Requirement already satisfied: py-cpuinfo in /usr/local/lib/python3.10/dist-packages (from ultralytics) (9.0.0)\n",
            "Requirement already satisfied: pandas>=1.1.4 in /usr/local/lib/python3.10/dist-packages (from ultralytics) (2.2.2)\n",
            "Requirement already satisfied: seaborn>=0.11.0 in /usr/local/lib/python3.10/dist-packages (from ultralytics) (0.13.2)\n",
            "Collecting ultralytics-thop>=2.0.0 (from ultralytics)\n",
            "  Downloading ultralytics_thop-2.0.13-py3-none-any.whl.metadata (9.4 kB)\n",
            "Requirement already satisfied: contourpy>=1.0.1 in /usr/local/lib/python3.10/dist-packages (from matplotlib>=3.3.0->ultralytics) (1.3.1)\n",
            "Requirement already satisfied: cycler>=0.10 in /usr/local/lib/python3.10/dist-packages (from matplotlib>=3.3.0->ultralytics) (0.12.1)\n",
            "Requirement already satisfied: fonttools>=4.22.0 in /usr/local/lib/python3.10/dist-packages (from matplotlib>=3.3.0->ultralytics) (4.55.3)\n",
            "Requirement already satisfied: kiwisolver>=1.0.1 in /usr/local/lib/python3.10/dist-packages (from matplotlib>=3.3.0->ultralytics) (1.4.7)\n",
            "Requirement already satisfied: packaging>=20.0 in /usr/local/lib/python3.10/dist-packages (from matplotlib>=3.3.0->ultralytics) (24.2)\n",
            "Requirement already satisfied: pyparsing>=2.3.1 in /usr/local/lib/python3.10/dist-packages (from matplotlib>=3.3.0->ultralytics) (3.2.0)\n",
            "Requirement already satisfied: python-dateutil>=2.7 in /usr/local/lib/python3.10/dist-packages (from matplotlib>=3.3.0->ultralytics) (2.8.2)\n",
            "Requirement already satisfied: pytz>=2020.1 in /usr/local/lib/python3.10/dist-packages (from pandas>=1.1.4->ultralytics) (2024.2)\n",
            "Requirement already satisfied: tzdata>=2022.7 in /usr/local/lib/python3.10/dist-packages (from pandas>=1.1.4->ultralytics) (2024.2)\n",
            "Requirement already satisfied: charset-normalizer<4,>=2 in /usr/local/lib/python3.10/dist-packages (from requests>=2.23.0->ultralytics) (3.4.0)\n",
            "Requirement already satisfied: idna<4,>=2.5 in /usr/local/lib/python3.10/dist-packages (from requests>=2.23.0->ultralytics) (3.10)\n",
            "Requirement already satisfied: urllib3<3,>=1.21.1 in /usr/local/lib/python3.10/dist-packages (from requests>=2.23.0->ultralytics) (2.2.3)\n",
            "Requirement already satisfied: certifi>=2017.4.17 in /usr/local/lib/python3.10/dist-packages (from requests>=2.23.0->ultralytics) (2024.12.14)\n",
            "Requirement already satisfied: filelock in /usr/local/lib/python3.10/dist-packages (from torch>=1.8.0->ultralytics) (3.16.1)\n",
            "Requirement already satisfied: typing-extensions>=4.8.0 in /usr/local/lib/python3.10/dist-packages (from torch>=1.8.0->ultralytics) (4.12.2)\n",
            "Requirement already satisfied: networkx in /usr/local/lib/python3.10/dist-packages (from torch>=1.8.0->ultralytics) (3.4.2)\n",
            "Requirement already satisfied: jinja2 in /usr/local/lib/python3.10/dist-packages (from torch>=1.8.0->ultralytics) (3.1.4)\n",
            "Requirement already satisfied: fsspec in /usr/local/lib/python3.10/dist-packages (from torch>=1.8.0->ultralytics) (2024.10.0)\n",
            "Requirement already satisfied: sympy==1.13.1 in /usr/local/lib/python3.10/dist-packages (from torch>=1.8.0->ultralytics) (1.13.1)\n",
            "Requirement already satisfied: mpmath<1.4,>=1.1.0 in /usr/local/lib/python3.10/dist-packages (from sympy==1.13.1->torch>=1.8.0->ultralytics) (1.3.0)\n",
            "Requirement already satisfied: six>=1.5 in /usr/local/lib/python3.10/dist-packages (from python-dateutil>=2.7->matplotlib>=3.3.0->ultralytics) (1.17.0)\n",
            "Requirement already satisfied: MarkupSafe>=2.0 in /usr/local/lib/python3.10/dist-packages (from jinja2->torch>=1.8.0->ultralytics) (3.0.2)\n",
            "Downloading ultralytics-8.3.55-py3-none-any.whl (904 kB)\n",
            "\u001b[2K   \u001b[90m━━━━━━━━━━━━━━━━━━━━━━━━━━━━━━━━━━━━━━━━\u001b[0m \u001b[32m904.3/904.3 kB\u001b[0m \u001b[31m23.0 MB/s\u001b[0m eta \u001b[36m0:00:00\u001b[0m\n",
            "\u001b[?25hDownloading ultralytics_thop-2.0.13-py3-none-any.whl (26 kB)\n",
            "Installing collected packages: ultralytics-thop, ultralytics\n",
            "Successfully installed ultralytics-8.3.55 ultralytics-thop-2.0.13\n"
          ]
        }
      ],
      "source": [
        "!pip install ultralytics"
      ]
    },
    {
      "cell_type": "code",
      "execution_count": 2,
      "metadata": {
        "colab": {
          "base_uri": "https://localhost:8080/"
        },
        "id": "RuK2KUL0LPV6",
        "outputId": "28b7bc14-c0b5-4c01-f382-4f283f4f822a"
      },
      "outputs": [
        {
          "name": "stdout",
          "output_type": "stream",
          "text": [
            "Collecting roboflow\n",
            "  Downloading roboflow-1.1.50-py3-none-any.whl.metadata (9.7 kB)\n",
            "Requirement already satisfied: certifi in /usr/local/lib/python3.10/dist-packages (from roboflow) (2024.12.14)\n",
            "Collecting idna==3.7 (from roboflow)\n",
            "  Downloading idna-3.7-py3-none-any.whl.metadata (9.9 kB)\n",
            "Requirement already satisfied: cycler in /usr/local/lib/python3.10/dist-packages (from roboflow) (0.12.1)\n",
            "Requirement already satisfied: kiwisolver>=1.3.1 in /usr/local/lib/python3.10/dist-packages (from roboflow) (1.4.7)\n",
            "Requirement already satisfied: matplotlib in /usr/local/lib/python3.10/dist-packages (from roboflow) (3.8.0)\n",
            "Requirement already satisfied: numpy>=1.18.5 in /usr/local/lib/python3.10/dist-packages (from roboflow) (1.26.4)\n",
            "Requirement already satisfied: opencv-python-headless==4.10.0.84 in /usr/local/lib/python3.10/dist-packages (from roboflow) (4.10.0.84)\n",
            "Requirement already satisfied: Pillow>=7.1.2 in /usr/local/lib/python3.10/dist-packages (from roboflow) (11.0.0)\n",
            "Requirement already satisfied: python-dateutil in /usr/local/lib/python3.10/dist-packages (from roboflow) (2.8.2)\n",
            "Collecting python-dotenv (from roboflow)\n",
            "  Downloading python_dotenv-1.0.1-py3-none-any.whl.metadata (23 kB)\n",
            "Requirement already satisfied: requests in /usr/local/lib/python3.10/dist-packages (from roboflow) (2.32.3)\n",
            "Requirement already satisfied: six in /usr/local/lib/python3.10/dist-packages (from roboflow) (1.17.0)\n",
            "Requirement already satisfied: urllib3>=1.26.6 in /usr/local/lib/python3.10/dist-packages (from roboflow) (2.2.3)\n",
            "Requirement already satisfied: tqdm>=4.41.0 in /usr/local/lib/python3.10/dist-packages (from roboflow) (4.67.1)\n",
            "Requirement already satisfied: PyYAML>=5.3.1 in /usr/local/lib/python3.10/dist-packages (from roboflow) (6.0.2)\n",
            "Requirement already satisfied: requests-toolbelt in /usr/local/lib/python3.10/dist-packages (from roboflow) (1.0.0)\n",
            "Collecting filetype (from roboflow)\n",
            "  Downloading filetype-1.2.0-py2.py3-none-any.whl.metadata (6.5 kB)\n",
            "Requirement already satisfied: contourpy>=1.0.1 in /usr/local/lib/python3.10/dist-packages (from matplotlib->roboflow) (1.3.1)\n",
            "Requirement already satisfied: fonttools>=4.22.0 in /usr/local/lib/python3.10/dist-packages (from matplotlib->roboflow) (4.55.3)\n",
            "Requirement already satisfied: packaging>=20.0 in /usr/local/lib/python3.10/dist-packages (from matplotlib->roboflow) (24.2)\n",
            "Requirement already satisfied: pyparsing>=2.3.1 in /usr/local/lib/python3.10/dist-packages (from matplotlib->roboflow) (3.2.0)\n",
            "Requirement already satisfied: charset-normalizer<4,>=2 in /usr/local/lib/python3.10/dist-packages (from requests->roboflow) (3.4.0)\n",
            "Downloading roboflow-1.1.50-py3-none-any.whl (81 kB)\n",
            "\u001b[2K   \u001b[90m━━━━━━━━━━━━━━━━━━━━━━━━━━━━━━━━━━━━━━━━\u001b[0m \u001b[32m81.5/81.5 kB\u001b[0m \u001b[31m5.3 MB/s\u001b[0m eta \u001b[36m0:00:00\u001b[0m\n",
            "\u001b[?25hDownloading idna-3.7-py3-none-any.whl (66 kB)\n",
            "\u001b[2K   \u001b[90m━━━━━━━━━━━━━━━━━━━━━━━━━━━━━━━━━━━━━━━━\u001b[0m \u001b[32m66.8/66.8 kB\u001b[0m \u001b[31m5.7 MB/s\u001b[0m eta \u001b[36m0:00:00\u001b[0m\n",
            "\u001b[?25hDownloading filetype-1.2.0-py2.py3-none-any.whl (19 kB)\n",
            "Downloading python_dotenv-1.0.1-py3-none-any.whl (19 kB)\n",
            "Installing collected packages: filetype, python-dotenv, idna, roboflow\n",
            "  Attempting uninstall: idna\n",
            "    Found existing installation: idna 3.10\n",
            "    Uninstalling idna-3.10:\n",
            "      Successfully uninstalled idna-3.10\n",
            "Successfully installed filetype-1.2.0 idna-3.7 python-dotenv-1.0.1 roboflow-1.1.50\n",
            "loading Roboflow workspace...\n",
            "loading Roboflow project...\n"
          ]
        },
        {
          "name": "stderr",
          "output_type": "stream",
          "text": [
            "Downloading Dataset Version Zip in PPE-2 to yolov11:: 100%|██████████| 275905/275905 [00:04<00:00, 62487.38it/s]"
          ]
        },
        {
          "name": "stdout",
          "output_type": "stream",
          "text": [
            "\n"
          ]
        },
        {
          "name": "stderr",
          "output_type": "stream",
          "text": [
            "\n",
            "Extracting Dataset Version Zip to PPE-2 in yolov11:: 100%|██████████| 5006/5006 [00:03<00:00, 1507.55it/s]\n"
          ]
        }
      ],
      "source": [
        "!pip install roboflow\n",
        "\n",
        "from roboflow import Roboflow\n",
        "rf = Roboflow(api_key=\"p0tX2A6OSidcX7JTpQjX\")\n",
        "project = rf.workspace(\"ardi-csjyk\").project(\"ppe-hfjoc\")\n",
        "version = project.version(2)\n",
        "dataset = version.download(\"yolov11\")\n"
      ]
    },
    {
      "cell_type": "code",
      "execution_count": 3,
      "metadata": {
        "colab": {
          "base_uri": "https://localhost:8080/"
        },
        "id": "0kgnkB3vLV1c",
        "outputId": "bc398bc8-26d3-40fb-aa47-db7aaeaa7c9f"
      },
      "outputs": [
        {
          "name": "stdout",
          "output_type": "stream",
          "text": [
            "Creating new Ultralytics Settings v0.0.6 file ✅ \n",
            "View Ultralytics Settings with 'yolo settings' or at '/root/.config/Ultralytics/settings.json'\n",
            "Update Settings with 'yolo settings key=value', i.e. 'yolo settings runs_dir=path/to/dir'. For help see https://docs.ultralytics.com/quickstart/#ultralytics-settings.\n",
            "Downloading https://github.com/ultralytics/assets/releases/download/v8.3.0/yolo11n.pt to 'yolo11n.pt'...\n"
          ]
        },
        {
          "name": "stderr",
          "output_type": "stream",
          "text": [
            "100%|██████████| 5.35M/5.35M [00:00<00:00, 79.8MB/s]\n"
          ]
        }
      ],
      "source": [
        "from ultralytics import YOLO\n",
        "\n",
        "model = YOLO('yolo11n.pt')"
      ]
    },
    {
      "cell_type": "code",
      "execution_count": 4,
      "metadata": {
        "colab": {
          "base_uri": "https://localhost:8080/"
        },
        "id": "8u3MXD_3LbvK",
        "outputId": "1d8e3579-0eea-45d5-ff53-15654eebdfb2"
      },
      "outputs": [
        {
          "name": "stdout",
          "output_type": "stream",
          "text": [
            "Ultralytics 8.3.55 🚀 Python-3.10.12 torch-2.5.1+cu121 CUDA:0 (Tesla T4, 15102MiB)\n",
            "\u001b[34m\u001b[1mengine/trainer: \u001b[0mtask=detect, mode=train, model=yolo11n.pt, data=/content/PPE-2/data.yaml, epochs=30, time=None, patience=100, batch=12, imgsz=640, save=True, save_period=-1, cache=False, device=None, workers=8, project=None, name=train, exist_ok=False, pretrained=True, optimizer=auto, verbose=True, seed=0, deterministic=True, single_cls=False, rect=False, cos_lr=False, close_mosaic=10, resume=False, amp=True, fraction=1.0, profile=False, freeze=None, multi_scale=False, overlap_mask=True, mask_ratio=4, dropout=0.0, val=True, split=val, save_json=False, save_hybrid=False, conf=None, iou=0.7, max_det=300, half=False, dnn=False, plots=True, source=None, vid_stride=1, stream_buffer=False, visualize=False, augment=False, agnostic_nms=False, classes=None, retina_masks=False, embed=None, show=False, save_frames=False, save_txt=False, save_conf=False, save_crop=False, show_labels=True, show_conf=True, show_boxes=True, line_width=None, format=torchscript, keras=False, optimize=False, int8=False, dynamic=False, simplify=True, opset=None, workspace=None, nms=False, lr0=0.01, lrf=0.01, momentum=0.937, weight_decay=0.0005, warmup_epochs=3.0, warmup_momentum=0.8, warmup_bias_lr=0.1, box=7.5, cls=0.5, dfl=1.5, pose=12.0, kobj=1.0, nbs=64, hsv_h=0.015, hsv_s=0.7, hsv_v=0.4, degrees=0.0, translate=0.1, scale=0.5, shear=0.0, perspective=0.0, flipud=0.0, fliplr=0.5, bgr=0.0, mosaic=1.0, mixup=0.0, copy_paste=0.0, copy_paste_mode=flip, auto_augment=randaugment, erasing=0.4, crop_fraction=1.0, cfg=None, tracker=botsort.yaml, save_dir=runs/detect/train\n",
            "Downloading https://ultralytics.com/assets/Arial.ttf to '/root/.config/Ultralytics/Arial.ttf'...\n"
          ]
        },
        {
          "name": "stderr",
          "output_type": "stream",
          "text": [
            "100%|██████████| 755k/755k [00:00<00:00, 20.7MB/s]\n"
          ]
        },
        {
          "name": "stdout",
          "output_type": "stream",
          "text": [
            "Overriding model.yaml nc=80 with nc=6\n",
            "\n",
            "                   from  n    params  module                                       arguments                     \n",
            "  0                  -1  1       464  ultralytics.nn.modules.conv.Conv             [3, 16, 3, 2]                 \n",
            "  1                  -1  1      4672  ultralytics.nn.modules.conv.Conv             [16, 32, 3, 2]                \n",
            "  2                  -1  1      6640  ultralytics.nn.modules.block.C3k2            [32, 64, 1, False, 0.25]      \n",
            "  3                  -1  1     36992  ultralytics.nn.modules.conv.Conv             [64, 64, 3, 2]                \n",
            "  4                  -1  1     26080  ultralytics.nn.modules.block.C3k2            [64, 128, 1, False, 0.25]     \n",
            "  5                  -1  1    147712  ultralytics.nn.modules.conv.Conv             [128, 128, 3, 2]              \n",
            "  6                  -1  1     87040  ultralytics.nn.modules.block.C3k2            [128, 128, 1, True]           \n",
            "  7                  -1  1    295424  ultralytics.nn.modules.conv.Conv             [128, 256, 3, 2]              \n",
            "  8                  -1  1    346112  ultralytics.nn.modules.block.C3k2            [256, 256, 1, True]           \n",
            "  9                  -1  1    164608  ultralytics.nn.modules.block.SPPF            [256, 256, 5]                 \n",
            " 10                  -1  1    249728  ultralytics.nn.modules.block.C2PSA           [256, 256, 1]                 \n",
            " 11                  -1  1         0  torch.nn.modules.upsampling.Upsample         [None, 2, 'nearest']          \n",
            " 12             [-1, 6]  1         0  ultralytics.nn.modules.conv.Concat           [1]                           \n",
            " 13                  -1  1    111296  ultralytics.nn.modules.block.C3k2            [384, 128, 1, False]          \n",
            " 14                  -1  1         0  torch.nn.modules.upsampling.Upsample         [None, 2, 'nearest']          \n",
            " 15             [-1, 4]  1         0  ultralytics.nn.modules.conv.Concat           [1]                           \n",
            " 16                  -1  1     32096  ultralytics.nn.modules.block.C3k2            [256, 64, 1, False]           \n",
            " 17                  -1  1     36992  ultralytics.nn.modules.conv.Conv             [64, 64, 3, 2]                \n",
            " 18            [-1, 13]  1         0  ultralytics.nn.modules.conv.Concat           [1]                           \n",
            " 19                  -1  1     86720  ultralytics.nn.modules.block.C3k2            [192, 128, 1, False]          \n",
            " 20                  -1  1    147712  ultralytics.nn.modules.conv.Conv             [128, 128, 3, 2]              \n",
            " 21            [-1, 10]  1         0  ultralytics.nn.modules.conv.Concat           [1]                           \n",
            " 22                  -1  1    378880  ultralytics.nn.modules.block.C3k2            [384, 256, 1, True]           \n",
            " 23        [16, 19, 22]  1    431842  ultralytics.nn.modules.head.Detect           [6, [64, 128, 256]]           \n",
            "YOLO11n summary: 319 layers, 2,591,010 parameters, 2,590,994 gradients, 6.4 GFLOPs\n",
            "\n",
            "Transferred 448/499 items from pretrained weights\n",
            "\u001b[34m\u001b[1mTensorBoard: \u001b[0mStart with 'tensorboard --logdir runs/detect/train', view at http://localhost:6006/\n",
            "Freezing layer 'model.23.dfl.conv.weight'\n",
            "\u001b[34m\u001b[1mAMP: \u001b[0mrunning Automatic Mixed Precision (AMP) checks...\n",
            "\u001b[34m\u001b[1mAMP: \u001b[0mchecks passed ✅\n"
          ]
        },
        {
          "name": "stderr",
          "output_type": "stream",
          "text": [
            "\u001b[34m\u001b[1mtrain: \u001b[0mScanning /content/PPE-2/train/labels... 2178 images, 312 backgrounds, 0 corrupt: 100%|██████████| 2178/2178 [00:01<00:00, 1975.68it/s]\n"
          ]
        },
        {
          "name": "stdout",
          "output_type": "stream",
          "text": [
            "\u001b[34m\u001b[1mtrain: \u001b[0mNew cache created: /content/PPE-2/train/labels.cache\n",
            "\u001b[34m\u001b[1malbumentations: \u001b[0mBlur(p=0.01, blur_limit=(3, 7)), MedianBlur(p=0.01, blur_limit=(3, 7)), ToGray(p=0.01, num_output_channels=3, method='weighted_average'), CLAHE(p=0.01, clip_limit=(1.0, 4.0), tile_grid_size=(8, 8))\n"
          ]
        },
        {
          "name": "stderr",
          "output_type": "stream",
          "text": [
            "A new version of Albumentations is available: 1.4.24 (you have 1.4.20). Upgrade using: pip install -U albumentations. To disable automatic update checks, set the environment variable NO_ALBUMENTATIONS_UPDATE to 1.\n",
            "\u001b[34m\u001b[1mval: \u001b[0mScanning /content/PPE-2/valid/labels... 199 images, 29 backgrounds, 0 corrupt: 100%|██████████| 199/199 [00:00<00:00, 1489.62it/s]"
          ]
        },
        {
          "name": "stdout",
          "output_type": "stream",
          "text": [
            "\u001b[34m\u001b[1mval: \u001b[0mNew cache created: /content/PPE-2/valid/labels.cache\n"
          ]
        },
        {
          "name": "stderr",
          "output_type": "stream",
          "text": [
            "\n"
          ]
        },
        {
          "name": "stdout",
          "output_type": "stream",
          "text": [
            "Plotting labels to runs/detect/train/labels.jpg... \n",
            "\u001b[34m\u001b[1moptimizer:\u001b[0m 'optimizer=auto' found, ignoring 'lr0=0.01' and 'momentum=0.937' and determining best 'optimizer', 'lr0' and 'momentum' automatically... \n",
            "\u001b[34m\u001b[1moptimizer:\u001b[0m AdamW(lr=0.001, momentum=0.9) with parameter groups 81 weight(decay=0.0), 88 weight(decay=0.00046875), 87 bias(decay=0.0)\n",
            "\u001b[34m\u001b[1mTensorBoard: \u001b[0mmodel graph visualization added ✅\n",
            "Image sizes 640 train, 640 val\n",
            "Using 2 dataloader workers\n",
            "Logging results to \u001b[1mruns/detect/train\u001b[0m\n",
            "Starting training for 30 epochs...\n",
            "\n",
            "      Epoch    GPU_mem   box_loss   cls_loss   dfl_loss  Instances       Size\n"
          ]
        },
        {
          "name": "stderr",
          "output_type": "stream",
          "text": [
            "       1/30      1.88G      1.597      2.516      1.228         20        640: 100%|██████████| 182/182 [00:52<00:00,  3.48it/s]\n",
            "                 Class     Images  Instances      Box(P          R      mAP50  mAP50-95): 100%|██████████| 9/9 [00:03<00:00,  2.52it/s]"
          ]
        },
        {
          "name": "stdout",
          "output_type": "stream",
          "text": [
            "                   all        199        904      0.809      0.774      0.816      0.523\n"
          ]
        },
        {
          "name": "stderr",
          "output_type": "stream",
          "text": [
            "\n"
          ]
        },
        {
          "name": "stdout",
          "output_type": "stream",
          "text": [
            "\n",
            "      Epoch    GPU_mem   box_loss   cls_loss   dfl_loss  Instances       Size\n"
          ]
        },
        {
          "name": "stderr",
          "output_type": "stream",
          "text": [
            "       2/30       1.8G      1.338      1.201      1.088         56        640: 100%|██████████| 182/182 [00:48<00:00,  3.73it/s]\n",
            "                 Class     Images  Instances      Box(P          R      mAP50  mAP50-95): 100%|██████████| 9/9 [00:01<00:00,  6.23it/s]"
          ]
        },
        {
          "name": "stdout",
          "output_type": "stream",
          "text": [
            "                   all        199        904      0.883      0.835      0.883       0.59\n"
          ]
        },
        {
          "name": "stderr",
          "output_type": "stream",
          "text": [
            "\n"
          ]
        },
        {
          "name": "stdout",
          "output_type": "stream",
          "text": [
            "\n",
            "      Epoch    GPU_mem   box_loss   cls_loss   dfl_loss  Instances       Size\n"
          ]
        },
        {
          "name": "stderr",
          "output_type": "stream",
          "text": [
            "       3/30      1.83G      1.297      1.069      1.077         35        640: 100%|██████████| 182/182 [00:48<00:00,  3.72it/s]\n",
            "                 Class     Images  Instances      Box(P          R      mAP50  mAP50-95): 100%|██████████| 9/9 [00:01<00:00,  6.54it/s]"
          ]
        },
        {
          "name": "stdout",
          "output_type": "stream",
          "text": [
            "                   all        199        904      0.874      0.879      0.917      0.611\n"
          ]
        },
        {
          "name": "stderr",
          "output_type": "stream",
          "text": [
            "\n"
          ]
        },
        {
          "name": "stdout",
          "output_type": "stream",
          "text": [
            "\n",
            "      Epoch    GPU_mem   box_loss   cls_loss   dfl_loss  Instances       Size\n"
          ]
        },
        {
          "name": "stderr",
          "output_type": "stream",
          "text": [
            "       4/30      1.81G      1.255      0.953      1.064         20        640: 100%|██████████| 182/182 [00:47<00:00,  3.82it/s]\n",
            "                 Class     Images  Instances      Box(P          R      mAP50  mAP50-95): 100%|██████████| 9/9 [00:01<00:00,  6.05it/s]"
          ]
        },
        {
          "name": "stdout",
          "output_type": "stream",
          "text": [
            "                   all        199        904      0.909      0.891      0.918      0.635\n"
          ]
        },
        {
          "name": "stderr",
          "output_type": "stream",
          "text": [
            "\n"
          ]
        },
        {
          "name": "stdout",
          "output_type": "stream",
          "text": [
            "\n",
            "      Epoch    GPU_mem   box_loss   cls_loss   dfl_loss  Instances       Size\n"
          ]
        },
        {
          "name": "stderr",
          "output_type": "stream",
          "text": [
            "       5/30      1.81G      1.224     0.8539      1.048         52        640: 100%|██████████| 182/182 [00:48<00:00,  3.76it/s]\n",
            "                 Class     Images  Instances      Box(P          R      mAP50  mAP50-95): 100%|██████████| 9/9 [00:01<00:00,  6.69it/s]"
          ]
        },
        {
          "name": "stdout",
          "output_type": "stream",
          "text": [
            "                   all        199        904      0.938      0.908      0.941      0.631\n"
          ]
        },
        {
          "name": "stderr",
          "output_type": "stream",
          "text": [
            "\n"
          ]
        },
        {
          "name": "stdout",
          "output_type": "stream",
          "text": [
            "\n",
            "      Epoch    GPU_mem   box_loss   cls_loss   dfl_loss  Instances       Size\n"
          ]
        },
        {
          "name": "stderr",
          "output_type": "stream",
          "text": [
            "       6/30      1.82G      1.189      0.795      1.041         32        640: 100%|██████████| 182/182 [00:47<00:00,  3.80it/s]\n",
            "                 Class     Images  Instances      Box(P          R      mAP50  mAP50-95): 100%|██████████| 9/9 [00:01<00:00,  6.85it/s]"
          ]
        },
        {
          "name": "stdout",
          "output_type": "stream",
          "text": [
            "                   all        199        904       0.92      0.899      0.936      0.639\n"
          ]
        },
        {
          "name": "stderr",
          "output_type": "stream",
          "text": [
            "\n"
          ]
        },
        {
          "name": "stdout",
          "output_type": "stream",
          "text": [
            "\n",
            "      Epoch    GPU_mem   box_loss   cls_loss   dfl_loss  Instances       Size\n"
          ]
        },
        {
          "name": "stderr",
          "output_type": "stream",
          "text": [
            "       7/30      1.84G      1.159     0.7363      1.028         54        640: 100%|██████████| 182/182 [00:49<00:00,  3.71it/s]\n",
            "                 Class     Images  Instances      Box(P          R      mAP50  mAP50-95): 100%|██████████| 9/9 [00:01<00:00,  6.22it/s]"
          ]
        },
        {
          "name": "stdout",
          "output_type": "stream",
          "text": [
            "                   all        199        904      0.936      0.922      0.947      0.662\n"
          ]
        },
        {
          "name": "stderr",
          "output_type": "stream",
          "text": [
            "\n"
          ]
        },
        {
          "name": "stdout",
          "output_type": "stream",
          "text": [
            "\n",
            "      Epoch    GPU_mem   box_loss   cls_loss   dfl_loss  Instances       Size\n"
          ]
        },
        {
          "name": "stderr",
          "output_type": "stream",
          "text": [
            "       8/30      1.81G      1.142     0.7104       1.02         48        640: 100%|██████████| 182/182 [00:48<00:00,  3.76it/s]\n",
            "                 Class     Images  Instances      Box(P          R      mAP50  mAP50-95): 100%|██████████| 9/9 [00:01<00:00,  6.83it/s]"
          ]
        },
        {
          "name": "stdout",
          "output_type": "stream",
          "text": [
            "                   all        199        904      0.936      0.925      0.957      0.675\n"
          ]
        },
        {
          "name": "stderr",
          "output_type": "stream",
          "text": [
            "\n"
          ]
        },
        {
          "name": "stdout",
          "output_type": "stream",
          "text": [
            "\n",
            "      Epoch    GPU_mem   box_loss   cls_loss   dfl_loss  Instances       Size\n"
          ]
        },
        {
          "name": "stderr",
          "output_type": "stream",
          "text": [
            "       9/30      1.81G      1.132      0.677      1.012         41        640: 100%|██████████| 182/182 [00:49<00:00,  3.71it/s]\n",
            "                 Class     Images  Instances      Box(P          R      mAP50  mAP50-95): 100%|██████████| 9/9 [00:01<00:00,  6.66it/s]"
          ]
        },
        {
          "name": "stdout",
          "output_type": "stream",
          "text": [
            "                   all        199        904      0.953      0.933      0.953      0.672\n"
          ]
        },
        {
          "name": "stderr",
          "output_type": "stream",
          "text": [
            "\n"
          ]
        },
        {
          "name": "stdout",
          "output_type": "stream",
          "text": [
            "\n",
            "      Epoch    GPU_mem   box_loss   cls_loss   dfl_loss  Instances       Size\n"
          ]
        },
        {
          "name": "stderr",
          "output_type": "stream",
          "text": [
            "      10/30      1.83G      1.116     0.6519       1.01         69        640: 100%|██████████| 182/182 [00:48<00:00,  3.76it/s]\n",
            "                 Class     Images  Instances      Box(P          R      mAP50  mAP50-95): 100%|██████████| 9/9 [00:01<00:00,  6.06it/s]"
          ]
        },
        {
          "name": "stdout",
          "output_type": "stream",
          "text": [
            "                   all        199        904      0.932       0.93      0.952      0.674\n"
          ]
        },
        {
          "name": "stderr",
          "output_type": "stream",
          "text": [
            "\n"
          ]
        },
        {
          "name": "stdout",
          "output_type": "stream",
          "text": [
            "\n",
            "      Epoch    GPU_mem   box_loss   cls_loss   dfl_loss  Instances       Size\n"
          ]
        },
        {
          "name": "stderr",
          "output_type": "stream",
          "text": [
            "      11/30      1.81G      1.107     0.6389      1.007         34        640: 100%|██████████| 182/182 [00:47<00:00,  3.82it/s]\n",
            "                 Class     Images  Instances      Box(P          R      mAP50  mAP50-95): 100%|██████████| 9/9 [00:01<00:00,  6.66it/s]"
          ]
        },
        {
          "name": "stdout",
          "output_type": "stream",
          "text": [
            "                   all        199        904      0.956      0.939      0.955      0.673\n"
          ]
        },
        {
          "name": "stderr",
          "output_type": "stream",
          "text": [
            "\n"
          ]
        },
        {
          "name": "stdout",
          "output_type": "stream",
          "text": [
            "\n",
            "      Epoch    GPU_mem   box_loss   cls_loss   dfl_loss  Instances       Size\n"
          ]
        },
        {
          "name": "stderr",
          "output_type": "stream",
          "text": [
            "      12/30      1.81G       1.08     0.6168     0.9934         56        640: 100%|██████████| 182/182 [00:47<00:00,  3.81it/s]\n",
            "                 Class     Images  Instances      Box(P          R      mAP50  mAP50-95): 100%|██████████| 9/9 [00:01<00:00,  5.12it/s]"
          ]
        },
        {
          "name": "stdout",
          "output_type": "stream",
          "text": [
            "                   all        199        904      0.957      0.947       0.96      0.679\n"
          ]
        },
        {
          "name": "stderr",
          "output_type": "stream",
          "text": [
            "\n"
          ]
        },
        {
          "name": "stdout",
          "output_type": "stream",
          "text": [
            "\n",
            "      Epoch    GPU_mem   box_loss   cls_loss   dfl_loss  Instances       Size\n"
          ]
        },
        {
          "name": "stderr",
          "output_type": "stream",
          "text": [
            "      13/30      1.84G      1.079     0.6155     0.9967         68        640: 100%|██████████| 182/182 [00:47<00:00,  3.81it/s]\n",
            "                 Class     Images  Instances      Box(P          R      mAP50  mAP50-95): 100%|██████████| 9/9 [00:02<00:00,  4.02it/s]"
          ]
        },
        {
          "name": "stdout",
          "output_type": "stream",
          "text": [
            "                   all        199        904      0.961      0.935      0.959      0.691\n"
          ]
        },
        {
          "name": "stderr",
          "output_type": "stream",
          "text": [
            "\n"
          ]
        },
        {
          "name": "stdout",
          "output_type": "stream",
          "text": [
            "\n",
            "      Epoch    GPU_mem   box_loss   cls_loss   dfl_loss  Instances       Size\n"
          ]
        },
        {
          "name": "stderr",
          "output_type": "stream",
          "text": [
            "      14/30      1.81G      1.053      0.586     0.9846         33        640: 100%|██████████| 182/182 [00:47<00:00,  3.80it/s]\n",
            "                 Class     Images  Instances      Box(P          R      mAP50  mAP50-95): 100%|██████████| 9/9 [00:02<00:00,  4.37it/s]"
          ]
        },
        {
          "name": "stdout",
          "output_type": "stream",
          "text": [
            "                   all        199        904      0.954      0.941      0.958       0.68\n"
          ]
        },
        {
          "name": "stderr",
          "output_type": "stream",
          "text": [
            "\n"
          ]
        },
        {
          "name": "stdout",
          "output_type": "stream",
          "text": [
            "\n",
            "      Epoch    GPU_mem   box_loss   cls_loss   dfl_loss  Instances       Size\n"
          ]
        },
        {
          "name": "stderr",
          "output_type": "stream",
          "text": [
            "      15/30       1.8G      1.052     0.5738     0.9843         36        640: 100%|██████████| 182/182 [00:46<00:00,  3.89it/s]\n",
            "                 Class     Images  Instances      Box(P          R      mAP50  mAP50-95): 100%|██████████| 9/9 [00:02<00:00,  4.08it/s]"
          ]
        },
        {
          "name": "stdout",
          "output_type": "stream",
          "text": [
            "                   all        199        904      0.957      0.943      0.959      0.688\n"
          ]
        },
        {
          "name": "stderr",
          "output_type": "stream",
          "text": [
            "\n"
          ]
        },
        {
          "name": "stdout",
          "output_type": "stream",
          "text": [
            "\n",
            "      Epoch    GPU_mem   box_loss   cls_loss   dfl_loss  Instances       Size\n"
          ]
        },
        {
          "name": "stderr",
          "output_type": "stream",
          "text": [
            "      16/30      1.81G      1.044      0.571     0.9795         68        640: 100%|██████████| 182/182 [00:46<00:00,  3.91it/s]\n",
            "                 Class     Images  Instances      Box(P          R      mAP50  mAP50-95): 100%|██████████| 9/9 [00:02<00:00,  3.43it/s]"
          ]
        },
        {
          "name": "stdout",
          "output_type": "stream",
          "text": [
            "                   all        199        904       0.94      0.947      0.961      0.688\n"
          ]
        },
        {
          "name": "stderr",
          "output_type": "stream",
          "text": [
            "\n"
          ]
        },
        {
          "name": "stdout",
          "output_type": "stream",
          "text": [
            "\n",
            "      Epoch    GPU_mem   box_loss   cls_loss   dfl_loss  Instances       Size\n"
          ]
        },
        {
          "name": "stderr",
          "output_type": "stream",
          "text": [
            "      17/30      1.85G       1.02     0.5549     0.9714         53        640: 100%|██████████| 182/182 [00:46<00:00,  3.92it/s]\n",
            "                 Class     Images  Instances      Box(P          R      mAP50  mAP50-95): 100%|██████████| 9/9 [00:02<00:00,  3.60it/s]"
          ]
        },
        {
          "name": "stdout",
          "output_type": "stream",
          "text": [
            "                   all        199        904      0.953       0.96      0.964       0.69\n"
          ]
        },
        {
          "name": "stderr",
          "output_type": "stream",
          "text": [
            "\n"
          ]
        },
        {
          "name": "stdout",
          "output_type": "stream",
          "text": [
            "\n",
            "      Epoch    GPU_mem   box_loss   cls_loss   dfl_loss  Instances       Size\n"
          ]
        },
        {
          "name": "stderr",
          "output_type": "stream",
          "text": [
            "      18/30      1.83G       1.02     0.5439     0.9691         30        640: 100%|██████████| 182/182 [00:46<00:00,  3.92it/s]\n",
            "                 Class     Images  Instances      Box(P          R      mAP50  mAP50-95): 100%|██████████| 9/9 [00:02<00:00,  3.66it/s]"
          ]
        },
        {
          "name": "stdout",
          "output_type": "stream",
          "text": [
            "                   all        199        904      0.978      0.934      0.964      0.702\n"
          ]
        },
        {
          "name": "stderr",
          "output_type": "stream",
          "text": [
            "\n"
          ]
        },
        {
          "name": "stdout",
          "output_type": "stream",
          "text": [
            "\n",
            "      Epoch    GPU_mem   box_loss   cls_loss   dfl_loss  Instances       Size\n"
          ]
        },
        {
          "name": "stderr",
          "output_type": "stream",
          "text": [
            "      19/30      1.84G      1.006     0.5373     0.9664         35        640: 100%|██████████| 182/182 [00:53<00:00,  3.41it/s]\n",
            "                 Class     Images  Instances      Box(P          R      mAP50  mAP50-95): 100%|██████████| 9/9 [00:01<00:00,  6.33it/s]"
          ]
        },
        {
          "name": "stdout",
          "output_type": "stream",
          "text": [
            "                   all        199        904      0.953       0.94      0.964        0.7\n"
          ]
        },
        {
          "name": "stderr",
          "output_type": "stream",
          "text": [
            "\n"
          ]
        },
        {
          "name": "stdout",
          "output_type": "stream",
          "text": [
            "\n",
            "      Epoch    GPU_mem   box_loss   cls_loss   dfl_loss  Instances       Size\n"
          ]
        },
        {
          "name": "stderr",
          "output_type": "stream",
          "text": [
            "      20/30      1.82G      1.007     0.5344      0.968         35        640: 100%|██████████| 182/182 [00:47<00:00,  3.83it/s]\n",
            "                 Class     Images  Instances      Box(P          R      mAP50  mAP50-95): 100%|██████████| 9/9 [00:01<00:00,  6.41it/s]"
          ]
        },
        {
          "name": "stdout",
          "output_type": "stream",
          "text": [
            "                   all        199        904      0.963      0.941      0.962      0.682\n"
          ]
        },
        {
          "name": "stderr",
          "output_type": "stream",
          "text": [
            "\n"
          ]
        },
        {
          "name": "stdout",
          "output_type": "stream",
          "text": [
            "Closing dataloader mosaic\n",
            "\u001b[34m\u001b[1malbumentations: \u001b[0mBlur(p=0.01, blur_limit=(3, 7)), MedianBlur(p=0.01, blur_limit=(3, 7)), ToGray(p=0.01, num_output_channels=3, method='weighted_average'), CLAHE(p=0.01, clip_limit=(1.0, 4.0), tile_grid_size=(8, 8))\n",
            "\n",
            "      Epoch    GPU_mem   box_loss   cls_loss   dfl_loss  Instances       Size\n"
          ]
        },
        {
          "name": "stderr",
          "output_type": "stream",
          "text": [
            "      21/30      1.84G     0.9803      0.505     0.9719         17        640: 100%|██████████| 182/182 [00:48<00:00,  3.74it/s]\n",
            "                 Class     Images  Instances      Box(P          R      mAP50  mAP50-95): 100%|██████████| 9/9 [00:01<00:00,  6.58it/s]"
          ]
        },
        {
          "name": "stdout",
          "output_type": "stream",
          "text": [
            "                   all        199        904      0.962       0.95      0.968      0.702\n"
          ]
        },
        {
          "name": "stderr",
          "output_type": "stream",
          "text": [
            "\n"
          ]
        },
        {
          "name": "stdout",
          "output_type": "stream",
          "text": [
            "\n",
            "      Epoch    GPU_mem   box_loss   cls_loss   dfl_loss  Instances       Size\n"
          ]
        },
        {
          "name": "stderr",
          "output_type": "stream",
          "text": [
            "      22/30      1.81G     0.9557     0.4851     0.9626         28        640: 100%|██████████| 182/182 [00:45<00:00,  4.01it/s]\n",
            "                 Class     Images  Instances      Box(P          R      mAP50  mAP50-95): 100%|██████████| 9/9 [00:02<00:00,  4.10it/s]"
          ]
        },
        {
          "name": "stdout",
          "output_type": "stream",
          "text": [
            "                   all        199        904      0.952      0.961      0.966      0.701\n"
          ]
        },
        {
          "name": "stderr",
          "output_type": "stream",
          "text": [
            "\n"
          ]
        },
        {
          "name": "stdout",
          "output_type": "stream",
          "text": [
            "\n",
            "      Epoch    GPU_mem   box_loss   cls_loss   dfl_loss  Instances       Size\n"
          ]
        },
        {
          "name": "stderr",
          "output_type": "stream",
          "text": [
            "      23/30      1.79G     0.9456     0.4759     0.9592         43        640: 100%|██████████| 182/182 [00:43<00:00,  4.17it/s]\n",
            "                 Class     Images  Instances      Box(P          R      mAP50  mAP50-95): 100%|██████████| 9/9 [00:01<00:00,  4.53it/s]"
          ]
        },
        {
          "name": "stdout",
          "output_type": "stream",
          "text": [
            "                   all        199        904      0.958      0.952      0.971      0.704\n"
          ]
        },
        {
          "name": "stderr",
          "output_type": "stream",
          "text": [
            "\n"
          ]
        },
        {
          "name": "stdout",
          "output_type": "stream",
          "text": [
            "\n",
            "      Epoch    GPU_mem   box_loss   cls_loss   dfl_loss  Instances       Size\n"
          ]
        },
        {
          "name": "stderr",
          "output_type": "stream",
          "text": [
            "      24/30      1.81G     0.9367     0.4666     0.9537         31        640: 100%|██████████| 182/182 [00:46<00:00,  3.95it/s]\n",
            "                 Class     Images  Instances      Box(P          R      mAP50  mAP50-95): 100%|██████████| 9/9 [00:01<00:00,  6.33it/s]"
          ]
        },
        {
          "name": "stdout",
          "output_type": "stream",
          "text": [
            "                   all        199        904      0.959      0.956      0.971      0.698\n"
          ]
        },
        {
          "name": "stderr",
          "output_type": "stream",
          "text": [
            "\n"
          ]
        },
        {
          "name": "stdout",
          "output_type": "stream",
          "text": [
            "\n",
            "      Epoch    GPU_mem   box_loss   cls_loss   dfl_loss  Instances       Size\n"
          ]
        },
        {
          "name": "stderr",
          "output_type": "stream",
          "text": [
            "      25/30       1.8G     0.9283     0.4602     0.9519         27        640: 100%|██████████| 182/182 [00:47<00:00,  3.83it/s]\n",
            "                 Class     Images  Instances      Box(P          R      mAP50  mAP50-95): 100%|██████████| 9/9 [00:01<00:00,  7.02it/s]"
          ]
        },
        {
          "name": "stdout",
          "output_type": "stream",
          "text": [
            "                   all        199        904      0.956      0.952      0.968      0.708\n"
          ]
        },
        {
          "name": "stderr",
          "output_type": "stream",
          "text": [
            "\n"
          ]
        },
        {
          "name": "stdout",
          "output_type": "stream",
          "text": [
            "\n",
            "      Epoch    GPU_mem   box_loss   cls_loss   dfl_loss  Instances       Size\n"
          ]
        },
        {
          "name": "stderr",
          "output_type": "stream",
          "text": [
            "      26/30      1.81G     0.9105     0.4473     0.9436         33        640: 100%|██████████| 182/182 [00:47<00:00,  3.83it/s]\n",
            "                 Class     Images  Instances      Box(P          R      mAP50  mAP50-95): 100%|██████████| 9/9 [00:01<00:00,  6.74it/s]"
          ]
        },
        {
          "name": "stdout",
          "output_type": "stream",
          "text": [
            "                   all        199        904      0.956      0.964       0.97       0.71\n"
          ]
        },
        {
          "name": "stderr",
          "output_type": "stream",
          "text": [
            "\n"
          ]
        },
        {
          "name": "stdout",
          "output_type": "stream",
          "text": [
            "\n",
            "      Epoch    GPU_mem   box_loss   cls_loss   dfl_loss  Instances       Size\n"
          ]
        },
        {
          "name": "stderr",
          "output_type": "stream",
          "text": [
            "      27/30      1.81G     0.9013     0.4436     0.9404         26        640: 100%|██████████| 182/182 [00:46<00:00,  3.88it/s]\n",
            "                 Class     Images  Instances      Box(P          R      mAP50  mAP50-95): 100%|██████████| 9/9 [00:02<00:00,  4.38it/s]"
          ]
        },
        {
          "name": "stdout",
          "output_type": "stream",
          "text": [
            "                   all        199        904      0.966      0.954      0.968      0.712\n"
          ]
        },
        {
          "name": "stderr",
          "output_type": "stream",
          "text": [
            "\n"
          ]
        },
        {
          "name": "stdout",
          "output_type": "stream",
          "text": [
            "\n",
            "      Epoch    GPU_mem   box_loss   cls_loss   dfl_loss  Instances       Size\n"
          ]
        },
        {
          "name": "stderr",
          "output_type": "stream",
          "text": [
            "      28/30      1.79G     0.8886      0.432     0.9368         38        640: 100%|██████████| 182/182 [00:44<00:00,  4.07it/s]\n",
            "                 Class     Images  Instances      Box(P          R      mAP50  mAP50-95): 100%|██████████| 9/9 [00:02<00:00,  4.21it/s]\n"
          ]
        },
        {
          "name": "stdout",
          "output_type": "stream",
          "text": [
            "                   all        199        904      0.958      0.964      0.969       0.71\n",
            "\n",
            "      Epoch    GPU_mem   box_loss   cls_loss   dfl_loss  Instances       Size\n"
          ]
        },
        {
          "name": "stderr",
          "output_type": "stream",
          "text": [
            "      29/30      1.81G     0.8858     0.4333     0.9337         31        640: 100%|██████████| 182/182 [00:45<00:00,  4.01it/s]\n",
            "                 Class     Images  Instances      Box(P          R      mAP50  mAP50-95): 100%|██████████| 9/9 [00:01<00:00,  6.74it/s]"
          ]
        },
        {
          "name": "stdout",
          "output_type": "stream",
          "text": [
            "                   all        199        904      0.964       0.96      0.971      0.719\n"
          ]
        },
        {
          "name": "stderr",
          "output_type": "stream",
          "text": [
            "\n"
          ]
        },
        {
          "name": "stdout",
          "output_type": "stream",
          "text": [
            "\n",
            "      Epoch    GPU_mem   box_loss   cls_loss   dfl_loss  Instances       Size\n"
          ]
        },
        {
          "name": "stderr",
          "output_type": "stream",
          "text": [
            "      30/30       1.8G     0.8725     0.4279      0.933         37        640: 100%|██████████| 182/182 [00:46<00:00,  3.87it/s]\n",
            "                 Class     Images  Instances      Box(P          R      mAP50  mAP50-95): 100%|██████████| 9/9 [00:01<00:00,  7.09it/s]"
          ]
        },
        {
          "name": "stdout",
          "output_type": "stream",
          "text": [
            "                   all        199        904      0.967      0.962      0.969      0.719\n"
          ]
        },
        {
          "name": "stderr",
          "output_type": "stream",
          "text": [
            "\n"
          ]
        },
        {
          "name": "stdout",
          "output_type": "stream",
          "text": [
            "\n",
            "30 epochs completed in 0.420 hours.\n",
            "Optimizer stripped from runs/detect/train/weights/last.pt, 5.5MB\n",
            "Optimizer stripped from runs/detect/train/weights/best.pt, 5.5MB\n",
            "\n",
            "Validating runs/detect/train/weights/best.pt...\n",
            "Ultralytics 8.3.55 🚀 Python-3.10.12 torch-2.5.1+cu121 CUDA:0 (Tesla T4, 15102MiB)\n",
            "YOLO11n summary (fused): 238 layers, 2,583,322 parameters, 0 gradients, 6.3 GFLOPs\n"
          ]
        },
        {
          "name": "stderr",
          "output_type": "stream",
          "text": [
            "                 Class     Images  Instances      Box(P          R      mAP50  mAP50-95): 100%|██████████| 9/9 [00:03<00:00,  2.78it/s]\n"
          ]
        },
        {
          "name": "stdout",
          "output_type": "stream",
          "text": [
            "                   all        199        904      0.967      0.963      0.969      0.719\n",
            "               glasses         71         73      0.941      0.879      0.904      0.504\n",
            "                gloves        117        218       0.98      0.995       0.99      0.746\n",
            "                helmet        103        103      0.982       0.99      0.988      0.791\n",
            "                  mask        131        131      0.969      0.943      0.964      0.702\n",
            "          safety-shoes        136        267      0.969      0.978      0.983      0.731\n",
            "                  vest        112        112      0.963      0.991      0.986      0.843\n",
            "Speed: 0.2ms preprocess, 3.1ms inference, 0.0ms loss, 2.8ms postprocess per image\n",
            "Results saved to \u001b[1mruns/detect/train\u001b[0m\n"
          ]
        }
      ],
      "source": [
        "train_results = model.train(\n",
        "    data = '/content/PPE-2/data.yaml',\n",
        "    epochs = 30,\n",
        "    batch = 12,\n",
        "    imgsz = 640,\n",
        ")"
      ]
    },
    {
      "cell_type": "code",
      "execution_count": 6,
      "metadata": {
        "colab": {
          "base_uri": "https://localhost:8080/"
        },
        "id": "6wNy7B8TLwM9",
        "outputId": "4302fa24-8a23-40f4-d606-5fc21fa11c90"
      },
      "outputs": [
        {
          "name": "stdout",
          "output_type": "stream",
          "text": [
            "Ultralytics 8.3.55 🚀 Python-3.10.12 torch-2.5.1+cu121 CUDA:0 (Tesla T4, 15102MiB)\n",
            "YOLO11n summary (fused): 238 layers, 2,583,322 parameters, 0 gradients, 6.3 GFLOPs\n"
          ]
        },
        {
          "name": "stderr",
          "output_type": "stream",
          "text": [
            "\u001b[34m\u001b[1mval: \u001b[0mScanning /content/PPE-2/test/labels... 120 images, 15 backgrounds, 0 corrupt: 100%|██████████| 120/120 [00:00<00:00, 2034.07it/s]"
          ]
        },
        {
          "name": "stdout",
          "output_type": "stream",
          "text": [
            "\u001b[34m\u001b[1mval: \u001b[0mNew cache created: /content/PPE-2/test/labels.cache\n"
          ]
        },
        {
          "name": "stderr",
          "output_type": "stream",
          "text": [
            "\n",
            "                 Class     Images  Instances      Box(P          R      mAP50  mAP50-95): 100%|██████████| 8/8 [00:03<00:00,  2.34it/s]\n"
          ]
        },
        {
          "name": "stdout",
          "output_type": "stream",
          "text": [
            "                   all        120        569      0.985      0.985      0.988      0.716\n",
            "               glasses         44         44      0.963      0.977      0.971       0.55\n",
            "                gloves         73        134          1       0.98      0.995      0.718\n",
            "                helmet         69         69      0.991          1      0.995      0.778\n",
            "                  mask         78         78      0.986      0.974       0.98      0.694\n",
            "          safety-shoes         85        171      0.977       0.98      0.989      0.706\n",
            "                  vest         73         73      0.993          1      0.995      0.847\n",
            "Speed: 0.7ms preprocess, 7.1ms inference, 0.0ms loss, 4.7ms postprocess per image\n",
            "Results saved to \u001b[1mruns/detect/val\u001b[0m\n"
          ]
        }
      ],
      "source": [
        "trained_model = YOLO('/content/runs/detect/train/weights/best.pt')\n",
        "\n",
        "metrics = trained_model.val(\n",
        "    data = '/content/PPE-2/data.yaml',\n",
        "    split = 'test'\n",
        ")"
      ]
    },
    {
      "cell_type": "code",
      "execution_count": 7,
      "metadata": {
        "colab": {
          "base_uri": "https://localhost:8080/"
        },
        "id": "LLsUJmh-Y9nB",
        "outputId": "a75ca127-83e6-4875-ce0a-b9a234f5e420"
      },
      "outputs": [
        {
          "name": "stdout",
          "output_type": "stream",
          "text": [
            "\n",
            "image 1/120 /content/PPE-2/test/images/Backgound_005_jpg.rf.98c5b0dd7234518fa23f6d74a2194537.jpg: 384x640 (no detections), 47.2ms\n",
            "image 2/120 /content/PPE-2/test/images/Backgound_017_jpg.rf.b0294b2b03605dde246b1a5b5495a9a0.jpg: 384x640 (no detections), 13.4ms\n",
            "image 3/120 /content/PPE-2/test/images/Backgound_027_jpg.rf.620e3e9e46e2e2c51402097b6fbc29ba.jpg: 384x640 (no detections), 8.2ms\n",
            "image 4/120 /content/PPE-2/test/images/image_101_jpg.rf.755a74b9fe8dae46407a7024d8986de4.jpg: 480x640 1 helmet, 2 safety-shoess, 1 vest, 56.8ms\n",
            "image 5/120 /content/PPE-2/test/images/image_103_jpg.rf.cf3a96cf1f79ce353aa6884f0b93cf08.jpg: 480x640 1 glasses, 2 glovess, 1 helmet, 1 mask, 2 safety-shoess, 1 vest, 9.1ms\n",
            "image 6/120 /content/PPE-2/test/images/image_104_jpg.rf.61eb3084e4125625aacfd937a15522c4.jpg: 480x640 1 glasses, 2 glovess, 1 helmet, 1 mask, 2 safety-shoess, 1 vest, 11.6ms\n",
            "image 7/120 /content/PPE-2/test/images/image_106_jpg.rf.dfa1acb03af41280b23d77fdb24e8bb1.jpg: 480x640 1 glasses, 1 gloves, 1 helmet, 2 safety-shoess, 1 vest, 9.2ms\n",
            "image 8/120 /content/PPE-2/test/images/image_107_jpg.rf.27a6025f4dcd12dfceec3516222bbcd0.jpg: 480x640 1 glasses, 3 glovess, 1 helmet, 1 mask, 2 safety-shoess, 1 vest, 8.9ms\n",
            "image 9/120 /content/PPE-2/test/images/image_108_jpg.rf.02b1228b2b3e097a90d4a47eb0131766.jpg: 480x640 1 glasses, 1 gloves, 1 helmet, 1 mask, 2 safety-shoess, 1 vest, 8.9ms\n",
            "image 10/120 /content/PPE-2/test/images/image_108_jpg.rf.3ab6a043a4ef4021466189cd71301b2b.jpg: 480x640 1 helmet, 1 mask, 2 safety-shoess, 1 vest, 8.8ms\n",
            "image 11/120 /content/PPE-2/test/images/image_113_jpg.rf.be3457ff2194e2f971290c1ee15f737f.jpg: 480x640 2 glovess, 1 helmet, 1 mask, 2 safety-shoess, 11.6ms\n",
            "image 12/120 /content/PPE-2/test/images/image_114_jpg.rf.adbe8a1ddf063093154431533a0301fd.jpg: 480x640 2 glovess, 1 helmet, 1 mask, 2 safety-shoess, 9.5ms\n",
            "image 13/120 /content/PPE-2/test/images/image_117_jpg.rf.71bea6bf33916cc5e9c4b6bb44539395.jpg: 480x640 (no detections), 9.4ms\n",
            "image 14/120 /content/PPE-2/test/images/image_119_jpg.rf.e5a30f337e56de5f6c104f95261c5369.jpg: 480x640 2 glovess, 1 helmet, 2 safety-shoess, 1 vest, 10.2ms\n",
            "image 15/120 /content/PPE-2/test/images/image_120_jpg.rf.7e14aafdf8dd9cfe5fe91f69a34bc7ec.jpg: 480x640 (no detections), 9.0ms\n",
            "image 16/120 /content/PPE-2/test/images/image_121_jpg.rf.e620ae50e91962efa74ff11e06541666.jpg: 480x640 1 gloves, 1 helmet, 2 safety-shoess, 1 vest, 8.7ms\n",
            "image 17/120 /content/PPE-2/test/images/image_124_jpg.rf.65009bb92fe6267b5256e9793ffafa87.jpg: 480x640 (no detections), 8.9ms\n",
            "image 18/120 /content/PPE-2/test/images/image_126_jpg.rf.1d3559aaa1da238f1a2e044481630c59.jpg: 480x640 2 glovess, 1 helmet, 2 safety-shoess, 1 vest, 8.4ms\n",
            "image 19/120 /content/PPE-2/test/images/image_127_jpg.rf.f5f083fc386d02d8b75c40dc14df410c.jpg: 480x640 2 safety-shoess, 8.5ms\n",
            "image 20/120 /content/PPE-2/test/images/image_128_jpg.rf.4e58ca1b4d6a3167ac83984fd53fcb2d.jpg: 480x640 2 glovess, 1 helmet, 2 safety-shoess, 1 vest, 8.8ms\n",
            "image 21/120 /content/PPE-2/test/images/image_129_jpg.rf.2d9df08a20dc9ece47b66e7d17ad4ca8.jpg: 480x640 (no detections), 10.2ms\n",
            "image 22/120 /content/PPE-2/test/images/image_12_jpg.rf.17805e492949dd6d8730ce15f45772e4.jpg: 384x640 1 glasses, 2 glovess, 1 helmet, 1 mask, 1 safety-shoes, 1 vest, 9.1ms\n",
            "image 23/120 /content/PPE-2/test/images/image_12_jpg.rf.77e2563dd442944833d15137f36bbaba.jpg: 480x640 1 gloves, 8.9ms\n",
            "image 24/120 /content/PPE-2/test/images/image_132_jpg.rf.acdd5d955c40b87c9e3905e975218793.jpg: 480x640 (no detections), 8.2ms\n",
            "image 25/120 /content/PPE-2/test/images/image_133_jpg.rf.7222b2e8d72a8f1738f9c14c25459172.jpg: 480x640 2 glovess, 1 helmet, 2 safety-shoess, 1 vest, 8.6ms\n",
            "image 26/120 /content/PPE-2/test/images/image_135_jpg.rf.427eee489d3c8a2fd127460dd99dc17b.jpg: 480x640 1 mask, 8.4ms\n",
            "image 27/120 /content/PPE-2/test/images/image_139_jpg.rf.14575196333c263b9f00cc13b85b7dfb.jpg: 480x640 1 gloves, 1 helmet, 2 masks, 1 safety-shoes, 2 vests, 8.0ms\n",
            "image 28/120 /content/PPE-2/test/images/image_13_jpg.rf.5e60a59be4268609af3f4e7eea495128.jpg: 480x640 1 glasses, 1 mask, 1 vest, 9.7ms\n",
            "image 29/120 /content/PPE-2/test/images/image_140_jpg.rf.ac2123846315925cba8e379f3074738b.jpg: 480x640 2 glovess, 1 helmet, 2 safety-shoess, 1 vest, 8.7ms\n",
            "image 30/120 /content/PPE-2/test/images/image_142_jpg.rf.2f30fceabc2fcfb88c5b21cfdb02b1ea.jpg: 480x640 1 glasses, 1 gloves, 1 helmet, 1 mask, 4 safety-shoess, 1 vest, 8.2ms\n",
            "image 31/120 /content/PPE-2/test/images/image_145_jpg.rf.d16129cdea8420de655ec1366791b279.jpg: 480x640 1 mask, 2 safety-shoess, 1 vest, 8.4ms\n",
            "image 32/120 /content/PPE-2/test/images/image_156_jpg.rf.0314b73cf97ac128e768975ccdea1a7d.jpg: 480x640 1 glasses, 2 glovess, 1 helmet, 2 safety-shoess, 1 vest, 9.2ms\n",
            "image 33/120 /content/PPE-2/test/images/image_160_jpg.rf.2aac48821f75e03161ecb47555268bee.jpg: 480x640 1 glasses, 2 glovess, 1 helmet, 1 mask, 2 safety-shoess, 1 vest, 8.2ms\n",
            "image 34/120 /content/PPE-2/test/images/image_161_jpg.rf.7cd149bb80f6d7eb04c2c2583e31b1ad.jpg: 480x640 1 glasses, 2 glovess, 1 helmet, 1 mask, 2 safety-shoess, 1 vest, 8.4ms\n",
            "image 35/120 /content/PPE-2/test/images/image_163_jpg.rf.20247cc501d82a96b8cb4059259799fb.jpg: 480x640 1 glasses, 2 glovess, 1 helmet, 1 mask, 2 safety-shoess, 1 vest, 8.9ms\n",
            "image 36/120 /content/PPE-2/test/images/image_163_jpg.rf.ebe78d1c3261bc3884a2ff0b682f80c6.jpg: 480x640 1 glasses, 2 glovess, 1 helmet, 1 mask, 2 safety-shoess, 1 vest, 8.5ms\n",
            "image 37/120 /content/PPE-2/test/images/image_163_jpg.rf.f2ee7dd70662366d2a97a0ade740de3a.jpg: 480x640 1 glasses, 2 glovess, 1 helmet, 1 mask, 2 safety-shoess, 1 vest, 8.5ms\n",
            "image 38/120 /content/PPE-2/test/images/image_164_jpg.rf.308a8a69f61aaaa7ac3c97123b753389.jpg: 480x640 1 glasses, 2 glovess, 1 helmet, 1 mask, 2 safety-shoess, 1 vest, 8.3ms\n",
            "image 39/120 /content/PPE-2/test/images/image_165_jpg.rf.9d3383fd9a35d113ea5bb293bd657533.jpg: 480x640 2 safety-shoess, 1 vest, 8.2ms\n",
            "image 40/120 /content/PPE-2/test/images/image_166_jpg.rf.2047f43d462e1f0fae531f1221771155.jpg: 480x640 1 glasses, 2 glovess, 1 helmet, 1 mask, 2 safety-shoess, 1 vest, 8.4ms\n",
            "image 41/120 /content/PPE-2/test/images/image_167_jpg.rf.a1553e780134d00463e6780a5e0fd210.jpg: 384x640 1 helmet, 1 mask, 3 safety-shoess, 9.6ms\n",
            "image 42/120 /content/PPE-2/test/images/image_168_jpg.rf.054cbb1701001a8062829d5a9fbeb3eb.jpg: 480x640 1 glasses, 2 glovess, 1 helmet, 1 mask, 2 safety-shoess, 1 vest, 9.3ms\n",
            "image 43/120 /content/PPE-2/test/images/image_169_jpg.rf.44cbb29e0f458c0a845689b15c8e80ae.jpg: 480x640 (no detections), 8.5ms\n",
            "image 44/120 /content/PPE-2/test/images/image_16_jpg.rf.4a4b6be9c7315dc0b54ac7f9b86e3997.jpg: 384x640 1 helmet, 1 mask, 2 safety-shoess, 8.5ms\n",
            "image 45/120 /content/PPE-2/test/images/image_176_jpg.rf.ce8ce4fa6de6012f93a6037f8de4b77a.jpg: 480x640 1 glasses, 2 glovess, 1 helmet, 1 mask, 2 safety-shoess, 1 vest, 8.9ms\n",
            "image 46/120 /content/PPE-2/test/images/image_177_jpg.rf.377eada625475f0c5216f952ead506ad.jpg: 480x640 1 glasses, 2 glovess, 1 helmet, 1 mask, 2 safety-shoess, 1 vest, 8.3ms\n",
            "image 47/120 /content/PPE-2/test/images/image_178_jpg.rf.bc9d41378d7ecc76c070374b7740bc2d.jpg: 480x640 1 glasses, 2 glovess, 1 helmet, 1 mask, 2 safety-shoess, 1 vest, 8.1ms\n",
            "image 48/120 /content/PPE-2/test/images/image_17_jpg.rf.61c5c6b22d6caa5cd79d38e84e29666f.jpg: 480x640 1 mask, 1 vest, 8.2ms\n",
            "image 49/120 /content/PPE-2/test/images/image_181_jpg.rf.25dddcbff860205abc34e643f966fd92.jpg: 480x640 1 glasses, 2 glovess, 1 helmet, 1 mask, 2 safety-shoess, 1 vest, 8.3ms\n",
            "image 50/120 /content/PPE-2/test/images/image_183_jpg.rf.5b7b024e0400b2bd5165cb7cb86108b8.jpg: 480x640 1 glasses, 2 glovess, 1 helmet, 1 mask, 2 safety-shoess, 1 vest, 8.1ms\n",
            "image 51/120 /content/PPE-2/test/images/image_183_jpg.rf.6be72d3d3db8ecd055fd10d10571f5fb.jpg: 480x640 1 glasses, 2 glovess, 1 helmet, 1 mask, 2 safety-shoess, 1 vest, 18.8ms\n",
            "image 52/120 /content/PPE-2/test/images/image_184_jpg.rf.77d6e7153a7655d893d9436ec47d5990.jpg: 480x640 2 safety-shoess, 1 vest, 8.4ms\n",
            "image 53/120 /content/PPE-2/test/images/image_186_jpg.rf.126fc904b7d90925082de06775770d16.jpg: 480x640 1 glasses, 2 glovess, 1 helmet, 1 mask, 2 safety-shoess, 1 vest, 8.5ms\n",
            "image 54/120 /content/PPE-2/test/images/image_18_jpg.rf.e2251f6553b8705cd12d0d314cb5e423.jpg: 384x640 1 glasses, 2 glovess, 1 helmet, 1 mask, 2 safety-shoess, 1 vest, 12.2ms\n",
            "image 55/120 /content/PPE-2/test/images/image_198_jpg.rf.a90a4dacabfc758907f8f7a12d938407.jpg: 480x640 2 glovess, 1 helmet, 1 mask, 2 safety-shoess, 1 vest, 11.8ms\n",
            "image 56/120 /content/PPE-2/test/images/image_199_jpg.rf.51e7afd89e034c273950dd99321c6dd9.jpg: 480x640 1 glasses, 2 glovess, 1 helmet, 1 mask, 2 safety-shoess, 1 vest, 11.1ms\n",
            "image 57/120 /content/PPE-2/test/images/image_200_jpg.rf.54a6db7a51320f4bb105e638286e5fa9.jpg: 480x640 2 glovess, 1 helmet, 1 mask, 2 safety-shoess, 1 vest, 11.8ms\n",
            "image 58/120 /content/PPE-2/test/images/image_201_jpg.rf.673fba6f99de57ae8b4bdc289f64c75b.jpg: 480x640 2 glovess, 1 mask, 2 safety-shoess, 1 vest, 10.7ms\n",
            "image 59/120 /content/PPE-2/test/images/image_202_jpg.rf.67608ca34331b951a6371f5f4f261251.jpg: 480x640 2 safety-shoess, 11.4ms\n",
            "image 60/120 /content/PPE-2/test/images/image_209_jpg.rf.06aecc4e37354ea5f0e28ae84c0dc631.jpg: 480x640 1 glasses, 2 glovess, 1 helmet, 1 mask, 2 safety-shoess, 1 vest, 11.2ms\n",
            "image 61/120 /content/PPE-2/test/images/image_213_jpg.rf.dd80251328a978e737effa73ac81f4a6.jpg: 480x640 2 safety-shoess, 12.9ms\n",
            "image 62/120 /content/PPE-2/test/images/image_21_jpg.rf.141f9eeb49018b0595f8848d8bbb3d1a.jpg: 480x640 1 mask, 11.5ms\n",
            "image 63/120 /content/PPE-2/test/images/image_225_jpg.rf.1cc1607ff1428e8f4fd36be426579b8c.jpg: 480x640 2 glovess, 1 helmet, 1 mask, 2 safety-shoess, 1 vest, 11.7ms\n",
            "image 64/120 /content/PPE-2/test/images/image_227_jpg.rf.b154ae8cf948120ec1074438a062ec89.jpg: 480x640 2 safety-shoess, 11.1ms\n",
            "image 65/120 /content/PPE-2/test/images/image_230_jpg.rf.97b3c34aedfbf6237adf505306d5637d.jpg: 480x640 2 glovess, 1 helmet, 1 mask, 2 safety-shoess, 1 vest, 12.1ms\n",
            "image 66/120 /content/PPE-2/test/images/image_232_jpg.rf.82110d0c9a779ee5826022bc2116ab71.jpg: 480x640 2 glassess, 2 glovess, 1 helmet, 1 mask, 2 safety-shoess, 1 vest, 11.5ms\n",
            "image 67/120 /content/PPE-2/test/images/image_232_jpg.rf.b4b369fded90b3dda3fb7c52976add42.jpg: 480x640 1 glasses, 2 glovess, 1 mask, 2 safety-shoess, 1 vest, 8.3ms\n",
            "image 68/120 /content/PPE-2/test/images/image_241_jpg.rf.4829314e2441de00824003e1edd75417.jpg: 480x640 1 glasses, 2 glovess, 1 mask, 2 safety-shoess, 1 vest, 8.1ms\n",
            "image 69/120 /content/PPE-2/test/images/image_244_jpg.rf.a78d4baa1558e3ca583591dd514a9c41.jpg: 480x640 1 safety-shoes, 8.3ms\n",
            "image 70/120 /content/PPE-2/test/images/image_253_jpg.rf.19c9909e9af8fe2873a93aebf6d5605f.jpg: 480x640 1 glasses, 1 gloves, 1 mask, 2 safety-shoess, 1 vest, 8.1ms\n",
            "image 71/120 /content/PPE-2/test/images/image_254_jpg.rf.3ff85cf72a01c6de051110f6863f67df.jpg: 480x640 1 glasses, 1 gloves, 1 mask, 2 safety-shoess, 1 vest, 9.3ms\n",
            "image 72/120 /content/PPE-2/test/images/image_25_jpg.rf.5da0d0b438faae77c86589f53d4a8464.jpg: 480x640 1 glasses, 2 glovess, 1 mask, 1 vest, 8.3ms\n",
            "image 73/120 /content/PPE-2/test/images/image_263_jpg.rf.0bafee2d35abfdc0373c21a6694a0d61.jpg: 480x640 1 safety-shoes, 1 vest, 8.5ms\n",
            "image 74/120 /content/PPE-2/test/images/image_263_jpg.rf.73788b6d4dc996cdb37af9245fd7e4cb.jpg: 480x640 2 glovess, 2 safety-shoess, 1 vest, 8.1ms\n",
            "image 75/120 /content/PPE-2/test/images/image_264_jpg.rf.c51f2005b5eaad0d08e291c0b95f9377.jpg: 480x640 2 glovess, 2 safety-shoess, 1 vest, 8.2ms\n",
            "image 76/120 /content/PPE-2/test/images/image_280_jpg.rf.f672f0b53a3d96157e2dde2ec463fef7.jpg: 480x640 (no detections), 9.4ms\n",
            "image 77/120 /content/PPE-2/test/images/image_28_jpg.rf.26df27b21bb048f11179ec4a3b6e3290.jpg: 480x640 1 glasses, 2 glovess, 1 mask, 1 vest, 8.5ms\n",
            "image 78/120 /content/PPE-2/test/images/image_292_jpg.rf.5cfd0ca7bf526b023f5b10d4a3f95618.jpg: 480x640 2 glovess, 2 safety-shoess, 9.6ms\n",
            "image 79/120 /content/PPE-2/test/images/image_297_jpg.rf.7b71e6994dd3854f4f0a16491f6af724.jpg: 480x640 2 glovess, 1 mask, 2 safety-shoess, 7.9ms\n",
            "image 80/120 /content/PPE-2/test/images/image_2_jpg.rf.b8b83cee77be2201d929042259728cb2.jpg: 384x640 (no detections), 8.6ms\n",
            "image 81/120 /content/PPE-2/test/images/image_302_jpg.rf.c84bed1541b76cf91e9c3ccfdfecc83d.jpg: 480x640 2 glovess, 1 mask, 2 safety-shoess, 8.8ms\n",
            "image 82/120 /content/PPE-2/test/images/image_314_jpg.rf.ca64186ebe314a637cc654e8674a2aad.jpg: 480x640 1 gloves, 1 mask, 2 safety-shoess, 8.3ms\n",
            "image 83/120 /content/PPE-2/test/images/image_318_jpg.rf.0236f6e81c32b8349c56b266bb073a99.jpg: 480x640 2 glovess, 1 mask, 2 safety-shoess, 8.1ms\n",
            "image 84/120 /content/PPE-2/test/images/image_327_jpg.rf.4442e3786bfa4406aa00dec1905b7256.jpg: 480x640 1 helmet, 7.9ms\n",
            "image 85/120 /content/PPE-2/test/images/image_33_jpg.rf.02a2b7677cb5fb6756434f1ccc4eacf9.jpg: 480x640 1 mask, 8.5ms\n",
            "image 86/120 /content/PPE-2/test/images/image_33_jpg.rf.347ea098506d33261146e48b3f2cb5e0.jpg: 480x640 1 glasses, 1 gloves, 1 helmet, 1 mask, 1 vest, 7.9ms\n",
            "image 87/120 /content/PPE-2/test/images/image_33_jpg.rf.8bb9f92f2a7741a1dc45833faf589bcf.jpg: 480x640 1 mask, 8.5ms\n",
            "image 88/120 /content/PPE-2/test/images/image_33_jpg.rf.e9a991f9b8bae174a2f59d7509666b0c.jpg: 384x640 1 gloves, 1 helmet, 2 safety-shoess, 2 vests, 9.0ms\n",
            "image 89/120 /content/PPE-2/test/images/image_35_jpg.rf.6fe2c2e66292ae08730f56f303a756e4.jpg: 480x640 (no detections), 8.7ms\n",
            "image 90/120 /content/PPE-2/test/images/image_38_jpg.rf.c7c0a1764e27ec6a2f3f8fecf8f74273.jpg: 384x640 1 glasses, 2 glovess, 1 helmet, 1 mask, 2 safety-shoess, 1 vest, 8.8ms\n",
            "image 91/120 /content/PPE-2/test/images/image_39_jpg.rf.ceb2d2c19e46ecf2df94b980aedc167c.jpg: 480x640 2 glassess, 1 gloves, 1 mask, 1 vest, 11.0ms\n",
            "image 92/120 /content/PPE-2/test/images/image_41_jpg.rf.0bf7b8c9da851b364a0e73e14eaf93c1.jpg: 480x640 1 mask, 1 safety-shoes, 8.2ms\n",
            "image 93/120 /content/PPE-2/test/images/image_42_jpg.rf.860cd165b637c432a80e0e296d8025e0.jpg: 480x640 1 glasses, 2 glovess, 1 helmet, 1 mask, 1 vest, 12.5ms\n",
            "image 94/120 /content/PPE-2/test/images/image_42_jpg.rf.9df109b1c53cf71a5c5a44f83ec462a3.jpg: 480x640 (no detections), 9.1ms\n",
            "image 95/120 /content/PPE-2/test/images/image_42_jpg.rf.a498592afcd384b01b7c09a963513085.jpg: 480x640 1 glasses, 2 glovess, 1 helmet, 1 mask, 1 vest, 7.9ms\n",
            "image 96/120 /content/PPE-2/test/images/image_45_jpg.rf.3d5e36dd39b4ffa9120e27daaba3c492.jpg: 480x640 1 mask, 2 safety-shoess, 8.1ms\n",
            "image 97/120 /content/PPE-2/test/images/image_50_jpg.rf.f51120861ed4c28d86d0b3d70cdbc0c9.jpg: 480x640 1 glasses, 2 glovess, 1 helmet, 1 mask, 1 safety-shoes, 1 vest, 8.8ms\n",
            "image 98/120 /content/PPE-2/test/images/image_53_jpg.rf.3115bb782eab45e62f339fd37824e8e9.jpg: 384x640 1 gloves, 1 helmet, 2 masks, 2 safety-shoess, 1 vest, 8.8ms\n",
            "image 99/120 /content/PPE-2/test/images/image_56_jpg.rf.9e5f9b13533fd0ef5e730a3d631fe6eb.jpg: 480x640 1 helmet, 1 mask, 8.9ms\n",
            "image 100/120 /content/PPE-2/test/images/image_58_jpg.rf.e567b46dc1e79c6b649a7cec312a7efe.jpg: 480x640 1 mask, 9.0ms\n",
            "image 101/120 /content/PPE-2/test/images/image_62_jpg.rf.4d51cd6a6aa84605eade9403390a2757.jpg: 480x640 1 glasses, 2 glovess, 1 helmet, 1 mask, 2 safety-shoess, 1 vest, 14.3ms\n",
            "image 102/120 /content/PPE-2/test/images/image_64_jpg.rf.380060b2eab5a87b94d78ebd9accfe1f.jpg: 480x640 1 helmet, 1 mask, 8.1ms\n",
            "image 103/120 /content/PPE-2/test/images/image_69_jpg.rf.688115532374251868fd06fd820dabf2.jpg: 384x640 1 helmet, 1 mask, 4 safety-shoess, 12.6ms\n",
            "image 104/120 /content/PPE-2/test/images/image_70_jpg.rf.25c3863cbf69aa9e3ab532544d8c7f5d.jpg: 480x640 1 mask, 12.5ms\n",
            "image 105/120 /content/PPE-2/test/images/image_71_jpg.rf.eb1e6c9d81fb44f8ae6a510f50e4e223.jpg: 480x640 (no detections), 12.1ms\n",
            "image 106/120 /content/PPE-2/test/images/image_72_jpg.rf.34afef5b81b1346da3e801f6531039cf.jpg: 480x640 1 glasses, 2 glovess, 1 helmet, 1 mask, 2 safety-shoess, 1 vest, 11.4ms\n",
            "image 107/120 /content/PPE-2/test/images/image_72_jpg.rf.3c7df017ef8bf6cc883a238640660100.jpg: 480x640 1 glasses, 2 glovess, 1 helmet, 1 mask, 2 safety-shoess, 1 vest, 11.4ms\n",
            "image 108/120 /content/PPE-2/test/images/image_72_jpg.rf.b45921d288c429272a00f7eb7205b7f9.jpg: 480x640 1 glasses, 2 glovess, 1 helmet, 1 mask, 2 safety-shoess, 1 vest, 11.3ms\n",
            "image 109/120 /content/PPE-2/test/images/image_76_jpg.rf.189dc09451e1c379f548f608684d4d16.jpg: 480x640 1 helmet, 2 masks, 2 safety-shoess, 11.6ms\n",
            "image 110/120 /content/PPE-2/test/images/image_78_jpg.rf.e2800f2f4f2c7b8306bb17a483ffa8d9.jpg: 480x640 1 glasses, 2 glovess, 1 helmet, 1 mask, 2 safety-shoess, 1 vest, 11.4ms\n",
            "image 111/120 /content/PPE-2/test/images/image_79_jpg.rf.708b4203ec478977bb8df6309c62714f.jpg: 480x640 2 glovess, 1 helmet, 2 safety-shoess, 12.2ms\n",
            "image 112/120 /content/PPE-2/test/images/image_81_jpg.rf.e80170789f40c9928e22127e336c6392.jpg: 480x640 1 glasses, 2 glovess, 1 helmet, 1 mask, 2 safety-shoess, 1 vest, 10.3ms\n",
            "image 113/120 /content/PPE-2/test/images/image_84_jpg.rf.23ef557e7e383b50ba544f17ce712b4a.jpg: 384x640 1 helmet, 1 mask, 2 safety-shoess, 9.3ms\n",
            "image 114/120 /content/PPE-2/test/images/image_89_jpg.rf.2da725a720724815f1460a3212a52173.jpg: 480x640 1 mask, 2 safety-shoess, 9.1ms\n",
            "image 115/120 /content/PPE-2/test/images/image_89_jpg.rf.bbc41649d090c250e63a89a0e0a9bb8b.jpg: 480x640 2 glovess, 1 helmet, 2 safety-shoess, 8.1ms\n",
            "image 116/120 /content/PPE-2/test/images/image_92_jpg.rf.420dd33676229cd179af84b1be10cd30.jpg: 480x640 1 glasses, 2 glovess, 1 helmet, 1 mask, 2 safety-shoess, 1 vest, 8.3ms\n",
            "image 117/120 /content/PPE-2/test/images/image_92_jpg.rf.4a63898ea276d5789786d3da43337ed0.jpg: 480x640 1 helmet, 1 safety-shoes, 8.2ms\n",
            "image 118/120 /content/PPE-2/test/images/image_94_jpg.rf.cc0a7001f7acd99098e73a6f062c22de.jpg: 480x640 1 helmet, 2 safety-shoess, 1 vest, 8.4ms\n",
            "image 119/120 /content/PPE-2/test/images/image_95_jpg.rf.5f64a36f77c39d6cc9e3c448770d0172.jpg: 480x640 1 glasses, 2 glovess, 1 helmet, 1 mask, 2 safety-shoess, 1 vest, 11.3ms\n",
            "image 120/120 /content/PPE-2/test/images/image_98_jpg.rf.6ae46c1c75e6c56fefdb42fff8c5dbd2.jpg: 480x640 1 helmet, 2 masks, 3 safety-shoess, 1 vest, 8.1ms\n",
            "Speed: 1.7ms preprocess, 10.2ms inference, 1.2ms postprocess per image at shape (1, 3, 480, 640)\n",
            "Results saved to \u001b[1mruns/detect/predict\u001b[0m\n"
          ]
        }
      ],
      "source": [
        "predictions = trained_model.predict(\n",
        "    source = '/content/PPE-2/test/images',\n",
        "    save = True\n",
        ")"
      ]
    },
    {
      "cell_type": "code",
      "execution_count": 8,
      "metadata": {
        "colab": {
          "base_uri": "https://localhost:8080/"
        },
        "id": "B79UW2GCjwVX",
        "outputId": "3e55d78c-365b-4453-fc32-957455ef1451"
      },
      "outputs": [
        {
          "name": "stdout",
          "output_type": "stream",
          "text": [
            "  adding: content/runs/ (stored 0%)\n",
            "  adding: content/runs/detect/ (stored 0%)\n",
            "  adding: content/runs/detect/train/ (stored 0%)\n",
            "  adding: content/runs/detect/train/args.yaml (deflated 53%)\n",
            "  adding: content/runs/detect/train/events.out.tfevents.1735232275.efe5df3aade1.2053.0 (deflated 92%)\n",
            "  adding: content/runs/detect/train/val_batch1_pred.jpg (deflated 5%)\n",
            "  adding: content/runs/detect/train/train_batch3640.jpg (deflated 8%)\n",
            "  adding: content/runs/detect/train/labels_correlogram.jpg (deflated 40%)\n",
            "  adding: content/runs/detect/train/PR_curve.png (deflated 16%)\n",
            "  adding: content/runs/detect/train/results.csv (deflated 61%)\n",
            "  adding: content/runs/detect/train/R_curve.png (deflated 10%)\n",
            "  adding: content/runs/detect/train/train_batch3641.jpg (deflated 8%)\n",
            "  adding: content/runs/detect/train/train_batch1.jpg (deflated 3%)\n",
            "  adding: content/runs/detect/train/labels.jpg (deflated 34%)\n",
            "  adding: content/runs/detect/train/results.png (deflated 8%)\n",
            "  adding: content/runs/detect/train/P_curve.png (deflated 12%)\n",
            "  adding: content/runs/detect/train/weights/ (stored 0%)\n",
            "  adding: content/runs/detect/train/weights/last.pt (deflated 10%)\n",
            "  adding: content/runs/detect/train/weights/best.pt (deflated 10%)\n",
            "  adding: content/runs/detect/train/val_batch0_labels.jpg (deflated 7%)\n",
            "  adding: content/runs/detect/train/val_batch0_pred.jpg (deflated 7%)\n",
            "  adding: content/runs/detect/train/train_batch0.jpg (deflated 4%)\n",
            "  adding: content/runs/detect/train/confusion_matrix_normalized.png (deflated 23%)\n",
            "  adding: content/runs/detect/train/val_batch2_labels.jpg (deflated 5%)\n",
            "  adding: content/runs/detect/train/val_batch1_labels.jpg (deflated 5%)\n",
            "  adding: content/runs/detect/train/train_batch2.jpg (deflated 4%)\n",
            "  adding: content/runs/detect/train/val_batch2_pred.jpg (deflated 5%)\n",
            "  adding: content/runs/detect/train/F1_curve.png (deflated 8%)\n",
            "  adding: content/runs/detect/train/confusion_matrix.png (deflated 27%)\n",
            "  adding: content/runs/detect/train/train_batch3642.jpg (deflated 7%)\n",
            "  adding: content/runs/detect/predict/ (stored 0%)\n",
            "  adding: content/runs/detect/predict/image_119_jpg.rf.e5a30f337e56de5f6c104f95261c5369.jpg (deflated 5%)\n",
            "  adding: content/runs/detect/predict/image_72_jpg.rf.b45921d288c429272a00f7eb7205b7f9.jpg (deflated 4%)\n",
            "  adding: content/runs/detect/predict/image_12_jpg.rf.17805e492949dd6d8730ce15f45772e4.jpg (deflated 5%)\n",
            "  adding: content/runs/detect/predict/image_280_jpg.rf.f672f0b53a3d96157e2dde2ec463fef7.jpg (deflated 6%)\n",
            "  adding: content/runs/detect/predict/image_120_jpg.rf.7e14aafdf8dd9cfe5fe91f69a34bc7ec.jpg (deflated 6%)\n",
            "  adding: content/runs/detect/predict/image_114_jpg.rf.adbe8a1ddf063093154431533a0301fd.jpg (deflated 4%)\n",
            "  adding: content/runs/detect/predict/image_128_jpg.rf.4e58ca1b4d6a3167ac83984fd53fcb2d.jpg (deflated 4%)\n",
            "  adding: content/runs/detect/predict/image_244_jpg.rf.a78d4baa1558e3ca583591dd514a9c41.jpg (deflated 6%)\n",
            "  adding: content/runs/detect/predict/image_71_jpg.rf.eb1e6c9d81fb44f8ae6a510f50e4e223.jpg (deflated 7%)\n",
            "  adding: content/runs/detect/predict/image_2_jpg.rf.b8b83cee77be2201d929042259728cb2.jpg (deflated 6%)\n",
            "  adding: content/runs/detect/predict/image_38_jpg.rf.c7c0a1764e27ec6a2f3f8fecf8f74273.jpg (deflated 5%)\n",
            "  adding: content/runs/detect/predict/image_181_jpg.rf.25dddcbff860205abc34e643f966fd92.jpg (deflated 4%)\n",
            "  adding: content/runs/detect/predict/image_13_jpg.rf.5e60a59be4268609af3f4e7eea495128.jpg (deflated 6%)\n",
            "  adding: content/runs/detect/predict/image_232_jpg.rf.b4b369fded90b3dda3fb7c52976add42.jpg (deflated 4%)\n",
            "  adding: content/runs/detect/predict/image_18_jpg.rf.e2251f6553b8705cd12d0d314cb5e423.jpg (deflated 4%)\n",
            "  adding: content/runs/detect/predict/image_209_jpg.rf.06aecc4e37354ea5f0e28ae84c0dc631.jpg (deflated 5%)\n",
            "  adding: content/runs/detect/predict/image_84_jpg.rf.23ef557e7e383b50ba544f17ce712b4a.jpg (deflated 5%)\n",
            "  adding: content/runs/detect/predict/image_42_jpg.rf.9df109b1c53cf71a5c5a44f83ec462a3.jpg (deflated 5%)\n",
            "  adding: content/runs/detect/predict/image_225_jpg.rf.1cc1607ff1428e8f4fd36be426579b8c.jpg (deflated 5%)\n",
            "  adding: content/runs/detect/predict/image_72_jpg.rf.34afef5b81b1346da3e801f6531039cf.jpg (deflated 4%)\n",
            "  adding: content/runs/detect/predict/image_78_jpg.rf.e2800f2f4f2c7b8306bb17a483ffa8d9.jpg (deflated 4%)\n",
            "  adding: content/runs/detect/predict/image_79_jpg.rf.708b4203ec478977bb8df6309c62714f.jpg (deflated 5%)\n",
            "  adding: content/runs/detect/predict/image_98_jpg.rf.6ae46c1c75e6c56fefdb42fff8c5dbd2.jpg (deflated 4%)\n",
            "  adding: content/runs/detect/predict/image_92_jpg.rf.420dd33676229cd179af84b1be10cd30.jpg (deflated 4%)\n",
            "  adding: content/runs/detect/predict/image_17_jpg.rf.61c5c6b22d6caa5cd79d38e84e29666f.jpg (deflated 6%)\n",
            "  adding: content/runs/detect/predict/image_33_jpg.rf.e9a991f9b8bae174a2f59d7509666b0c.jpg (deflated 5%)\n",
            "  adding: content/runs/detect/predict/Backgound_017_jpg.rf.b0294b2b03605dde246b1a5b5495a9a0.jpg (deflated 5%)\n",
            "  adding: content/runs/detect/predict/image_117_jpg.rf.71bea6bf33916cc5e9c4b6bb44539395.jpg (deflated 7%)\n",
            "  adding: content/runs/detect/predict/image_101_jpg.rf.755a74b9fe8dae46407a7024d8986de4.jpg (deflated 5%)\n",
            "  adding: content/runs/detect/predict/image_241_jpg.rf.4829314e2441de00824003e1edd75417.jpg (deflated 5%)\n",
            "  adding: content/runs/detect/predict/image_200_jpg.rf.54a6db7a51320f4bb105e638286e5fa9.jpg (deflated 4%)\n",
            "  adding: content/runs/detect/predict/image_178_jpg.rf.bc9d41378d7ecc76c070374b7740bc2d.jpg (deflated 4%)\n",
            "  adding: content/runs/detect/predict/image_263_jpg.rf.73788b6d4dc996cdb37af9245fd7e4cb.jpg (deflated 5%)\n",
            "  adding: content/runs/detect/predict/image_163_jpg.rf.ebe78d1c3261bc3884a2ff0b682f80c6.jpg (deflated 5%)\n",
            "  adding: content/runs/detect/predict/image_183_jpg.rf.6be72d3d3db8ecd055fd10d10571f5fb.jpg (deflated 4%)\n",
            "  adding: content/runs/detect/predict/image_33_jpg.rf.8bb9f92f2a7741a1dc45833faf589bcf.jpg (deflated 6%)\n",
            "  adding: content/runs/detect/predict/image_12_jpg.rf.77e2563dd442944833d15137f36bbaba.jpg (deflated 6%)\n",
            "  adding: content/runs/detect/predict/image_166_jpg.rf.2047f43d462e1f0fae531f1221771155.jpg (deflated 4%)\n",
            "  adding: content/runs/detect/predict/Backgound_005_jpg.rf.98c5b0dd7234518fa23f6d74a2194537.jpg (deflated 6%)\n",
            "  adding: content/runs/detect/predict/image_45_jpg.rf.3d5e36dd39b4ffa9120e27daaba3c492.jpg (deflated 6%)\n",
            "  adding: content/runs/detect/predict/image_42_jpg.rf.a498592afcd384b01b7c09a963513085.jpg (deflated 4%)\n",
            "  adding: content/runs/detect/predict/image_81_jpg.rf.e80170789f40c9928e22127e336c6392.jpg (deflated 4%)\n",
            "  adding: content/runs/detect/predict/image_165_jpg.rf.9d3383fd9a35d113ea5bb293bd657533.jpg (deflated 6%)\n",
            "  adding: content/runs/detect/predict/image_104_jpg.rf.61eb3084e4125625aacfd937a15522c4.jpg (deflated 4%)\n",
            "  adding: content/runs/detect/predict/image_33_jpg.rf.347ea098506d33261146e48b3f2cb5e0.jpg (deflated 5%)\n",
            "  adding: content/runs/detect/predict/image_42_jpg.rf.860cd165b637c432a80e0e296d8025e0.jpg (deflated 4%)\n",
            "  adding: content/runs/detect/predict/image_183_jpg.rf.5b7b024e0400b2bd5165cb7cb86108b8.jpg (deflated 4%)\n",
            "  adding: content/runs/detect/predict/image_72_jpg.rf.3c7df017ef8bf6cc883a238640660100.jpg (deflated 4%)\n",
            "  adding: content/runs/detect/predict/image_263_jpg.rf.0bafee2d35abfdc0373c21a6694a0d61.jpg (deflated 6%)\n",
            "  adding: content/runs/detect/predict/image_106_jpg.rf.dfa1acb03af41280b23d77fdb24e8bb1.jpg (deflated 4%)\n",
            "  adding: content/runs/detect/predict/image_202_jpg.rf.67608ca34331b951a6371f5f4f261251.jpg (deflated 5%)\n",
            "  adding: content/runs/detect/predict/image_92_jpg.rf.4a63898ea276d5789786d3da43337ed0.jpg (deflated 5%)\n",
            "  adding: content/runs/detect/predict/image_50_jpg.rf.f51120861ed4c28d86d0b3d70cdbc0c9.jpg (deflated 4%)\n",
            "  adding: content/runs/detect/predict/image_132_jpg.rf.acdd5d955c40b87c9e3905e975218793.jpg (deflated 6%)\n",
            "  adding: content/runs/detect/predict/image_62_jpg.rf.4d51cd6a6aa84605eade9403390a2757.jpg (deflated 4%)\n",
            "  adding: content/runs/detect/predict/image_35_jpg.rf.6fe2c2e66292ae08730f56f303a756e4.jpg (deflated 6%)\n",
            "  adding: content/runs/detect/predict/image_176_jpg.rf.ce8ce4fa6de6012f93a6037f8de4b77a.jpg (deflated 4%)\n",
            "  adding: content/runs/detect/predict/image_89_jpg.rf.2da725a720724815f1460a3212a52173.jpg (deflated 6%)\n",
            "  adding: content/runs/detect/predict/image_161_jpg.rf.7cd149bb80f6d7eb04c2c2583e31b1ad.jpg (deflated 5%)\n",
            "  adding: content/runs/detect/predict/image_227_jpg.rf.b154ae8cf948120ec1074438a062ec89.jpg (deflated 6%)\n",
            "  adding: content/runs/detect/predict/image_314_jpg.rf.ca64186ebe314a637cc654e8674a2aad.jpg (deflated 5%)\n",
            "  adding: content/runs/detect/predict/image_327_jpg.rf.4442e3786bfa4406aa00dec1905b7256.jpg (deflated 7%)\n",
            "  adding: content/runs/detect/predict/image_201_jpg.rf.673fba6f99de57ae8b4bdc289f64c75b.jpg (deflated 5%)\n",
            "  adding: content/runs/detect/predict/image_127_jpg.rf.f5f083fc386d02d8b75c40dc14df410c.jpg (deflated 6%)\n",
            "  adding: content/runs/detect/predict/image_133_jpg.rf.7222b2e8d72a8f1738f9c14c25459172.jpg (deflated 5%)\n",
            "  adding: content/runs/detect/predict/image_95_jpg.rf.5f64a36f77c39d6cc9e3c448770d0172.jpg (deflated 5%)\n",
            "  adding: content/runs/detect/predict/image_186_jpg.rf.126fc904b7d90925082de06775770d16.jpg (deflated 4%)\n",
            "  adding: content/runs/detect/predict/image_168_jpg.rf.054cbb1701001a8062829d5a9fbeb3eb.jpg (deflated 4%)\n",
            "  adding: content/runs/detect/predict/image_64_jpg.rf.380060b2eab5a87b94d78ebd9accfe1f.jpg (deflated 5%)\n",
            "  adding: content/runs/detect/predict/image_108_jpg.rf.3ab6a043a4ef4021466189cd71301b2b.jpg (deflated 5%)\n",
            "  adding: content/runs/detect/predict/image_292_jpg.rf.5cfd0ca7bf526b023f5b10d4a3f95618.jpg (deflated 5%)\n",
            "  adding: content/runs/detect/predict/image_198_jpg.rf.a90a4dacabfc758907f8f7a12d938407.jpg (deflated 4%)\n",
            "  adding: content/runs/detect/predict/image_297_jpg.rf.7b71e6994dd3854f4f0a16491f6af724.jpg (deflated 5%)\n",
            "  adding: content/runs/detect/predict/image_21_jpg.rf.141f9eeb49018b0595f8848d8bbb3d1a.jpg (deflated 6%)\n",
            "  adding: content/runs/detect/predict/image_232_jpg.rf.82110d0c9a779ee5826022bc2116ab71.jpg (deflated 4%)\n",
            "  adding: content/runs/detect/predict/image_41_jpg.rf.0bf7b8c9da851b364a0e73e14eaf93c1.jpg (deflated 6%)\n",
            "  adding: content/runs/detect/predict/image_140_jpg.rf.ac2123846315925cba8e379f3074738b.jpg (deflated 4%)\n",
            "  adding: content/runs/detect/predict/image_302_jpg.rf.c84bed1541b76cf91e9c3ccfdfecc83d.jpg (deflated 5%)\n",
            "  adding: content/runs/detect/predict/image_56_jpg.rf.9e5f9b13533fd0ef5e730a3d631fe6eb.jpg (deflated 5%)\n",
            "  adding: content/runs/detect/predict/Backgound_027_jpg.rf.620e3e9e46e2e2c51402097b6fbc29ba.jpg (deflated 5%)\n",
            "  adding: content/runs/detect/predict/image_76_jpg.rf.189dc09451e1c379f548f608684d4d16.jpg (deflated 5%)\n",
            "  adding: content/runs/detect/predict/image_16_jpg.rf.4a4b6be9c7315dc0b54ac7f9b86e3997.jpg (deflated 5%)\n",
            "  adding: content/runs/detect/predict/image_28_jpg.rf.26df27b21bb048f11179ec4a3b6e3290.jpg (deflated 4%)\n",
            "  adding: content/runs/detect/predict/image_199_jpg.rf.51e7afd89e034c273950dd99321c6dd9.jpg (deflated 5%)\n",
            "  adding: content/runs/detect/predict/image_184_jpg.rf.77d6e7153a7655d893d9436ec47d5990.jpg (deflated 5%)\n",
            "  adding: content/runs/detect/predict/image_254_jpg.rf.3ff85cf72a01c6de051110f6863f67df.jpg (deflated 4%)\n",
            "  adding: content/runs/detect/predict/image_230_jpg.rf.97b3c34aedfbf6237adf505306d5637d.jpg (deflated 4%)\n",
            "  adding: content/runs/detect/predict/image_139_jpg.rf.14575196333c263b9f00cc13b85b7dfb.jpg (deflated 5%)\n",
            "  adding: content/runs/detect/predict/image_69_jpg.rf.688115532374251868fd06fd820dabf2.jpg (deflated 5%)\n",
            "  adding: content/runs/detect/predict/image_70_jpg.rf.25c3863cbf69aa9e3ab532544d8c7f5d.jpg (deflated 6%)\n",
            "  adding: content/runs/detect/predict/image_167_jpg.rf.a1553e780134d00463e6780a5e0fd210.jpg (deflated 6%)\n",
            "  adding: content/runs/detect/predict/image_145_jpg.rf.d16129cdea8420de655ec1366791b279.jpg (deflated 5%)\n",
            "  adding: content/runs/detect/predict/image_25_jpg.rf.5da0d0b438faae77c86589f53d4a8464.jpg (deflated 5%)\n",
            "  adding: content/runs/detect/predict/image_126_jpg.rf.1d3559aaa1da238f1a2e044481630c59.jpg (deflated 4%)\n",
            "  adding: content/runs/detect/predict/image_213_jpg.rf.dd80251328a978e737effa73ac81f4a6.jpg (deflated 6%)\n",
            "  adding: content/runs/detect/predict/image_135_jpg.rf.427eee489d3c8a2fd127460dd99dc17b.jpg (deflated 6%)\n",
            "  adding: content/runs/detect/predict/image_177_jpg.rf.377eada625475f0c5216f952ead506ad.jpg (deflated 4%)\n",
            "  adding: content/runs/detect/predict/image_264_jpg.rf.c51f2005b5eaad0d08e291c0b95f9377.jpg (deflated 5%)\n",
            "  adding: content/runs/detect/predict/image_94_jpg.rf.cc0a7001f7acd99098e73a6f062c22de.jpg (deflated 5%)\n",
            "  adding: content/runs/detect/predict/image_163_jpg.rf.20247cc501d82a96b8cb4059259799fb.jpg (deflated 5%)\n",
            "  adding: content/runs/detect/predict/image_163_jpg.rf.f2ee7dd70662366d2a97a0ade740de3a.jpg (deflated 5%)\n",
            "  adding: content/runs/detect/predict/image_124_jpg.rf.65009bb92fe6267b5256e9793ffafa87.jpg (deflated 6%)\n",
            "  adding: content/runs/detect/predict/image_318_jpg.rf.0236f6e81c32b8349c56b266bb073a99.jpg (deflated 5%)\n",
            "  adding: content/runs/detect/predict/image_53_jpg.rf.3115bb782eab45e62f339fd37824e8e9.jpg (deflated 5%)\n",
            "  adding: content/runs/detect/predict/image_103_jpg.rf.cf3a96cf1f79ce353aa6884f0b93cf08.jpg (deflated 4%)\n",
            "  adding: content/runs/detect/predict/image_142_jpg.rf.2f30fceabc2fcfb88c5b21cfdb02b1ea.jpg (deflated 4%)\n",
            "  adding: content/runs/detect/predict/image_160_jpg.rf.2aac48821f75e03161ecb47555268bee.jpg (deflated 4%)\n",
            "  adding: content/runs/detect/predict/image_121_jpg.rf.e620ae50e91962efa74ff11e06541666.jpg (deflated 5%)\n",
            "  adding: content/runs/detect/predict/image_129_jpg.rf.2d9df08a20dc9ece47b66e7d17ad4ca8.jpg (deflated 7%)\n",
            "  adding: content/runs/detect/predict/image_58_jpg.rf.e567b46dc1e79c6b649a7cec312a7efe.jpg (deflated 5%)\n",
            "  adding: content/runs/detect/predict/image_169_jpg.rf.44cbb29e0f458c0a845689b15c8e80ae.jpg (deflated 6%)\n",
            "  adding: content/runs/detect/predict/image_164_jpg.rf.308a8a69f61aaaa7ac3c97123b753389.jpg (deflated 4%)\n",
            "  adding: content/runs/detect/predict/image_108_jpg.rf.02b1228b2b3e097a90d4a47eb0131766.jpg (deflated 4%)\n",
            "  adding: content/runs/detect/predict/image_253_jpg.rf.19c9909e9af8fe2873a93aebf6d5605f.jpg (deflated 5%)\n",
            "  adding: content/runs/detect/predict/image_107_jpg.rf.27a6025f4dcd12dfceec3516222bbcd0.jpg (deflated 5%)\n",
            "  adding: content/runs/detect/predict/image_39_jpg.rf.ceb2d2c19e46ecf2df94b980aedc167c.jpg (deflated 5%)\n",
            "  adding: content/runs/detect/predict/image_156_jpg.rf.0314b73cf97ac128e768975ccdea1a7d.jpg (deflated 4%)\n",
            "  adding: content/runs/detect/predict/image_33_jpg.rf.02a2b7677cb5fb6756434f1ccc4eacf9.jpg (deflated 6%)\n",
            "  adding: content/runs/detect/predict/image_89_jpg.rf.bbc41649d090c250e63a89a0e0a9bb8b.jpg (deflated 5%)\n",
            "  adding: content/runs/detect/predict/image_113_jpg.rf.be3457ff2194e2f971290c1ee15f737f.jpg (deflated 5%)\n",
            "  adding: content/runs/detect/val/ (stored 0%)\n",
            "  adding: content/runs/detect/val/val_batch1_pred.jpg (deflated 5%)\n",
            "  adding: content/runs/detect/val/PR_curve.png (deflated 19%)\n",
            "  adding: content/runs/detect/val/R_curve.png (deflated 10%)\n",
            "  adding: content/runs/detect/val/P_curve.png (deflated 12%)\n",
            "  adding: content/runs/detect/val/val_batch0_labels.jpg (deflated 6%)\n",
            "  adding: content/runs/detect/val/val_batch0_pred.jpg (deflated 6%)\n",
            "  adding: content/runs/detect/val/confusion_matrix_normalized.png (deflated 25%)\n",
            "  adding: content/runs/detect/val/val_batch2_labels.jpg (deflated 5%)\n",
            "  adding: content/runs/detect/val/val_batch1_labels.jpg (deflated 5%)\n",
            "  adding: content/runs/detect/val/val_batch2_pred.jpg (deflated 5%)\n",
            "  adding: content/runs/detect/val/F1_curve.png (deflated 8%)\n",
            "  adding: content/runs/detect/val/confusion_matrix.png (deflated 27%)\n"
          ]
        }
      ],
      "source": [
        "import locale\n",
        "locale.getpreferredencoding = lambda: \"UTF-8\"\n",
        "!zip -r runs.zip /content/runs"
      ]
    },
    {
      "cell_type": "code",
      "execution_count": null,
      "metadata": {
        "id": "t7pLt-usj9kS"
      },
      "outputs": [],
      "source": []
    }
  ],
  "metadata": {
    "accelerator": "GPU",
    "colab": {
      "gpuType": "T4",
      "provenance": []
    },
    "kernelspec": {
      "display_name": ".conda",
      "language": "python",
      "name": "python3"
    },
    "language_info": {
      "name": "python",
      "version": "3.11.10"
    }
  },
  "nbformat": 4,
  "nbformat_minor": 0
}
