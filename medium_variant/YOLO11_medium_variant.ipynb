{
  "cells": [
    {
      "cell_type": "code",
      "execution_count": 1,
      "metadata": {
        "colab": {
          "base_uri": "https://localhost:8080/"
        },
        "id": "qHV7k9xdBliT",
        "outputId": "4bd5eeeb-ddc1-4ee2-ec14-ea5acd38530a"
      },
      "outputs": [
        {
          "output_type": "stream",
          "name": "stdout",
          "text": [
            "Collecting roboflow\n",
            "  Downloading roboflow-1.1.50-py3-none-any.whl.metadata (9.7 kB)\n",
            "Requirement already satisfied: certifi in /usr/local/lib/python3.10/dist-packages (from roboflow) (2024.12.14)\n",
            "Collecting idna==3.7 (from roboflow)\n",
            "  Downloading idna-3.7-py3-none-any.whl.metadata (9.9 kB)\n",
            "Requirement already satisfied: cycler in /usr/local/lib/python3.10/dist-packages (from roboflow) (0.12.1)\n",
            "Requirement already satisfied: kiwisolver>=1.3.1 in /usr/local/lib/python3.10/dist-packages (from roboflow) (1.4.7)\n",
            "Requirement already satisfied: matplotlib in /usr/local/lib/python3.10/dist-packages (from roboflow) (3.8.0)\n",
            "Requirement already satisfied: numpy>=1.18.5 in /usr/local/lib/python3.10/dist-packages (from roboflow) (1.26.4)\n",
            "Requirement already satisfied: opencv-python-headless==4.10.0.84 in /usr/local/lib/python3.10/dist-packages (from roboflow) (4.10.0.84)\n",
            "Requirement already satisfied: Pillow>=7.1.2 in /usr/local/lib/python3.10/dist-packages (from roboflow) (11.0.0)\n",
            "Requirement already satisfied: python-dateutil in /usr/local/lib/python3.10/dist-packages (from roboflow) (2.8.2)\n",
            "Collecting python-dotenv (from roboflow)\n",
            "  Downloading python_dotenv-1.0.1-py3-none-any.whl.metadata (23 kB)\n",
            "Requirement already satisfied: requests in /usr/local/lib/python3.10/dist-packages (from roboflow) (2.32.3)\n",
            "Requirement already satisfied: six in /usr/local/lib/python3.10/dist-packages (from roboflow) (1.17.0)\n",
            "Requirement already satisfied: urllib3>=1.26.6 in /usr/local/lib/python3.10/dist-packages (from roboflow) (2.2.3)\n",
            "Requirement already satisfied: tqdm>=4.41.0 in /usr/local/lib/python3.10/dist-packages (from roboflow) (4.67.1)\n",
            "Requirement already satisfied: PyYAML>=5.3.1 in /usr/local/lib/python3.10/dist-packages (from roboflow) (6.0.2)\n",
            "Requirement already satisfied: requests-toolbelt in /usr/local/lib/python3.10/dist-packages (from roboflow) (1.0.0)\n",
            "Collecting filetype (from roboflow)\n",
            "  Downloading filetype-1.2.0-py2.py3-none-any.whl.metadata (6.5 kB)\n",
            "Requirement already satisfied: contourpy>=1.0.1 in /usr/local/lib/python3.10/dist-packages (from matplotlib->roboflow) (1.3.1)\n",
            "Requirement already satisfied: fonttools>=4.22.0 in /usr/local/lib/python3.10/dist-packages (from matplotlib->roboflow) (4.55.3)\n",
            "Requirement already satisfied: packaging>=20.0 in /usr/local/lib/python3.10/dist-packages (from matplotlib->roboflow) (24.2)\n",
            "Requirement already satisfied: pyparsing>=2.3.1 in /usr/local/lib/python3.10/dist-packages (from matplotlib->roboflow) (3.2.0)\n",
            "Requirement already satisfied: charset-normalizer<4,>=2 in /usr/local/lib/python3.10/dist-packages (from requests->roboflow) (3.4.0)\n",
            "Downloading roboflow-1.1.50-py3-none-any.whl (81 kB)\n",
            "\u001b[2K   \u001b[90m━━━━━━━━━━━━━━━━━━━━━━━━━━━━━━━━━━━━━━━━\u001b[0m \u001b[32m81.5/81.5 kB\u001b[0m \u001b[31m8.6 MB/s\u001b[0m eta \u001b[36m0:00:00\u001b[0m\n",
            "\u001b[?25hDownloading idna-3.7-py3-none-any.whl (66 kB)\n",
            "\u001b[2K   \u001b[90m━━━━━━━━━━━━━━━━━━━━━━━━━━━━━━━━━━━━━━━━\u001b[0m \u001b[32m66.8/66.8 kB\u001b[0m \u001b[31m7.1 MB/s\u001b[0m eta \u001b[36m0:00:00\u001b[0m\n",
            "\u001b[?25hDownloading filetype-1.2.0-py2.py3-none-any.whl (19 kB)\n",
            "Downloading python_dotenv-1.0.1-py3-none-any.whl (19 kB)\n",
            "Installing collected packages: filetype, python-dotenv, idna, roboflow\n",
            "  Attempting uninstall: idna\n",
            "    Found existing installation: idna 3.10\n",
            "    Uninstalling idna-3.10:\n",
            "      Successfully uninstalled idna-3.10\n",
            "Successfully installed filetype-1.2.0 idna-3.7 python-dotenv-1.0.1 roboflow-1.1.50\n",
            "loading Roboflow workspace...\n",
            "loading Roboflow project...\n"
          ]
        },
        {
          "output_type": "stream",
          "name": "stderr",
          "text": [
            "Downloading Dataset Version Zip in PPE-2 to yolov11:: 100%|██████████| 275905/275905 [00:17<00:00, 15938.73it/s]"
          ]
        },
        {
          "output_type": "stream",
          "name": "stdout",
          "text": [
            "\n"
          ]
        },
        {
          "output_type": "stream",
          "name": "stderr",
          "text": [
            "\n",
            "Extracting Dataset Version Zip to PPE-2 in yolov11:: 100%|██████████| 5006/5006 [00:01<00:00, 3139.02it/s]\n"
          ]
        }
      ],
      "source": [
        "!pip install roboflow\n",
        "\n",
        "from roboflow import Roboflow\n",
        "rf = Roboflow(api_key=\"p0tX2A6OSidcX7JTpQjX\")\n",
        "project = rf.workspace(\"ardi-csjyk\").project(\"ppe-hfjoc\")\n",
        "version = project.version(2)\n",
        "dataset = version.download(\"yolov11\")\n"
      ]
    },
    {
      "cell_type": "code",
      "execution_count": 2,
      "metadata": {
        "colab": {
          "base_uri": "https://localhost:8080/"
        },
        "id": "KXKk_SY5BbC5",
        "outputId": "8bb8351e-f38c-4d2e-9835-0a6b8c97df6f"
      },
      "outputs": [
        {
          "output_type": "stream",
          "name": "stdout",
          "text": [
            "Collecting ultralytics\n",
            "  Downloading ultralytics-8.3.55-py3-none-any.whl.metadata (35 kB)\n",
            "Requirement already satisfied: numpy>=1.23.0 in /usr/local/lib/python3.10/dist-packages (from ultralytics) (1.26.4)\n",
            "Requirement already satisfied: matplotlib>=3.3.0 in /usr/local/lib/python3.10/dist-packages (from ultralytics) (3.8.0)\n",
            "Requirement already satisfied: opencv-python>=4.6.0 in /usr/local/lib/python3.10/dist-packages (from ultralytics) (4.10.0.84)\n",
            "Requirement already satisfied: pillow>=7.1.2 in /usr/local/lib/python3.10/dist-packages (from ultralytics) (11.0.0)\n",
            "Requirement already satisfied: pyyaml>=5.3.1 in /usr/local/lib/python3.10/dist-packages (from ultralytics) (6.0.2)\n",
            "Requirement already satisfied: requests>=2.23.0 in /usr/local/lib/python3.10/dist-packages (from ultralytics) (2.32.3)\n",
            "Requirement already satisfied: scipy>=1.4.1 in /usr/local/lib/python3.10/dist-packages (from ultralytics) (1.13.1)\n",
            "Requirement already satisfied: torch>=1.8.0 in /usr/local/lib/python3.10/dist-packages (from ultralytics) (2.5.1+cu121)\n",
            "Requirement already satisfied: torchvision>=0.9.0 in /usr/local/lib/python3.10/dist-packages (from ultralytics) (0.20.1+cu121)\n",
            "Requirement already satisfied: tqdm>=4.64.0 in /usr/local/lib/python3.10/dist-packages (from ultralytics) (4.67.1)\n",
            "Requirement already satisfied: psutil in /usr/local/lib/python3.10/dist-packages (from ultralytics) (5.9.5)\n",
            "Requirement already satisfied: py-cpuinfo in /usr/local/lib/python3.10/dist-packages (from ultralytics) (9.0.0)\n",
            "Requirement already satisfied: pandas>=1.1.4 in /usr/local/lib/python3.10/dist-packages (from ultralytics) (2.2.2)\n",
            "Requirement already satisfied: seaborn>=0.11.0 in /usr/local/lib/python3.10/dist-packages (from ultralytics) (0.13.2)\n",
            "Collecting ultralytics-thop>=2.0.0 (from ultralytics)\n",
            "  Downloading ultralytics_thop-2.0.13-py3-none-any.whl.metadata (9.4 kB)\n",
            "Requirement already satisfied: contourpy>=1.0.1 in /usr/local/lib/python3.10/dist-packages (from matplotlib>=3.3.0->ultralytics) (1.3.1)\n",
            "Requirement already satisfied: cycler>=0.10 in /usr/local/lib/python3.10/dist-packages (from matplotlib>=3.3.0->ultralytics) (0.12.1)\n",
            "Requirement already satisfied: fonttools>=4.22.0 in /usr/local/lib/python3.10/dist-packages (from matplotlib>=3.3.0->ultralytics) (4.55.3)\n",
            "Requirement already satisfied: kiwisolver>=1.0.1 in /usr/local/lib/python3.10/dist-packages (from matplotlib>=3.3.0->ultralytics) (1.4.7)\n",
            "Requirement already satisfied: packaging>=20.0 in /usr/local/lib/python3.10/dist-packages (from matplotlib>=3.3.0->ultralytics) (24.2)\n",
            "Requirement already satisfied: pyparsing>=2.3.1 in /usr/local/lib/python3.10/dist-packages (from matplotlib>=3.3.0->ultralytics) (3.2.0)\n",
            "Requirement already satisfied: python-dateutil>=2.7 in /usr/local/lib/python3.10/dist-packages (from matplotlib>=3.3.0->ultralytics) (2.8.2)\n",
            "Requirement already satisfied: pytz>=2020.1 in /usr/local/lib/python3.10/dist-packages (from pandas>=1.1.4->ultralytics) (2024.2)\n",
            "Requirement already satisfied: tzdata>=2022.7 in /usr/local/lib/python3.10/dist-packages (from pandas>=1.1.4->ultralytics) (2024.2)\n",
            "Requirement already satisfied: charset-normalizer<4,>=2 in /usr/local/lib/python3.10/dist-packages (from requests>=2.23.0->ultralytics) (3.4.0)\n",
            "Requirement already satisfied: idna<4,>=2.5 in /usr/local/lib/python3.10/dist-packages (from requests>=2.23.0->ultralytics) (3.7)\n",
            "Requirement already satisfied: urllib3<3,>=1.21.1 in /usr/local/lib/python3.10/dist-packages (from requests>=2.23.0->ultralytics) (2.2.3)\n",
            "Requirement already satisfied: certifi>=2017.4.17 in /usr/local/lib/python3.10/dist-packages (from requests>=2.23.0->ultralytics) (2024.12.14)\n",
            "Requirement already satisfied: filelock in /usr/local/lib/python3.10/dist-packages (from torch>=1.8.0->ultralytics) (3.16.1)\n",
            "Requirement already satisfied: typing-extensions>=4.8.0 in /usr/local/lib/python3.10/dist-packages (from torch>=1.8.0->ultralytics) (4.12.2)\n",
            "Requirement already satisfied: networkx in /usr/local/lib/python3.10/dist-packages (from torch>=1.8.0->ultralytics) (3.4.2)\n",
            "Requirement already satisfied: jinja2 in /usr/local/lib/python3.10/dist-packages (from torch>=1.8.0->ultralytics) (3.1.4)\n",
            "Requirement already satisfied: fsspec in /usr/local/lib/python3.10/dist-packages (from torch>=1.8.0->ultralytics) (2024.10.0)\n",
            "Requirement already satisfied: sympy==1.13.1 in /usr/local/lib/python3.10/dist-packages (from torch>=1.8.0->ultralytics) (1.13.1)\n",
            "Requirement already satisfied: mpmath<1.4,>=1.1.0 in /usr/local/lib/python3.10/dist-packages (from sympy==1.13.1->torch>=1.8.0->ultralytics) (1.3.0)\n",
            "Requirement already satisfied: six>=1.5 in /usr/local/lib/python3.10/dist-packages (from python-dateutil>=2.7->matplotlib>=3.3.0->ultralytics) (1.17.0)\n",
            "Requirement already satisfied: MarkupSafe>=2.0 in /usr/local/lib/python3.10/dist-packages (from jinja2->torch>=1.8.0->ultralytics) (3.0.2)\n",
            "Downloading ultralytics-8.3.55-py3-none-any.whl (904 kB)\n",
            "\u001b[2K   \u001b[90m━━━━━━━━━━━━━━━━━━━━━━━━━━━━━━━━━━━━━━━━\u001b[0m \u001b[32m904.3/904.3 kB\u001b[0m \u001b[31m33.5 MB/s\u001b[0m eta \u001b[36m0:00:00\u001b[0m\n",
            "\u001b[?25hDownloading ultralytics_thop-2.0.13-py3-none-any.whl (26 kB)\n",
            "Installing collected packages: ultralytics-thop, ultralytics\n",
            "Successfully installed ultralytics-8.3.55 ultralytics-thop-2.0.13\n"
          ]
        }
      ],
      "source": [
        "!pip install ultralytics"
      ]
    },
    {
      "cell_type": "code",
      "execution_count": 3,
      "metadata": {
        "colab": {
          "base_uri": "https://localhost:8080/"
        },
        "id": "iejdbbNLBn89",
        "outputId": "6c090373-e0a9-492f-95ba-1abb7e5b54c2"
      },
      "outputs": [
        {
          "output_type": "stream",
          "name": "stdout",
          "text": [
            "Creating new Ultralytics Settings v0.0.6 file ✅ \n",
            "View Ultralytics Settings with 'yolo settings' or at '/root/.config/Ultralytics/settings.json'\n",
            "Update Settings with 'yolo settings key=value', i.e. 'yolo settings runs_dir=path/to/dir'. For help see https://docs.ultralytics.com/quickstart/#ultralytics-settings.\n",
            "Downloading https://github.com/ultralytics/assets/releases/download/v8.3.0/yolo11m.pt to 'yolo11m.pt'...\n"
          ]
        },
        {
          "output_type": "stream",
          "name": "stderr",
          "text": [
            "100%|██████████| 38.8M/38.8M [00:00<00:00, 51.4MB/s]\n"
          ]
        }
      ],
      "source": [
        "from ultralytics import YOLO\n",
        "\n",
        "model = YOLO('yolo11m.pt')"
      ]
    },
    {
      "cell_type": "code",
      "execution_count": 4,
      "metadata": {
        "colab": {
          "base_uri": "https://localhost:8080/"
        },
        "id": "78H3XPRaBvTy",
        "outputId": "43803962-51f7-41e4-d75e-8bbb0783c65b"
      },
      "outputs": [
        {
          "output_type": "stream",
          "name": "stdout",
          "text": [
            "Ultralytics 8.3.55 🚀 Python-3.10.12 torch-2.5.1+cu121 CUDA:0 (Tesla T4, 15102MiB)\n",
            "\u001b[34m\u001b[1mengine/trainer: \u001b[0mtask=detect, mode=train, model=yolo11m.pt, data=/content/PPE-2/data.yaml, epochs=30, time=None, patience=100, batch=12, imgsz=640, save=True, save_period=-1, cache=False, device=None, workers=8, project=None, name=train, exist_ok=False, pretrained=True, optimizer=auto, verbose=True, seed=0, deterministic=True, single_cls=False, rect=False, cos_lr=False, close_mosaic=10, resume=False, amp=True, fraction=1.0, profile=False, freeze=None, multi_scale=False, overlap_mask=True, mask_ratio=4, dropout=0.0, val=True, split=val, save_json=False, save_hybrid=False, conf=None, iou=0.7, max_det=300, half=False, dnn=False, plots=True, source=None, vid_stride=1, stream_buffer=False, visualize=False, augment=False, agnostic_nms=False, classes=None, retina_masks=False, embed=None, show=False, save_frames=False, save_txt=False, save_conf=False, save_crop=False, show_labels=True, show_conf=True, show_boxes=True, line_width=None, format=torchscript, keras=False, optimize=False, int8=False, dynamic=False, simplify=True, opset=None, workspace=None, nms=False, lr0=0.01, lrf=0.01, momentum=0.937, weight_decay=0.0005, warmup_epochs=3.0, warmup_momentum=0.8, warmup_bias_lr=0.1, box=7.5, cls=0.5, dfl=1.5, pose=12.0, kobj=1.0, nbs=64, hsv_h=0.015, hsv_s=0.7, hsv_v=0.4, degrees=0.0, translate=0.1, scale=0.5, shear=0.0, perspective=0.0, flipud=0.0, fliplr=0.5, bgr=0.0, mosaic=1.0, mixup=0.0, copy_paste=0.0, copy_paste_mode=flip, auto_augment=randaugment, erasing=0.4, crop_fraction=1.0, cfg=None, tracker=botsort.yaml, save_dir=runs/detect/train\n",
            "Downloading https://ultralytics.com/assets/Arial.ttf to '/root/.config/Ultralytics/Arial.ttf'...\n"
          ]
        },
        {
          "output_type": "stream",
          "name": "stderr",
          "text": [
            "100%|██████████| 755k/755k [00:00<00:00, 80.7MB/s]\n"
          ]
        },
        {
          "output_type": "stream",
          "name": "stdout",
          "text": [
            "Overriding model.yaml nc=80 with nc=6\n",
            "\n",
            "                   from  n    params  module                                       arguments                     \n",
            "  0                  -1  1      1856  ultralytics.nn.modules.conv.Conv             [3, 64, 3, 2]                 \n",
            "  1                  -1  1     73984  ultralytics.nn.modules.conv.Conv             [64, 128, 3, 2]               \n",
            "  2                  -1  1    111872  ultralytics.nn.modules.block.C3k2            [128, 256, 1, True, 0.25]     \n",
            "  3                  -1  1    590336  ultralytics.nn.modules.conv.Conv             [256, 256, 3, 2]              \n",
            "  4                  -1  1    444928  ultralytics.nn.modules.block.C3k2            [256, 512, 1, True, 0.25]     \n",
            "  5                  -1  1   2360320  ultralytics.nn.modules.conv.Conv             [512, 512, 3, 2]              \n",
            "  6                  -1  1   1380352  ultralytics.nn.modules.block.C3k2            [512, 512, 1, True]           \n",
            "  7                  -1  1   2360320  ultralytics.nn.modules.conv.Conv             [512, 512, 3, 2]              \n",
            "  8                  -1  1   1380352  ultralytics.nn.modules.block.C3k2            [512, 512, 1, True]           \n",
            "  9                  -1  1    656896  ultralytics.nn.modules.block.SPPF            [512, 512, 5]                 \n",
            " 10                  -1  1    990976  ultralytics.nn.modules.block.C2PSA           [512, 512, 1]                 \n",
            " 11                  -1  1         0  torch.nn.modules.upsampling.Upsample         [None, 2, 'nearest']          \n",
            " 12             [-1, 6]  1         0  ultralytics.nn.modules.conv.Concat           [1]                           \n",
            " 13                  -1  1   1642496  ultralytics.nn.modules.block.C3k2            [1024, 512, 1, True]          \n",
            " 14                  -1  1         0  torch.nn.modules.upsampling.Upsample         [None, 2, 'nearest']          \n",
            " 15             [-1, 4]  1         0  ultralytics.nn.modules.conv.Concat           [1]                           \n",
            " 16                  -1  1    542720  ultralytics.nn.modules.block.C3k2            [1024, 256, 1, True]          \n",
            " 17                  -1  1    590336  ultralytics.nn.modules.conv.Conv             [256, 256, 3, 2]              \n",
            " 18            [-1, 13]  1         0  ultralytics.nn.modules.conv.Concat           [1]                           \n",
            " 19                  -1  1   1511424  ultralytics.nn.modules.block.C3k2            [768, 512, 1, True]           \n",
            " 20                  -1  1   2360320  ultralytics.nn.modules.conv.Conv             [512, 512, 3, 2]              \n",
            " 21            [-1, 10]  1         0  ultralytics.nn.modules.conv.Concat           [1]                           \n",
            " 22                  -1  1   1642496  ultralytics.nn.modules.block.C3k2            [1024, 512, 1, True]          \n",
            " 23        [16, 19, 22]  1   1415650  ultralytics.nn.modules.head.Detect           [6, [256, 512, 512]]          \n",
            "YOLO11m summary: 409 layers, 20,057,634 parameters, 20,057,618 gradients, 68.2 GFLOPs\n",
            "\n",
            "Transferred 643/649 items from pretrained weights\n",
            "\u001b[34m\u001b[1mTensorBoard: \u001b[0mStart with 'tensorboard --logdir runs/detect/train', view at http://localhost:6006/\n",
            "Freezing layer 'model.23.dfl.conv.weight'\n",
            "\u001b[34m\u001b[1mAMP: \u001b[0mrunning Automatic Mixed Precision (AMP) checks...\n",
            "Downloading https://github.com/ultralytics/assets/releases/download/v8.3.0/yolo11n.pt to 'yolo11n.pt'...\n"
          ]
        },
        {
          "output_type": "stream",
          "name": "stderr",
          "text": [
            "100%|██████████| 5.35M/5.35M [00:00<00:00, 84.0MB/s]\n"
          ]
        },
        {
          "output_type": "stream",
          "name": "stdout",
          "text": [
            "\u001b[34m\u001b[1mAMP: \u001b[0mchecks passed ✅\n"
          ]
        },
        {
          "output_type": "stream",
          "name": "stderr",
          "text": [
            "\u001b[34m\u001b[1mtrain: \u001b[0mScanning /content/PPE-2/train/labels... 2178 images, 312 backgrounds, 0 corrupt: 100%|██████████| 2178/2178 [00:01<00:00, 1652.26it/s]\n"
          ]
        },
        {
          "output_type": "stream",
          "name": "stdout",
          "text": [
            "\u001b[34m\u001b[1mtrain: \u001b[0mNew cache created: /content/PPE-2/train/labels.cache\n",
            "\u001b[34m\u001b[1malbumentations: \u001b[0mBlur(p=0.01, blur_limit=(3, 7)), MedianBlur(p=0.01, blur_limit=(3, 7)), ToGray(p=0.01, num_output_channels=3, method='weighted_average'), CLAHE(p=0.01, clip_limit=(1.0, 4.0), tile_grid_size=(8, 8))\n"
          ]
        },
        {
          "output_type": "stream",
          "name": "stderr",
          "text": [
            "A new version of Albumentations is available: 1.4.24 (you have 1.4.20). Upgrade using: pip install -U albumentations. To disable automatic update checks, set the environment variable NO_ALBUMENTATIONS_UPDATE to 1.\n",
            "\u001b[34m\u001b[1mval: \u001b[0mScanning /content/PPE-2/valid/labels... 199 images, 29 backgrounds, 0 corrupt: 100%|██████████| 199/199 [00:00<00:00, 1354.14it/s]"
          ]
        },
        {
          "output_type": "stream",
          "name": "stdout",
          "text": [
            "\u001b[34m\u001b[1mval: \u001b[0mNew cache created: /content/PPE-2/valid/labels.cache\n"
          ]
        },
        {
          "output_type": "stream",
          "name": "stderr",
          "text": [
            "\n"
          ]
        },
        {
          "output_type": "stream",
          "name": "stdout",
          "text": [
            "Plotting labels to runs/detect/train/labels.jpg... \n",
            "\u001b[34m\u001b[1moptimizer:\u001b[0m 'optimizer=auto' found, ignoring 'lr0=0.01' and 'momentum=0.937' and determining best 'optimizer', 'lr0' and 'momentum' automatically... \n",
            "\u001b[34m\u001b[1moptimizer:\u001b[0m AdamW(lr=0.001, momentum=0.9) with parameter groups 106 weight(decay=0.0), 113 weight(decay=0.00046875), 112 bias(decay=0.0)\n",
            "\u001b[34m\u001b[1mTensorBoard: \u001b[0mmodel graph visualization added ✅\n",
            "Image sizes 640 train, 640 val\n",
            "Using 2 dataloader workers\n",
            "Logging results to \u001b[1mruns/detect/train\u001b[0m\n",
            "Starting training for 30 epochs...\n",
            "\n",
            "      Epoch    GPU_mem   box_loss   cls_loss   dfl_loss  Instances       Size\n"
          ]
        },
        {
          "output_type": "stream",
          "name": "stderr",
          "text": [
            "       1/30       6.7G      1.342      1.307      1.177         20        640: 100%|██████████| 182/182 [01:24<00:00,  2.15it/s]\n",
            "                 Class     Images  Instances      Box(P          R      mAP50  mAP50-95): 100%|██████████| 9/9 [00:03<00:00,  2.36it/s]"
          ]
        },
        {
          "output_type": "stream",
          "name": "stdout",
          "text": [
            "                   all        199        904      0.883      0.856      0.895      0.582\n"
          ]
        },
        {
          "output_type": "stream",
          "name": "stderr",
          "text": [
            "\n"
          ]
        },
        {
          "output_type": "stream",
          "name": "stdout",
          "text": [
            "\n",
            "      Epoch    GPU_mem   box_loss   cls_loss   dfl_loss  Instances       Size\n"
          ]
        },
        {
          "output_type": "stream",
          "name": "stderr",
          "text": [
            "       2/30      6.62G      1.235     0.7821      1.115         56        640: 100%|██████████| 182/182 [01:23<00:00,  2.18it/s]\n",
            "                 Class     Images  Instances      Box(P          R      mAP50  mAP50-95): 100%|██████████| 9/9 [00:02<00:00,  3.89it/s]"
          ]
        },
        {
          "output_type": "stream",
          "name": "stdout",
          "text": [
            "                   all        199        904      0.855      0.892      0.943      0.624\n"
          ]
        },
        {
          "output_type": "stream",
          "name": "stderr",
          "text": [
            "\n"
          ]
        },
        {
          "output_type": "stream",
          "name": "stdout",
          "text": [
            "\n",
            "      Epoch    GPU_mem   box_loss   cls_loss   dfl_loss  Instances       Size\n"
          ]
        },
        {
          "output_type": "stream",
          "name": "stderr",
          "text": [
            "       3/30      6.72G      1.245      0.763      1.124         35        640: 100%|██████████| 182/182 [01:22<00:00,  2.20it/s]\n",
            "                 Class     Images  Instances      Box(P          R      mAP50  mAP50-95): 100%|██████████| 9/9 [00:03<00:00,  2.93it/s]"
          ]
        },
        {
          "output_type": "stream",
          "name": "stdout",
          "text": [
            "                   all        199        904      0.904      0.887      0.939      0.628\n"
          ]
        },
        {
          "output_type": "stream",
          "name": "stderr",
          "text": [
            "\n"
          ]
        },
        {
          "output_type": "stream",
          "name": "stdout",
          "text": [
            "\n",
            "      Epoch    GPU_mem   box_loss   cls_loss   dfl_loss  Instances       Size\n"
          ]
        },
        {
          "output_type": "stream",
          "name": "stderr",
          "text": [
            "       4/30      6.64G      1.223     0.7295      1.115         20        640: 100%|██████████| 182/182 [01:22<00:00,  2.21it/s]\n",
            "                 Class     Images  Instances      Box(P          R      mAP50  mAP50-95): 100%|██████████| 9/9 [00:02<00:00,  3.92it/s]"
          ]
        },
        {
          "output_type": "stream",
          "name": "stdout",
          "text": [
            "                   all        199        904       0.93      0.906      0.938       0.63\n"
          ]
        },
        {
          "output_type": "stream",
          "name": "stderr",
          "text": [
            "\n"
          ]
        },
        {
          "output_type": "stream",
          "name": "stdout",
          "text": [
            "\n",
            "      Epoch    GPU_mem   box_loss   cls_loss   dfl_loss  Instances       Size\n"
          ]
        },
        {
          "output_type": "stream",
          "name": "stderr",
          "text": [
            "       5/30      6.64G      1.188     0.6691      1.096         52        640: 100%|██████████| 182/182 [01:22<00:00,  2.20it/s]\n",
            "                 Class     Images  Instances      Box(P          R      mAP50  mAP50-95): 100%|██████████| 9/9 [00:02<00:00,  3.92it/s]"
          ]
        },
        {
          "output_type": "stream",
          "name": "stdout",
          "text": [
            "                   all        199        904       0.95      0.924      0.959      0.661\n"
          ]
        },
        {
          "output_type": "stream",
          "name": "stderr",
          "text": [
            "\n"
          ]
        },
        {
          "output_type": "stream",
          "name": "stdout",
          "text": [
            "\n",
            "      Epoch    GPU_mem   box_loss   cls_loss   dfl_loss  Instances       Size\n"
          ]
        },
        {
          "output_type": "stream",
          "name": "stderr",
          "text": [
            "       6/30      6.65G      1.164     0.6378      1.087         32        640: 100%|██████████| 182/182 [01:22<00:00,  2.20it/s]\n",
            "                 Class     Images  Instances      Box(P          R      mAP50  mAP50-95): 100%|██████████| 9/9 [00:02<00:00,  3.89it/s]"
          ]
        },
        {
          "output_type": "stream",
          "name": "stdout",
          "text": [
            "                   all        199        904      0.964      0.938      0.964      0.679\n"
          ]
        },
        {
          "output_type": "stream",
          "name": "stderr",
          "text": [
            "\n"
          ]
        },
        {
          "output_type": "stream",
          "name": "stdout",
          "text": [
            "\n",
            "      Epoch    GPU_mem   box_loss   cls_loss   dfl_loss  Instances       Size\n"
          ]
        },
        {
          "output_type": "stream",
          "name": "stderr",
          "text": [
            "       7/30      6.67G      1.127     0.6129      1.068         54        640: 100%|██████████| 182/182 [01:22<00:00,  2.20it/s]\n",
            "                 Class     Images  Instances      Box(P          R      mAP50  mAP50-95): 100%|██████████| 9/9 [00:02<00:00,  3.23it/s]"
          ]
        },
        {
          "output_type": "stream",
          "name": "stdout",
          "text": [
            "                   all        199        904      0.958      0.951      0.966      0.675\n"
          ]
        },
        {
          "output_type": "stream",
          "name": "stderr",
          "text": [
            "\n"
          ]
        },
        {
          "output_type": "stream",
          "name": "stdout",
          "text": [
            "\n",
            "      Epoch    GPU_mem   box_loss   cls_loss   dfl_loss  Instances       Size\n"
          ]
        },
        {
          "output_type": "stream",
          "name": "stderr",
          "text": [
            "       8/30      6.66G      1.102      0.591      1.058         48        640: 100%|██████████| 182/182 [01:22<00:00,  2.21it/s]\n",
            "                 Class     Images  Instances      Box(P          R      mAP50  mAP50-95): 100%|██████████| 9/9 [00:02<00:00,  3.36it/s]"
          ]
        },
        {
          "output_type": "stream",
          "name": "stdout",
          "text": [
            "                   all        199        904      0.971      0.944      0.969      0.678\n"
          ]
        },
        {
          "output_type": "stream",
          "name": "stderr",
          "text": [
            "\n"
          ]
        },
        {
          "output_type": "stream",
          "name": "stdout",
          "text": [
            "\n",
            "      Epoch    GPU_mem   box_loss   cls_loss   dfl_loss  Instances       Size\n"
          ]
        },
        {
          "output_type": "stream",
          "name": "stderr",
          "text": [
            "       9/30      6.63G      1.093     0.5692       1.05         41        640: 100%|██████████| 182/182 [01:22<00:00,  2.20it/s]\n",
            "                 Class     Images  Instances      Box(P          R      mAP50  mAP50-95): 100%|██████████| 9/9 [00:02<00:00,  3.88it/s]"
          ]
        },
        {
          "output_type": "stream",
          "name": "stdout",
          "text": [
            "                   all        199        904      0.969       0.93      0.964      0.687\n"
          ]
        },
        {
          "output_type": "stream",
          "name": "stderr",
          "text": [
            "\n"
          ]
        },
        {
          "output_type": "stream",
          "name": "stdout",
          "text": [
            "\n",
            "      Epoch    GPU_mem   box_loss   cls_loss   dfl_loss  Instances       Size\n"
          ]
        },
        {
          "output_type": "stream",
          "name": "stderr",
          "text": [
            "      10/30      6.68G      1.069     0.5492      1.042         69        640: 100%|██████████| 182/182 [01:22<00:00,  2.20it/s]\n",
            "                 Class     Images  Instances      Box(P          R      mAP50  mAP50-95): 100%|██████████| 9/9 [00:02<00:00,  3.91it/s]"
          ]
        },
        {
          "output_type": "stream",
          "name": "stdout",
          "text": [
            "                   all        199        904      0.966      0.941      0.969      0.699\n"
          ]
        },
        {
          "output_type": "stream",
          "name": "stderr",
          "text": [
            "\n"
          ]
        },
        {
          "output_type": "stream",
          "name": "stdout",
          "text": [
            "\n",
            "      Epoch    GPU_mem   box_loss   cls_loss   dfl_loss  Instances       Size\n"
          ]
        },
        {
          "output_type": "stream",
          "name": "stderr",
          "text": [
            "      11/30      6.64G      1.064     0.5351      1.043         34        640: 100%|██████████| 182/182 [01:23<00:00,  2.19it/s]\n",
            "                 Class     Images  Instances      Box(P          R      mAP50  mAP50-95): 100%|██████████| 9/9 [00:02<00:00,  3.89it/s]"
          ]
        },
        {
          "output_type": "stream",
          "name": "stdout",
          "text": [
            "                   all        199        904      0.972      0.938      0.968      0.694\n"
          ]
        },
        {
          "output_type": "stream",
          "name": "stderr",
          "text": [
            "\n"
          ]
        },
        {
          "output_type": "stream",
          "name": "stdout",
          "text": [
            "\n",
            "      Epoch    GPU_mem   box_loss   cls_loss   dfl_loss  Instances       Size\n"
          ]
        },
        {
          "output_type": "stream",
          "name": "stderr",
          "text": [
            "      12/30      6.63G      1.039     0.5185      1.026         56        640: 100%|██████████| 182/182 [01:23<00:00,  2.19it/s]\n",
            "                 Class     Images  Instances      Box(P          R      mAP50  mAP50-95): 100%|██████████| 9/9 [00:02<00:00,  3.09it/s]"
          ]
        },
        {
          "output_type": "stream",
          "name": "stdout",
          "text": [
            "                   all        199        904      0.953      0.957      0.971      0.702\n"
          ]
        },
        {
          "output_type": "stream",
          "name": "stderr",
          "text": [
            "\n"
          ]
        },
        {
          "output_type": "stream",
          "name": "stdout",
          "text": [
            "\n",
            "      Epoch    GPU_mem   box_loss   cls_loss   dfl_loss  Instances       Size\n"
          ]
        },
        {
          "output_type": "stream",
          "name": "stderr",
          "text": [
            "      13/30      6.64G      1.032      0.523      1.025         68        640: 100%|██████████| 182/182 [01:22<00:00,  2.20it/s]\n",
            "                 Class     Images  Instances      Box(P          R      mAP50  mAP50-95): 100%|██████████| 9/9 [00:02<00:00,  3.88it/s]"
          ]
        },
        {
          "output_type": "stream",
          "name": "stdout",
          "text": [
            "                   all        199        904      0.967      0.947      0.972      0.704\n"
          ]
        },
        {
          "output_type": "stream",
          "name": "stderr",
          "text": [
            "\n"
          ]
        },
        {
          "output_type": "stream",
          "name": "stdout",
          "text": [
            "\n",
            "      Epoch    GPU_mem   box_loss   cls_loss   dfl_loss  Instances       Size\n"
          ]
        },
        {
          "output_type": "stream",
          "name": "stderr",
          "text": [
            "      14/30      6.64G      1.001     0.4921       1.01         33        640: 100%|██████████| 182/182 [01:22<00:00,  2.20it/s]\n",
            "                 Class     Images  Instances      Box(P          R      mAP50  mAP50-95): 100%|██████████| 9/9 [00:02<00:00,  3.87it/s]"
          ]
        },
        {
          "output_type": "stream",
          "name": "stdout",
          "text": [
            "                   all        199        904      0.963      0.947       0.97      0.706\n"
          ]
        },
        {
          "output_type": "stream",
          "name": "stderr",
          "text": [
            "\n"
          ]
        },
        {
          "output_type": "stream",
          "name": "stdout",
          "text": [
            "\n",
            "      Epoch    GPU_mem   box_loss   cls_loss   dfl_loss  Instances       Size\n"
          ]
        },
        {
          "output_type": "stream",
          "name": "stderr",
          "text": [
            "      15/30      6.66G     0.9943     0.4851      1.006         36        640: 100%|██████████| 182/182 [01:22<00:00,  2.21it/s]\n",
            "                 Class     Images  Instances      Box(P          R      mAP50  mAP50-95): 100%|██████████| 9/9 [00:02<00:00,  3.87it/s]"
          ]
        },
        {
          "output_type": "stream",
          "name": "stdout",
          "text": [
            "                   all        199        904      0.947      0.951      0.967      0.709\n"
          ]
        },
        {
          "output_type": "stream",
          "name": "stderr",
          "text": [
            "\n"
          ]
        },
        {
          "output_type": "stream",
          "name": "stdout",
          "text": [
            "\n",
            "      Epoch    GPU_mem   box_loss   cls_loss   dfl_loss  Instances       Size\n"
          ]
        },
        {
          "output_type": "stream",
          "name": "stderr",
          "text": [
            "      16/30       6.7G     0.9764     0.4762          1         68        640: 100%|██████████| 182/182 [01:22<00:00,  2.20it/s]\n",
            "                 Class     Images  Instances      Box(P          R      mAP50  mAP50-95): 100%|██████████| 9/9 [00:02<00:00,  3.91it/s]"
          ]
        },
        {
          "output_type": "stream",
          "name": "stdout",
          "text": [
            "                   all        199        904      0.968      0.963      0.974      0.707\n"
          ]
        },
        {
          "output_type": "stream",
          "name": "stderr",
          "text": [
            "\n"
          ]
        },
        {
          "output_type": "stream",
          "name": "stdout",
          "text": [
            "\n",
            "      Epoch    GPU_mem   box_loss   cls_loss   dfl_loss  Instances       Size\n"
          ]
        },
        {
          "output_type": "stream",
          "name": "stderr",
          "text": [
            "      17/30      6.63G      0.962     0.4678     0.9956         53        640: 100%|██████████| 182/182 [01:22<00:00,  2.21it/s]\n",
            "                 Class     Images  Instances      Box(P          R      mAP50  mAP50-95): 100%|██████████| 9/9 [00:02<00:00,  3.05it/s]"
          ]
        },
        {
          "output_type": "stream",
          "name": "stdout",
          "text": [
            "                   all        199        904      0.955      0.958      0.974      0.711\n"
          ]
        },
        {
          "output_type": "stream",
          "name": "stderr",
          "text": [
            "\n"
          ]
        },
        {
          "output_type": "stream",
          "name": "stdout",
          "text": [
            "\n",
            "      Epoch    GPU_mem   box_loss   cls_loss   dfl_loss  Instances       Size\n"
          ]
        },
        {
          "output_type": "stream",
          "name": "stderr",
          "text": [
            "      18/30      6.65G     0.9555     0.4579      0.989         30        640: 100%|██████████| 182/182 [01:22<00:00,  2.20it/s]\n",
            "                 Class     Images  Instances      Box(P          R      mAP50  mAP50-95): 100%|██████████| 9/9 [00:02<00:00,  3.55it/s]"
          ]
        },
        {
          "output_type": "stream",
          "name": "stdout",
          "text": [
            "                   all        199        904       0.97      0.961      0.978      0.721\n"
          ]
        },
        {
          "output_type": "stream",
          "name": "stderr",
          "text": [
            "\n"
          ]
        },
        {
          "output_type": "stream",
          "name": "stdout",
          "text": [
            "\n",
            "      Epoch    GPU_mem   box_loss   cls_loss   dfl_loss  Instances       Size\n"
          ]
        },
        {
          "output_type": "stream",
          "name": "stderr",
          "text": [
            "      19/30      6.72G     0.9424     0.4473     0.9913         35        640: 100%|██████████| 182/182 [01:22<00:00,  2.21it/s]\n",
            "                 Class     Images  Instances      Box(P          R      mAP50  mAP50-95): 100%|██████████| 9/9 [00:02<00:00,  3.91it/s]"
          ]
        },
        {
          "output_type": "stream",
          "name": "stdout",
          "text": [
            "                   all        199        904      0.976       0.96      0.976      0.723\n"
          ]
        },
        {
          "output_type": "stream",
          "name": "stderr",
          "text": [
            "\n"
          ]
        },
        {
          "output_type": "stream",
          "name": "stdout",
          "text": [
            "\n",
            "      Epoch    GPU_mem   box_loss   cls_loss   dfl_loss  Instances       Size\n"
          ]
        },
        {
          "output_type": "stream",
          "name": "stderr",
          "text": [
            "      20/30      6.64G     0.9358     0.4454     0.9898         35        640: 100%|██████████| 182/182 [01:24<00:00,  2.16it/s]\n",
            "                 Class     Images  Instances      Box(P          R      mAP50  mAP50-95): 100%|██████████| 9/9 [00:02<00:00,  3.91it/s]"
          ]
        },
        {
          "output_type": "stream",
          "name": "stdout",
          "text": [
            "                   all        199        904       0.97      0.972      0.977      0.719\n"
          ]
        },
        {
          "output_type": "stream",
          "name": "stderr",
          "text": [
            "\n"
          ]
        },
        {
          "output_type": "stream",
          "name": "stdout",
          "text": [
            "Closing dataloader mosaic\n",
            "\u001b[34m\u001b[1malbumentations: \u001b[0mBlur(p=0.01, blur_limit=(3, 7)), MedianBlur(p=0.01, blur_limit=(3, 7)), ToGray(p=0.01, num_output_channels=3, method='weighted_average'), CLAHE(p=0.01, clip_limit=(1.0, 4.0), tile_grid_size=(8, 8))\n",
            "\n",
            "      Epoch    GPU_mem   box_loss   cls_loss   dfl_loss  Instances       Size\n"
          ]
        },
        {
          "output_type": "stream",
          "name": "stderr",
          "text": [
            "      21/30      6.64G     0.9165     0.4129      1.007         17        640: 100%|██████████| 182/182 [01:22<00:00,  2.20it/s]\n",
            "                 Class     Images  Instances      Box(P          R      mAP50  mAP50-95): 100%|██████████| 9/9 [00:02<00:00,  3.89it/s]"
          ]
        },
        {
          "output_type": "stream",
          "name": "stdout",
          "text": [
            "                   all        199        904      0.977      0.966      0.973      0.726\n"
          ]
        },
        {
          "output_type": "stream",
          "name": "stderr",
          "text": [
            "\n"
          ]
        },
        {
          "output_type": "stream",
          "name": "stdout",
          "text": [
            "\n",
            "      Epoch    GPU_mem   box_loss   cls_loss   dfl_loss  Instances       Size\n"
          ]
        },
        {
          "output_type": "stream",
          "name": "stderr",
          "text": [
            "      22/30      6.63G     0.8952     0.4023      0.994         28        640: 100%|██████████| 182/182 [01:22<00:00,  2.22it/s]\n",
            "                 Class     Images  Instances      Box(P          R      mAP50  mAP50-95): 100%|██████████| 9/9 [00:02<00:00,  3.91it/s]"
          ]
        },
        {
          "output_type": "stream",
          "name": "stdout",
          "text": [
            "                   all        199        904      0.977      0.955      0.974      0.716\n"
          ]
        },
        {
          "output_type": "stream",
          "name": "stderr",
          "text": [
            "\n"
          ]
        },
        {
          "output_type": "stream",
          "name": "stdout",
          "text": [
            "\n",
            "      Epoch    GPU_mem   box_loss   cls_loss   dfl_loss  Instances       Size\n"
          ]
        },
        {
          "output_type": "stream",
          "name": "stderr",
          "text": [
            "      23/30      6.65G     0.8814     0.3964     0.9899         43        640: 100%|██████████| 182/182 [01:22<00:00,  2.22it/s]\n",
            "                 Class     Images  Instances      Box(P          R      mAP50  mAP50-95): 100%|██████████| 9/9 [00:02<00:00,  3.89it/s]"
          ]
        },
        {
          "output_type": "stream",
          "name": "stdout",
          "text": [
            "                   all        199        904      0.975      0.969      0.978      0.727\n"
          ]
        },
        {
          "output_type": "stream",
          "name": "stderr",
          "text": [
            "\n"
          ]
        },
        {
          "output_type": "stream",
          "name": "stdout",
          "text": [
            "\n",
            "      Epoch    GPU_mem   box_loss   cls_loss   dfl_loss  Instances       Size\n"
          ]
        },
        {
          "output_type": "stream",
          "name": "stderr",
          "text": [
            "      24/30      6.63G     0.8731     0.3887     0.9803         31        640: 100%|██████████| 182/182 [01:22<00:00,  2.21it/s]\n",
            "                 Class     Images  Instances      Box(P          R      mAP50  mAP50-95): 100%|██████████| 9/9 [00:02<00:00,  3.39it/s]"
          ]
        },
        {
          "output_type": "stream",
          "name": "stdout",
          "text": [
            "                   all        199        904      0.975      0.968      0.976      0.728\n"
          ]
        },
        {
          "output_type": "stream",
          "name": "stderr",
          "text": [
            "\n"
          ]
        },
        {
          "output_type": "stream",
          "name": "stdout",
          "text": [
            "\n",
            "      Epoch    GPU_mem   box_loss   cls_loss   dfl_loss  Instances       Size\n"
          ]
        },
        {
          "output_type": "stream",
          "name": "stderr",
          "text": [
            "      25/30      6.67G     0.8579     0.3794     0.9779         27        640: 100%|██████████| 182/182 [01:21<00:00,  2.22it/s]\n",
            "                 Class     Images  Instances      Box(P          R      mAP50  mAP50-95): 100%|██████████| 9/9 [00:02<00:00,  3.94it/s]"
          ]
        },
        {
          "output_type": "stream",
          "name": "stdout",
          "text": [
            "                   all        199        904      0.973      0.967      0.976       0.73\n"
          ]
        },
        {
          "output_type": "stream",
          "name": "stderr",
          "text": [
            "\n"
          ]
        },
        {
          "output_type": "stream",
          "name": "stdout",
          "text": [
            "\n",
            "      Epoch    GPU_mem   box_loss   cls_loss   dfl_loss  Instances       Size\n"
          ]
        },
        {
          "output_type": "stream",
          "name": "stderr",
          "text": [
            "      26/30      6.64G     0.8396     0.3699     0.9644         33        640: 100%|██████████| 182/182 [01:22<00:00,  2.21it/s]\n",
            "                 Class     Images  Instances      Box(P          R      mAP50  mAP50-95): 100%|██████████| 9/9 [00:02<00:00,  3.83it/s]"
          ]
        },
        {
          "output_type": "stream",
          "name": "stdout",
          "text": [
            "                   all        199        904      0.976      0.968      0.973      0.733\n"
          ]
        },
        {
          "output_type": "stream",
          "name": "stderr",
          "text": [
            "\n"
          ]
        },
        {
          "output_type": "stream",
          "name": "stdout",
          "text": [
            "\n",
            "      Epoch    GPU_mem   box_loss   cls_loss   dfl_loss  Instances       Size\n"
          ]
        },
        {
          "output_type": "stream",
          "name": "stderr",
          "text": [
            "      27/30      6.69G     0.8253     0.3648     0.9624         26        640: 100%|██████████| 182/182 [01:22<00:00,  2.21it/s]\n",
            "                 Class     Images  Instances      Box(P          R      mAP50  mAP50-95): 100%|██████████| 9/9 [00:02<00:00,  3.35it/s]"
          ]
        },
        {
          "output_type": "stream",
          "name": "stdout",
          "text": [
            "                   all        199        904      0.981      0.966      0.976      0.734\n"
          ]
        },
        {
          "output_type": "stream",
          "name": "stderr",
          "text": [
            "\n"
          ]
        },
        {
          "output_type": "stream",
          "name": "stdout",
          "text": [
            "\n",
            "      Epoch    GPU_mem   box_loss   cls_loss   dfl_loss  Instances       Size\n"
          ]
        },
        {
          "output_type": "stream",
          "name": "stderr",
          "text": [
            "      28/30      6.59G     0.8108     0.3557     0.9576         38        640: 100%|██████████| 182/182 [01:22<00:00,  2.22it/s]\n",
            "                 Class     Images  Instances      Box(P          R      mAP50  mAP50-95): 100%|██████████| 9/9 [00:02<00:00,  3.53it/s]"
          ]
        },
        {
          "output_type": "stream",
          "name": "stdout",
          "text": [
            "                   all        199        904      0.983      0.961      0.973      0.731\n"
          ]
        },
        {
          "output_type": "stream",
          "name": "stderr",
          "text": [
            "\n"
          ]
        },
        {
          "output_type": "stream",
          "name": "stdout",
          "text": [
            "\n",
            "      Epoch    GPU_mem   box_loss   cls_loss   dfl_loss  Instances       Size\n"
          ]
        },
        {
          "output_type": "stream",
          "name": "stderr",
          "text": [
            "      29/30      6.64G     0.8021     0.3528     0.9532         31        640: 100%|██████████| 182/182 [01:21<00:00,  2.23it/s]\n",
            "                 Class     Images  Instances      Box(P          R      mAP50  mAP50-95): 100%|██████████| 9/9 [00:02<00:00,  3.88it/s]"
          ]
        },
        {
          "output_type": "stream",
          "name": "stdout",
          "text": [
            "                   all        199        904      0.975      0.964      0.974      0.732\n"
          ]
        },
        {
          "output_type": "stream",
          "name": "stderr",
          "text": [
            "\n"
          ]
        },
        {
          "output_type": "stream",
          "name": "stdout",
          "text": [
            "\n",
            "      Epoch    GPU_mem   box_loss   cls_loss   dfl_loss  Instances       Size\n"
          ]
        },
        {
          "output_type": "stream",
          "name": "stderr",
          "text": [
            "      30/30      6.62G     0.7869     0.3472     0.9505         37        640: 100%|██████████| 182/182 [01:21<00:00,  2.22it/s]\n",
            "                 Class     Images  Instances      Box(P          R      mAP50  mAP50-95): 100%|██████████| 9/9 [00:02<00:00,  3.90it/s]"
          ]
        },
        {
          "output_type": "stream",
          "name": "stdout",
          "text": [
            "                   all        199        904      0.979      0.967      0.976      0.737\n"
          ]
        },
        {
          "output_type": "stream",
          "name": "stderr",
          "text": [
            "\n"
          ]
        },
        {
          "output_type": "stream",
          "name": "stdout",
          "text": [
            "\n",
            "30 epochs completed in 0.732 hours.\n",
            "Optimizer stripped from runs/detect/train/weights/last.pt, 40.5MB\n",
            "Optimizer stripped from runs/detect/train/weights/best.pt, 40.5MB\n",
            "\n",
            "Validating runs/detect/train/weights/best.pt...\n",
            "Ultralytics 8.3.55 🚀 Python-3.10.12 torch-2.5.1+cu121 CUDA:0 (Tesla T4, 15102MiB)\n",
            "YOLO11m summary (fused): 303 layers, 20,034,658 parameters, 0 gradients, 67.7 GFLOPs\n"
          ]
        },
        {
          "output_type": "stream",
          "name": "stderr",
          "text": [
            "                 Class     Images  Instances      Box(P          R      mAP50  mAP50-95): 100%|██████████| 9/9 [00:05<00:00,  1.77it/s]\n"
          ]
        },
        {
          "output_type": "stream",
          "name": "stdout",
          "text": [
            "                   all        199        904      0.979      0.967      0.976      0.737\n",
            "               glasses         71         73      0.975      0.877      0.923      0.541\n",
            "                gloves        117        218      0.986      0.992       0.99      0.757\n",
            "                helmet        103        103      0.979          1      0.991      0.806\n",
            "                  mask        131        131      0.975      0.962      0.972      0.722\n",
            "          safety-shoes        136        267      0.983      0.981       0.99      0.749\n",
            "                  vest        112        112      0.977      0.991      0.986      0.847\n",
            "Speed: 0.3ms preprocess, 9.4ms inference, 0.0ms loss, 3.6ms postprocess per image\n",
            "Results saved to \u001b[1mruns/detect/train\u001b[0m\n"
          ]
        }
      ],
      "source": [
        "train_results = model.train(\n",
        "    data = '/content/PPE-2/data.yaml',\n",
        "    epochs = 30,\n",
        "    batch = 12,\n",
        "    imgsz = 640,\n",
        ")"
      ]
    },
    {
      "cell_type": "code",
      "execution_count": 5,
      "metadata": {
        "colab": {
          "base_uri": "https://localhost:8080/"
        },
        "id": "9iGzQGWxBwrj",
        "outputId": "302e72c7-3fe5-4e83-f86d-b707c73cfb79"
      },
      "outputs": [
        {
          "output_type": "stream",
          "name": "stdout",
          "text": [
            "Ultralytics 8.3.55 🚀 Python-3.10.12 torch-2.5.1+cu121 CUDA:0 (Tesla T4, 15102MiB)\n",
            "YOLO11m summary (fused): 303 layers, 20,034,658 parameters, 0 gradients, 67.7 GFLOPs\n"
          ]
        },
        {
          "output_type": "stream",
          "name": "stderr",
          "text": [
            "\u001b[34m\u001b[1mval: \u001b[0mScanning /content/PPE-2/test/labels... 120 images, 15 backgrounds, 0 corrupt: 100%|██████████| 120/120 [00:00<00:00, 474.40it/s]"
          ]
        },
        {
          "output_type": "stream",
          "name": "stdout",
          "text": [
            "\u001b[34m\u001b[1mval: \u001b[0mNew cache created: /content/PPE-2/test/labels.cache\n"
          ]
        },
        {
          "output_type": "stream",
          "name": "stderr",
          "text": [
            "\n",
            "                 Class     Images  Instances      Box(P          R      mAP50  mAP50-95): 100%|██████████| 8/8 [00:05<00:00,  1.55it/s]\n"
          ]
        },
        {
          "output_type": "stream",
          "name": "stdout",
          "text": [
            "                   all        120        569       0.99      0.983       0.99      0.748\n",
            "               glasses         44         44      0.996      0.977      0.979      0.601\n",
            "                gloves         73        134      0.999      0.993      0.995      0.737\n",
            "                helmet         69         69      0.996          1      0.995      0.811\n",
            "                  mask         78         78      0.962      0.964      0.981       0.73\n",
            "          safety-shoes         85        171      0.991      0.965      0.994      0.735\n",
            "                  vest         73         73      0.998          1      0.995      0.874\n",
            "Speed: 0.5ms preprocess, 20.4ms inference, 0.1ms loss, 4.4ms postprocess per image\n",
            "Results saved to \u001b[1mruns/detect/val\u001b[0m\n"
          ]
        }
      ],
      "source": [
        "trained_model = YOLO('/content/runs/detect/train/weights/best.pt')\n",
        "\n",
        "metrics = trained_model.val(\n",
        "    data = '/content/PPE-2/data.yaml',\n",
        "    split = 'test'\n",
        ")"
      ]
    },
    {
      "cell_type": "code",
      "execution_count": 6,
      "metadata": {
        "colab": {
          "base_uri": "https://localhost:8080/"
        },
        "id": "B_LPvMlOEjeH",
        "outputId": "af171989-cd58-493c-d9b5-bdcb7c40489d"
      },
      "outputs": [
        {
          "output_type": "stream",
          "name": "stdout",
          "text": [
            "\n",
            "image 1/120 /content/PPE-2/test/images/Backgound_005_jpg.rf.98c5b0dd7234518fa23f6d74a2194537.jpg: 384x640 (no detections), 48.7ms\n",
            "image 2/120 /content/PPE-2/test/images/Backgound_017_jpg.rf.b0294b2b03605dde246b1a5b5495a9a0.jpg: 384x640 (no detections), 24.1ms\n",
            "image 3/120 /content/PPE-2/test/images/Backgound_027_jpg.rf.620e3e9e46e2e2c51402097b6fbc29ba.jpg: 384x640 (no detections), 24.1ms\n",
            "image 4/120 /content/PPE-2/test/images/image_101_jpg.rf.755a74b9fe8dae46407a7024d8986de4.jpg: 480x640 1 helmet, 1 mask, 2 safety-shoess, 1 vest, 46.9ms\n",
            "image 5/120 /content/PPE-2/test/images/image_103_jpg.rf.cf3a96cf1f79ce353aa6884f0b93cf08.jpg: 480x640 1 glasses, 2 glovess, 1 helmet, 1 mask, 2 safety-shoess, 1 vest, 21.7ms\n",
            "image 6/120 /content/PPE-2/test/images/image_104_jpg.rf.61eb3084e4125625aacfd937a15522c4.jpg: 480x640 1 glasses, 2 glovess, 1 helmet, 1 mask, 2 safety-shoess, 1 vest, 21.7ms\n",
            "image 7/120 /content/PPE-2/test/images/image_106_jpg.rf.dfa1acb03af41280b23d77fdb24e8bb1.jpg: 480x640 1 glasses, 1 gloves, 1 helmet, 2 masks, 2 safety-shoess, 1 vest, 21.7ms\n",
            "image 8/120 /content/PPE-2/test/images/image_107_jpg.rf.27a6025f4dcd12dfceec3516222bbcd0.jpg: 480x640 1 glasses, 3 glovess, 1 helmet, 2 masks, 3 safety-shoess, 1 vest, 21.7ms\n",
            "image 9/120 /content/PPE-2/test/images/image_108_jpg.rf.02b1228b2b3e097a90d4a47eb0131766.jpg: 480x640 1 glasses, 1 gloves, 1 helmet, 1 mask, 2 safety-shoess, 1 vest, 21.7ms\n",
            "image 10/120 /content/PPE-2/test/images/image_108_jpg.rf.3ab6a043a4ef4021466189cd71301b2b.jpg: 480x640 1 helmet, 1 mask, 2 safety-shoess, 2 vests, 19.6ms\n",
            "image 11/120 /content/PPE-2/test/images/image_113_jpg.rf.be3457ff2194e2f971290c1ee15f737f.jpg: 480x640 2 glovess, 1 helmet, 1 mask, 2 safety-shoess, 16.6ms\n",
            "image 12/120 /content/PPE-2/test/images/image_114_jpg.rf.adbe8a1ddf063093154431533a0301fd.jpg: 480x640 2 glovess, 1 helmet, 1 mask, 2 safety-shoess, 15.5ms\n",
            "image 13/120 /content/PPE-2/test/images/image_117_jpg.rf.71bea6bf33916cc5e9c4b6bb44539395.jpg: 480x640 (no detections), 17.5ms\n",
            "image 14/120 /content/PPE-2/test/images/image_119_jpg.rf.e5a30f337e56de5f6c104f95261c5369.jpg: 480x640 2 glovess, 1 helmet, 2 safety-shoess, 1 vest, 18.5ms\n",
            "image 15/120 /content/PPE-2/test/images/image_120_jpg.rf.7e14aafdf8dd9cfe5fe91f69a34bc7ec.jpg: 480x640 (no detections), 15.3ms\n",
            "image 16/120 /content/PPE-2/test/images/image_121_jpg.rf.e620ae50e91962efa74ff11e06541666.jpg: 480x640 1 gloves, 1 helmet, 2 safety-shoess, 1 vest, 16.4ms\n",
            "image 17/120 /content/PPE-2/test/images/image_124_jpg.rf.65009bb92fe6267b5256e9793ffafa87.jpg: 480x640 (no detections), 15.1ms\n",
            "image 18/120 /content/PPE-2/test/images/image_126_jpg.rf.1d3559aaa1da238f1a2e044481630c59.jpg: 480x640 2 glovess, 1 helmet, 2 safety-shoess, 1 vest, 15.0ms\n",
            "image 19/120 /content/PPE-2/test/images/image_127_jpg.rf.f5f083fc386d02d8b75c40dc14df410c.jpg: 480x640 2 safety-shoess, 23.2ms\n",
            "image 20/120 /content/PPE-2/test/images/image_128_jpg.rf.4e58ca1b4d6a3167ac83984fd53fcb2d.jpg: 480x640 2 glovess, 1 helmet, 2 safety-shoess, 1 vest, 26.5ms\n",
            "image 21/120 /content/PPE-2/test/images/image_129_jpg.rf.2d9df08a20dc9ece47b66e7d17ad4ca8.jpg: 480x640 (no detections), 22.0ms\n",
            "image 22/120 /content/PPE-2/test/images/image_12_jpg.rf.17805e492949dd6d8730ce15f45772e4.jpg: 384x640 1 glasses, 2 glovess, 1 helmet, 1 mask, 1 safety-shoes, 1 vest, 13.8ms\n",
            "image 23/120 /content/PPE-2/test/images/image_12_jpg.rf.77e2563dd442944833d15137f36bbaba.jpg: 480x640 1 gloves, 15.2ms\n",
            "image 24/120 /content/PPE-2/test/images/image_132_jpg.rf.acdd5d955c40b87c9e3905e975218793.jpg: 480x640 (no detections), 17.1ms\n",
            "image 25/120 /content/PPE-2/test/images/image_133_jpg.rf.7222b2e8d72a8f1738f9c14c25459172.jpg: 480x640 2 glovess, 1 helmet, 2 safety-shoess, 1 vest, 14.6ms\n",
            "image 26/120 /content/PPE-2/test/images/image_135_jpg.rf.427eee489d3c8a2fd127460dd99dc17b.jpg: 480x640 1 mask, 15.2ms\n",
            "image 27/120 /content/PPE-2/test/images/image_139_jpg.rf.14575196333c263b9f00cc13b85b7dfb.jpg: 480x640 1 gloves, 1 helmet, 1 safety-shoes, 2 vests, 14.9ms\n",
            "image 28/120 /content/PPE-2/test/images/image_13_jpg.rf.5e60a59be4268609af3f4e7eea495128.jpg: 480x640 1 glasses, 1 mask, 1 vest, 14.4ms\n",
            "image 29/120 /content/PPE-2/test/images/image_140_jpg.rf.ac2123846315925cba8e379f3074738b.jpg: 480x640 2 glovess, 1 helmet, 2 safety-shoess, 1 vest, 15.7ms\n",
            "image 30/120 /content/PPE-2/test/images/image_142_jpg.rf.2f30fceabc2fcfb88c5b21cfdb02b1ea.jpg: 480x640 2 glassess, 1 gloves, 1 helmet, 1 mask, 2 safety-shoess, 1 vest, 14.6ms\n",
            "image 31/120 /content/PPE-2/test/images/image_145_jpg.rf.d16129cdea8420de655ec1366791b279.jpg: 480x640 1 mask, 2 safety-shoess, 1 vest, 15.1ms\n",
            "image 32/120 /content/PPE-2/test/images/image_156_jpg.rf.0314b73cf97ac128e768975ccdea1a7d.jpg: 480x640 1 glasses, 2 glovess, 2 helmets, 2 safety-shoess, 1 vest, 14.4ms\n",
            "image 33/120 /content/PPE-2/test/images/image_160_jpg.rf.2aac48821f75e03161ecb47555268bee.jpg: 480x640 1 glasses, 2 glovess, 1 helmet, 1 mask, 2 safety-shoess, 1 vest, 16.9ms\n",
            "image 34/120 /content/PPE-2/test/images/image_161_jpg.rf.7cd149bb80f6d7eb04c2c2583e31b1ad.jpg: 480x640 1 glasses, 2 glovess, 1 helmet, 1 mask, 2 safety-shoess, 1 vest, 14.3ms\n",
            "image 35/120 /content/PPE-2/test/images/image_163_jpg.rf.20247cc501d82a96b8cb4059259799fb.jpg: 480x640 1 glasses, 2 glovess, 1 helmet, 1 mask, 2 safety-shoess, 1 vest, 14.3ms\n",
            "image 36/120 /content/PPE-2/test/images/image_163_jpg.rf.ebe78d1c3261bc3884a2ff0b682f80c6.jpg: 480x640 1 glasses, 2 glovess, 1 helmet, 1 mask, 2 safety-shoess, 1 vest, 14.3ms\n",
            "image 37/120 /content/PPE-2/test/images/image_163_jpg.rf.f2ee7dd70662366d2a97a0ade740de3a.jpg: 480x640 1 glasses, 2 glovess, 1 helmet, 1 mask, 2 safety-shoess, 1 vest, 15.4ms\n",
            "image 38/120 /content/PPE-2/test/images/image_164_jpg.rf.308a8a69f61aaaa7ac3c97123b753389.jpg: 480x640 1 glasses, 2 glovess, 1 helmet, 1 mask, 2 safety-shoess, 1 vest, 15.4ms\n",
            "image 39/120 /content/PPE-2/test/images/image_165_jpg.rf.9d3383fd9a35d113ea5bb293bd657533.jpg: 480x640 2 safety-shoess, 1 vest, 15.9ms\n",
            "image 40/120 /content/PPE-2/test/images/image_166_jpg.rf.2047f43d462e1f0fae531f1221771155.jpg: 480x640 1 glasses, 2 glovess, 1 helmet, 1 mask, 2 safety-shoess, 1 vest, 15.8ms\n",
            "image 41/120 /content/PPE-2/test/images/image_167_jpg.rf.a1553e780134d00463e6780a5e0fd210.jpg: 384x640 1 helmet, 1 mask, 3 safety-shoess, 16.1ms\n",
            "image 42/120 /content/PPE-2/test/images/image_168_jpg.rf.054cbb1701001a8062829d5a9fbeb3eb.jpg: 480x640 1 glasses, 2 glovess, 1 helmet, 1 mask, 2 safety-shoess, 1 vest, 15.1ms\n",
            "image 43/120 /content/PPE-2/test/images/image_169_jpg.rf.44cbb29e0f458c0a845689b15c8e80ae.jpg: 480x640 (no detections), 15.0ms\n",
            "image 44/120 /content/PPE-2/test/images/image_16_jpg.rf.4a4b6be9c7315dc0b54ac7f9b86e3997.jpg: 384x640 1 helmet, 1 mask, 2 safety-shoess, 16.7ms\n",
            "image 45/120 /content/PPE-2/test/images/image_176_jpg.rf.ce8ce4fa6de6012f93a6037f8de4b77a.jpg: 480x640 1 glasses, 2 glovess, 1 helmet, 1 mask, 2 safety-shoess, 1 vest, 15.9ms\n",
            "image 46/120 /content/PPE-2/test/images/image_177_jpg.rf.377eada625475f0c5216f952ead506ad.jpg: 480x640 1 glasses, 2 glovess, 1 helmet, 1 mask, 2 safety-shoess, 1 vest, 15.0ms\n",
            "image 47/120 /content/PPE-2/test/images/image_178_jpg.rf.bc9d41378d7ecc76c070374b7740bc2d.jpg: 480x640 1 glasses, 2 glovess, 1 helmet, 1 mask, 2 safety-shoess, 1 vest, 14.4ms\n",
            "image 48/120 /content/PPE-2/test/images/image_17_jpg.rf.61c5c6b22d6caa5cd79d38e84e29666f.jpg: 480x640 1 gloves, 1 mask, 1 vest, 14.2ms\n",
            "image 49/120 /content/PPE-2/test/images/image_181_jpg.rf.25dddcbff860205abc34e643f966fd92.jpg: 480x640 1 glasses, 2 glovess, 1 helmet, 1 mask, 2 safety-shoess, 1 vest, 15.9ms\n",
            "image 50/120 /content/PPE-2/test/images/image_183_jpg.rf.5b7b024e0400b2bd5165cb7cb86108b8.jpg: 480x640 1 glasses, 2 glovess, 1 helmet, 1 mask, 2 safety-shoess, 1 vest, 15.1ms\n",
            "image 51/120 /content/PPE-2/test/images/image_183_jpg.rf.6be72d3d3db8ecd055fd10d10571f5fb.jpg: 480x640 1 glasses, 2 glovess, 1 helmet, 1 mask, 2 safety-shoess, 1 vest, 15.1ms\n",
            "image 52/120 /content/PPE-2/test/images/image_184_jpg.rf.77d6e7153a7655d893d9436ec47d5990.jpg: 480x640 2 safety-shoess, 1 vest, 28.0ms\n",
            "image 53/120 /content/PPE-2/test/images/image_186_jpg.rf.126fc904b7d90925082de06775770d16.jpg: 480x640 1 glasses, 2 glovess, 1 helmet, 1 mask, 2 safety-shoess, 1 vest, 18.7ms\n",
            "image 54/120 /content/PPE-2/test/images/image_18_jpg.rf.e2251f6553b8705cd12d0d314cb5e423.jpg: 384x640 1 glasses, 2 glovess, 1 helmet, 1 mask, 2 safety-shoess, 1 vest, 20.5ms\n",
            "image 55/120 /content/PPE-2/test/images/image_198_jpg.rf.a90a4dacabfc758907f8f7a12d938407.jpg: 480x640 2 glovess, 1 helmet, 1 mask, 2 safety-shoess, 1 vest, 25.4ms\n",
            "image 56/120 /content/PPE-2/test/images/image_199_jpg.rf.51e7afd89e034c273950dd99321c6dd9.jpg: 480x640 1 glasses, 2 glovess, 1 helmet, 1 mask, 2 safety-shoess, 1 vest, 20.0ms\n",
            "image 57/120 /content/PPE-2/test/images/image_200_jpg.rf.54a6db7a51320f4bb105e638286e5fa9.jpg: 480x640 2 glovess, 1 helmet, 1 mask, 2 safety-shoess, 1 vest, 18.4ms\n",
            "image 58/120 /content/PPE-2/test/images/image_201_jpg.rf.673fba6f99de57ae8b4bdc289f64c75b.jpg: 480x640 2 glovess, 1 mask, 2 safety-shoess, 1 vest, 17.9ms\n",
            "image 59/120 /content/PPE-2/test/images/image_202_jpg.rf.67608ca34331b951a6371f5f4f261251.jpg: 480x640 2 safety-shoess, 16.1ms\n",
            "image 60/120 /content/PPE-2/test/images/image_209_jpg.rf.06aecc4e37354ea5f0e28ae84c0dc631.jpg: 480x640 1 glasses, 2 glovess, 1 helmet, 1 mask, 2 safety-shoess, 1 vest, 16.0ms\n",
            "image 61/120 /content/PPE-2/test/images/image_213_jpg.rf.dd80251328a978e737effa73ac81f4a6.jpg: 480x640 2 safety-shoess, 17.5ms\n",
            "image 62/120 /content/PPE-2/test/images/image_21_jpg.rf.141f9eeb49018b0595f8848d8bbb3d1a.jpg: 480x640 2 masks, 15.0ms\n",
            "image 63/120 /content/PPE-2/test/images/image_225_jpg.rf.1cc1607ff1428e8f4fd36be426579b8c.jpg: 480x640 2 glovess, 1 helmet, 1 mask, 2 safety-shoess, 1 vest, 19.3ms\n",
            "image 64/120 /content/PPE-2/test/images/image_227_jpg.rf.b154ae8cf948120ec1074438a062ec89.jpg: 480x640 2 safety-shoess, 17.7ms\n",
            "image 65/120 /content/PPE-2/test/images/image_230_jpg.rf.97b3c34aedfbf6237adf505306d5637d.jpg: 480x640 2 glovess, 1 helmet, 1 mask, 2 safety-shoess, 1 vest, 15.9ms\n",
            "image 66/120 /content/PPE-2/test/images/image_232_jpg.rf.82110d0c9a779ee5826022bc2116ab71.jpg: 480x640 2 glovess, 1 helmet, 1 mask, 2 safety-shoess, 1 vest, 18.2ms\n",
            "image 67/120 /content/PPE-2/test/images/image_232_jpg.rf.b4b369fded90b3dda3fb7c52976add42.jpg: 480x640 1 glasses, 2 glovess, 1 mask, 2 safety-shoess, 1 vest, 16.0ms\n",
            "image 68/120 /content/PPE-2/test/images/image_241_jpg.rf.4829314e2441de00824003e1edd75417.jpg: 480x640 1 glasses, 2 glovess, 1 mask, 2 safety-shoess, 1 vest, 14.0ms\n",
            "image 69/120 /content/PPE-2/test/images/image_244_jpg.rf.a78d4baa1558e3ca583591dd514a9c41.jpg: 480x640 1 safety-shoes, 17.2ms\n",
            "image 70/120 /content/PPE-2/test/images/image_253_jpg.rf.19c9909e9af8fe2873a93aebf6d5605f.jpg: 480x640 2 glassess, 1 gloves, 1 mask, 2 safety-shoess, 1 vest, 17.8ms\n",
            "image 71/120 /content/PPE-2/test/images/image_254_jpg.rf.3ff85cf72a01c6de051110f6863f67df.jpg: 480x640 2 glassess, 1 gloves, 1 mask, 2 safety-shoess, 1 vest, 21.6ms\n",
            "image 72/120 /content/PPE-2/test/images/image_25_jpg.rf.5da0d0b438faae77c86589f53d4a8464.jpg: 480x640 1 glasses, 2 glovess, 1 mask, 1 vest, 20.8ms\n",
            "image 73/120 /content/PPE-2/test/images/image_263_jpg.rf.0bafee2d35abfdc0373c21a6694a0d61.jpg: 480x640 2 safety-shoess, 1 vest, 17.5ms\n",
            "image 74/120 /content/PPE-2/test/images/image_263_jpg.rf.73788b6d4dc996cdb37af9245fd7e4cb.jpg: 480x640 2 glovess, 2 safety-shoess, 1 vest, 15.2ms\n",
            "image 75/120 /content/PPE-2/test/images/image_264_jpg.rf.c51f2005b5eaad0d08e291c0b95f9377.jpg: 480x640 2 glovess, 2 safety-shoess, 1 vest, 16.2ms\n",
            "image 76/120 /content/PPE-2/test/images/image_280_jpg.rf.f672f0b53a3d96157e2dde2ec463fef7.jpg: 480x640 (no detections), 21.3ms\n",
            "image 77/120 /content/PPE-2/test/images/image_28_jpg.rf.26df27b21bb048f11179ec4a3b6e3290.jpg: 480x640 1 glasses, 2 glovess, 1 mask, 1 vest, 21.3ms\n",
            "image 78/120 /content/PPE-2/test/images/image_292_jpg.rf.5cfd0ca7bf526b023f5b10d4a3f95618.jpg: 480x640 2 glovess, 2 safety-shoess, 17.9ms\n",
            "image 79/120 /content/PPE-2/test/images/image_297_jpg.rf.7b71e6994dd3854f4f0a16491f6af724.jpg: 480x640 2 glovess, 1 mask, 2 safety-shoess, 16.7ms\n",
            "image 80/120 /content/PPE-2/test/images/image_2_jpg.rf.b8b83cee77be2201d929042259728cb2.jpg: 384x640 (no detections), 17.2ms\n",
            "image 81/120 /content/PPE-2/test/images/image_302_jpg.rf.c84bed1541b76cf91e9c3ccfdfecc83d.jpg: 480x640 2 glovess, 1 mask, 2 safety-shoess, 25.7ms\n",
            "image 82/120 /content/PPE-2/test/images/image_314_jpg.rf.ca64186ebe314a637cc654e8674a2aad.jpg: 480x640 1 gloves, 1 mask, 2 safety-shoess, 21.7ms\n",
            "image 83/120 /content/PPE-2/test/images/image_318_jpg.rf.0236f6e81c32b8349c56b266bb073a99.jpg: 480x640 2 glovess, 1 mask, 2 safety-shoess, 20.5ms\n",
            "image 84/120 /content/PPE-2/test/images/image_327_jpg.rf.4442e3786bfa4406aa00dec1905b7256.jpg: 480x640 (no detections), 22.8ms\n",
            "image 85/120 /content/PPE-2/test/images/image_33_jpg.rf.02a2b7677cb5fb6756434f1ccc4eacf9.jpg: 480x640 2 masks, 22.2ms\n",
            "image 86/120 /content/PPE-2/test/images/image_33_jpg.rf.347ea098506d33261146e48b3f2cb5e0.jpg: 480x640 1 glasses, 1 gloves, 1 helmet, 1 mask, 1 vest, 19.8ms\n",
            "image 87/120 /content/PPE-2/test/images/image_33_jpg.rf.8bb9f92f2a7741a1dc45833faf589bcf.jpg: 480x640 1 mask, 15.6ms\n",
            "image 88/120 /content/PPE-2/test/images/image_33_jpg.rf.e9a991f9b8bae174a2f59d7509666b0c.jpg: 384x640 1 gloves, 1 helmet, 2 safety-shoess, 1 vest, 18.0ms\n",
            "image 89/120 /content/PPE-2/test/images/image_35_jpg.rf.6fe2c2e66292ae08730f56f303a756e4.jpg: 480x640 (no detections), 15.9ms\n",
            "image 90/120 /content/PPE-2/test/images/image_38_jpg.rf.c7c0a1764e27ec6a2f3f8fecf8f74273.jpg: 384x640 1 glasses, 2 glovess, 1 helmet, 1 mask, 2 safety-shoess, 1 vest, 16.6ms\n",
            "image 91/120 /content/PPE-2/test/images/image_39_jpg.rf.ceb2d2c19e46ecf2df94b980aedc167c.jpg: 480x640 1 glasses, 1 gloves, 1 mask, 1 vest, 19.6ms\n",
            "image 92/120 /content/PPE-2/test/images/image_41_jpg.rf.0bf7b8c9da851b364a0e73e14eaf93c1.jpg: 480x640 1 mask, 2 safety-shoess, 18.7ms\n",
            "image 93/120 /content/PPE-2/test/images/image_42_jpg.rf.860cd165b637c432a80e0e296d8025e0.jpg: 480x640 1 glasses, 2 glovess, 1 helmet, 1 mask, 1 vest, 16.0ms\n",
            "image 94/120 /content/PPE-2/test/images/image_42_jpg.rf.9df109b1c53cf71a5c5a44f83ec462a3.jpg: 480x640 (no detections), 16.0ms\n",
            "image 95/120 /content/PPE-2/test/images/image_42_jpg.rf.a498592afcd384b01b7c09a963513085.jpg: 480x640 1 glasses, 2 glovess, 1 helmet, 1 mask, 1 vest, 17.1ms\n",
            "image 96/120 /content/PPE-2/test/images/image_45_jpg.rf.3d5e36dd39b4ffa9120e27daaba3c492.jpg: 480x640 1 mask, 2 safety-shoess, 15.3ms\n",
            "image 97/120 /content/PPE-2/test/images/image_50_jpg.rf.f51120861ed4c28d86d0b3d70cdbc0c9.jpg: 480x640 1 glasses, 2 glovess, 1 helmet, 1 mask, 2 safety-shoess, 1 vest, 16.6ms\n",
            "image 98/120 /content/PPE-2/test/images/image_53_jpg.rf.3115bb782eab45e62f339fd37824e8e9.jpg: 384x640 1 gloves, 1 helmet, 2 masks, 2 safety-shoess, 1 vest, 16.9ms\n",
            "image 99/120 /content/PPE-2/test/images/image_56_jpg.rf.9e5f9b13533fd0ef5e730a3d631fe6eb.jpg: 480x640 1 helmet, 1 mask, 16.0ms\n",
            "image 100/120 /content/PPE-2/test/images/image_58_jpg.rf.e567b46dc1e79c6b649a7cec312a7efe.jpg: 480x640 1 mask, 15.3ms\n",
            "image 101/120 /content/PPE-2/test/images/image_62_jpg.rf.4d51cd6a6aa84605eade9403390a2757.jpg: 480x640 1 glasses, 2 glovess, 1 helmet, 1 mask, 2 safety-shoess, 1 vest, 16.9ms\n",
            "image 102/120 /content/PPE-2/test/images/image_64_jpg.rf.380060b2eab5a87b94d78ebd9accfe1f.jpg: 480x640 1 helmet, 1 mask, 17.4ms\n",
            "image 103/120 /content/PPE-2/test/images/image_69_jpg.rf.688115532374251868fd06fd820dabf2.jpg: 384x640 1 helmet, 2 masks, 4 safety-shoess, 16.4ms\n",
            "image 104/120 /content/PPE-2/test/images/image_70_jpg.rf.25c3863cbf69aa9e3ab532544d8c7f5d.jpg: 480x640 1 mask, 16.2ms\n",
            "image 105/120 /content/PPE-2/test/images/image_71_jpg.rf.eb1e6c9d81fb44f8ae6a510f50e4e223.jpg: 480x640 (no detections), 15.2ms\n",
            "image 106/120 /content/PPE-2/test/images/image_72_jpg.rf.34afef5b81b1346da3e801f6531039cf.jpg: 480x640 1 glasses, 2 glovess, 1 helmet, 1 mask, 2 safety-shoess, 1 vest, 19.9ms\n",
            "image 107/120 /content/PPE-2/test/images/image_72_jpg.rf.3c7df017ef8bf6cc883a238640660100.jpg: 480x640 1 glasses, 2 glovess, 1 helmet, 1 mask, 2 safety-shoess, 1 vest, 23.6ms\n",
            "image 108/120 /content/PPE-2/test/images/image_72_jpg.rf.b45921d288c429272a00f7eb7205b7f9.jpg: 480x640 1 glasses, 2 glovess, 1 helmet, 1 mask, 2 safety-shoess, 1 vest, 18.2ms\n",
            "image 109/120 /content/PPE-2/test/images/image_76_jpg.rf.189dc09451e1c379f548f608684d4d16.jpg: 480x640 1 helmet, 1 mask, 1 safety-shoes, 15.2ms\n",
            "image 110/120 /content/PPE-2/test/images/image_78_jpg.rf.e2800f2f4f2c7b8306bb17a483ffa8d9.jpg: 480x640 1 glasses, 2 glovess, 1 helmet, 1 mask, 2 safety-shoess, 1 vest, 15.1ms\n",
            "image 111/120 /content/PPE-2/test/images/image_79_jpg.rf.708b4203ec478977bb8df6309c62714f.jpg: 480x640 2 glovess, 1 helmet, 2 safety-shoess, 18.8ms\n",
            "image 112/120 /content/PPE-2/test/images/image_81_jpg.rf.e80170789f40c9928e22127e336c6392.jpg: 480x640 1 glasses, 2 glovess, 1 helmet, 1 mask, 2 safety-shoess, 1 vest, 24.8ms\n",
            "image 113/120 /content/PPE-2/test/images/image_84_jpg.rf.23ef557e7e383b50ba544f17ce712b4a.jpg: 384x640 1 helmet, 1 mask, 3 safety-shoess, 22.7ms\n",
            "image 114/120 /content/PPE-2/test/images/image_89_jpg.rf.2da725a720724815f1460a3212a52173.jpg: 480x640 1 mask, 2 safety-shoess, 25.4ms\n",
            "image 115/120 /content/PPE-2/test/images/image_89_jpg.rf.bbc41649d090c250e63a89a0e0a9bb8b.jpg: 480x640 2 glovess, 1 helmet, 2 safety-shoess, 21.3ms\n",
            "image 116/120 /content/PPE-2/test/images/image_92_jpg.rf.420dd33676229cd179af84b1be10cd30.jpg: 480x640 1 glasses, 2 glovess, 1 helmet, 1 mask, 2 safety-shoess, 1 vest, 16.2ms\n",
            "image 117/120 /content/PPE-2/test/images/image_92_jpg.rf.4a63898ea276d5789786d3da43337ed0.jpg: 480x640 1 helmet, 2 safety-shoess, 15.9ms\n",
            "image 118/120 /content/PPE-2/test/images/image_94_jpg.rf.cc0a7001f7acd99098e73a6f062c22de.jpg: 480x640 1 helmet, 2 safety-shoess, 1 vest, 15.5ms\n",
            "image 119/120 /content/PPE-2/test/images/image_95_jpg.rf.5f64a36f77c39d6cc9e3c448770d0172.jpg: 480x640 1 glasses, 2 glovess, 1 helmet, 1 mask, 2 safety-shoess, 1 vest, 17.2ms\n",
            "image 120/120 /content/PPE-2/test/images/image_98_jpg.rf.6ae46c1c75e6c56fefdb42fff8c5dbd2.jpg: 480x640 1 helmet, 1 mask, 3 safety-shoess, 1 vest, 15.3ms\n",
            "Speed: 2.1ms preprocess, 18.3ms inference, 1.6ms postprocess per image at shape (1, 3, 480, 640)\n",
            "Results saved to \u001b[1mruns/detect/predict\u001b[0m\n"
          ]
        }
      ],
      "source": [
        "predictions = trained_model.predict(\n",
        "    source = '/content/PPE-2/test/images',\n",
        "    save = True\n",
        ")"
      ]
    },
    {
      "cell_type": "code",
      "source": [
        "import locale\n",
        "locale.getpreferredencoding = lambda: \"UTF-8\"\n",
        "!zip -r runs.zip /content/runs"
      ],
      "metadata": {
        "colab": {
          "base_uri": "https://localhost:8080/"
        },
        "id": "fnZQFsgspCJY",
        "outputId": "c698b20a-12a4-43a8-8ce9-0041a88caf39"
      },
      "execution_count": 7,
      "outputs": [
        {
          "output_type": "stream",
          "name": "stdout",
          "text": [
            "  adding: content/runs/ (stored 0%)\n",
            "  adding: content/runs/detect/ (stored 0%)\n",
            "  adding: content/runs/detect/train/ (stored 0%)\n",
            "  adding: content/runs/detect/train/args.yaml (deflated 53%)\n",
            "  adding: content/runs/detect/train/val_batch1_pred.jpg (deflated 5%)\n",
            "  adding: content/runs/detect/train/train_batch3640.jpg (deflated 8%)\n",
            "  adding: content/runs/detect/train/labels_correlogram.jpg (deflated 40%)\n",
            "  adding: content/runs/detect/train/events.out.tfevents.1735546641.6924556a3d62.881.0 (deflated 93%)\n",
            "  adding: content/runs/detect/train/PR_curve.png (deflated 17%)\n",
            "  adding: content/runs/detect/train/results.csv (deflated 61%)\n",
            "  adding: content/runs/detect/train/R_curve.png (deflated 10%)\n",
            "  adding: content/runs/detect/train/train_batch3641.jpg (deflated 8%)\n",
            "  adding: content/runs/detect/train/train_batch1.jpg (deflated 3%)\n",
            "  adding: content/runs/detect/train/labels.jpg (deflated 34%)\n",
            "  adding: content/runs/detect/train/results.png (deflated 8%)\n",
            "  adding: content/runs/detect/train/P_curve.png (deflated 14%)\n",
            "  adding: content/runs/detect/train/weights/ (stored 0%)\n",
            "  adding: content/runs/detect/train/weights/last.pt (deflated 8%)\n",
            "  adding: content/runs/detect/train/weights/best.pt (deflated 8%)\n",
            "  adding: content/runs/detect/train/val_batch0_labels.jpg (deflated 7%)\n",
            "  adding: content/runs/detect/train/val_batch0_pred.jpg (deflated 7%)\n",
            "  adding: content/runs/detect/train/train_batch0.jpg (deflated 4%)\n",
            "  adding: content/runs/detect/train/confusion_matrix_normalized.png (deflated 23%)\n",
            "  adding: content/runs/detect/train/val_batch2_labels.jpg (deflated 5%)\n",
            "  adding: content/runs/detect/train/val_batch1_labels.jpg (deflated 5%)\n",
            "  adding: content/runs/detect/train/train_batch2.jpg (deflated 4%)\n",
            "  adding: content/runs/detect/train/val_batch2_pred.jpg (deflated 5%)\n",
            "  adding: content/runs/detect/train/F1_curve.png (deflated 8%)\n",
            "  adding: content/runs/detect/train/confusion_matrix.png (deflated 27%)\n",
            "  adding: content/runs/detect/train/train_batch3642.jpg (deflated 7%)\n",
            "  adding: content/runs/detect/predict/ (stored 0%)\n",
            "  adding: content/runs/detect/predict/image_119_jpg.rf.e5a30f337e56de5f6c104f95261c5369.jpg (deflated 5%)\n",
            "  adding: content/runs/detect/predict/image_72_jpg.rf.b45921d288c429272a00f7eb7205b7f9.jpg (deflated 4%)\n",
            "  adding: content/runs/detect/predict/image_12_jpg.rf.17805e492949dd6d8730ce15f45772e4.jpg (deflated 5%)\n",
            "  adding: content/runs/detect/predict/image_280_jpg.rf.f672f0b53a3d96157e2dde2ec463fef7.jpg (deflated 6%)\n",
            "  adding: content/runs/detect/predict/image_120_jpg.rf.7e14aafdf8dd9cfe5fe91f69a34bc7ec.jpg (deflated 6%)\n",
            "  adding: content/runs/detect/predict/image_114_jpg.rf.adbe8a1ddf063093154431533a0301fd.jpg (deflated 4%)\n",
            "  adding: content/runs/detect/predict/image_128_jpg.rf.4e58ca1b4d6a3167ac83984fd53fcb2d.jpg (deflated 4%)\n",
            "  adding: content/runs/detect/predict/image_244_jpg.rf.a78d4baa1558e3ca583591dd514a9c41.jpg (deflated 6%)\n",
            "  adding: content/runs/detect/predict/image_71_jpg.rf.eb1e6c9d81fb44f8ae6a510f50e4e223.jpg (deflated 7%)\n",
            "  adding: content/runs/detect/predict/image_2_jpg.rf.b8b83cee77be2201d929042259728cb2.jpg (deflated 6%)\n",
            "  adding: content/runs/detect/predict/image_38_jpg.rf.c7c0a1764e27ec6a2f3f8fecf8f74273.jpg (deflated 5%)\n",
            "  adding: content/runs/detect/predict/image_181_jpg.rf.25dddcbff860205abc34e643f966fd92.jpg (deflated 4%)\n",
            "  adding: content/runs/detect/predict/image_13_jpg.rf.5e60a59be4268609af3f4e7eea495128.jpg (deflated 6%)\n",
            "  adding: content/runs/detect/predict/image_232_jpg.rf.b4b369fded90b3dda3fb7c52976add42.jpg (deflated 4%)\n",
            "  adding: content/runs/detect/predict/image_18_jpg.rf.e2251f6553b8705cd12d0d314cb5e423.jpg (deflated 4%)\n",
            "  adding: content/runs/detect/predict/image_209_jpg.rf.06aecc4e37354ea5f0e28ae84c0dc631.jpg (deflated 5%)\n",
            "  adding: content/runs/detect/predict/image_84_jpg.rf.23ef557e7e383b50ba544f17ce712b4a.jpg (deflated 5%)\n",
            "  adding: content/runs/detect/predict/image_42_jpg.rf.9df109b1c53cf71a5c5a44f83ec462a3.jpg (deflated 5%)\n",
            "  adding: content/runs/detect/predict/image_225_jpg.rf.1cc1607ff1428e8f4fd36be426579b8c.jpg (deflated 5%)\n",
            "  adding: content/runs/detect/predict/image_72_jpg.rf.34afef5b81b1346da3e801f6531039cf.jpg (deflated 4%)\n",
            "  adding: content/runs/detect/predict/image_78_jpg.rf.e2800f2f4f2c7b8306bb17a483ffa8d9.jpg (deflated 4%)\n",
            "  adding: content/runs/detect/predict/image_79_jpg.rf.708b4203ec478977bb8df6309c62714f.jpg (deflated 5%)\n",
            "  adding: content/runs/detect/predict/image_98_jpg.rf.6ae46c1c75e6c56fefdb42fff8c5dbd2.jpg (deflated 4%)\n",
            "  adding: content/runs/detect/predict/image_92_jpg.rf.420dd33676229cd179af84b1be10cd30.jpg (deflated 4%)\n",
            "  adding: content/runs/detect/predict/image_17_jpg.rf.61c5c6b22d6caa5cd79d38e84e29666f.jpg (deflated 5%)\n",
            "  adding: content/runs/detect/predict/image_33_jpg.rf.e9a991f9b8bae174a2f59d7509666b0c.jpg (deflated 5%)\n",
            "  adding: content/runs/detect/predict/Backgound_017_jpg.rf.b0294b2b03605dde246b1a5b5495a9a0.jpg (deflated 5%)\n",
            "  adding: content/runs/detect/predict/image_117_jpg.rf.71bea6bf33916cc5e9c4b6bb44539395.jpg (deflated 7%)\n",
            "  adding: content/runs/detect/predict/image_101_jpg.rf.755a74b9fe8dae46407a7024d8986de4.jpg (deflated 5%)\n",
            "  adding: content/runs/detect/predict/image_241_jpg.rf.4829314e2441de00824003e1edd75417.jpg (deflated 5%)\n",
            "  adding: content/runs/detect/predict/image_200_jpg.rf.54a6db7a51320f4bb105e638286e5fa9.jpg (deflated 4%)\n",
            "  adding: content/runs/detect/predict/image_178_jpg.rf.bc9d41378d7ecc76c070374b7740bc2d.jpg (deflated 4%)\n",
            "  adding: content/runs/detect/predict/image_263_jpg.rf.73788b6d4dc996cdb37af9245fd7e4cb.jpg (deflated 5%)\n",
            "  adding: content/runs/detect/predict/image_163_jpg.rf.ebe78d1c3261bc3884a2ff0b682f80c6.jpg (deflated 5%)\n",
            "  adding: content/runs/detect/predict/image_183_jpg.rf.6be72d3d3db8ecd055fd10d10571f5fb.jpg (deflated 4%)\n",
            "  adding: content/runs/detect/predict/image_33_jpg.rf.8bb9f92f2a7741a1dc45833faf589bcf.jpg (deflated 6%)\n",
            "  adding: content/runs/detect/predict/image_12_jpg.rf.77e2563dd442944833d15137f36bbaba.jpg (deflated 6%)\n",
            "  adding: content/runs/detect/predict/image_166_jpg.rf.2047f43d462e1f0fae531f1221771155.jpg (deflated 4%)\n",
            "  adding: content/runs/detect/predict/Backgound_005_jpg.rf.98c5b0dd7234518fa23f6d74a2194537.jpg (deflated 6%)\n",
            "  adding: content/runs/detect/predict/image_45_jpg.rf.3d5e36dd39b4ffa9120e27daaba3c492.jpg (deflated 6%)\n",
            "  adding: content/runs/detect/predict/image_42_jpg.rf.a498592afcd384b01b7c09a963513085.jpg (deflated 4%)\n",
            "  adding: content/runs/detect/predict/image_81_jpg.rf.e80170789f40c9928e22127e336c6392.jpg (deflated 4%)\n",
            "  adding: content/runs/detect/predict/image_165_jpg.rf.9d3383fd9a35d113ea5bb293bd657533.jpg (deflated 5%)\n",
            "  adding: content/runs/detect/predict/image_104_jpg.rf.61eb3084e4125625aacfd937a15522c4.jpg (deflated 4%)\n",
            "  adding: content/runs/detect/predict/image_33_jpg.rf.347ea098506d33261146e48b3f2cb5e0.jpg (deflated 5%)\n",
            "  adding: content/runs/detect/predict/image_42_jpg.rf.860cd165b637c432a80e0e296d8025e0.jpg (deflated 4%)\n",
            "  adding: content/runs/detect/predict/image_183_jpg.rf.5b7b024e0400b2bd5165cb7cb86108b8.jpg (deflated 5%)\n",
            "  adding: content/runs/detect/predict/image_72_jpg.rf.3c7df017ef8bf6cc883a238640660100.jpg (deflated 4%)\n",
            "  adding: content/runs/detect/predict/image_263_jpg.rf.0bafee2d35abfdc0373c21a6694a0d61.jpg (deflated 6%)\n",
            "  adding: content/runs/detect/predict/image_106_jpg.rf.dfa1acb03af41280b23d77fdb24e8bb1.jpg (deflated 4%)\n",
            "  adding: content/runs/detect/predict/image_202_jpg.rf.67608ca34331b951a6371f5f4f261251.jpg (deflated 5%)\n",
            "  adding: content/runs/detect/predict/image_92_jpg.rf.4a63898ea276d5789786d3da43337ed0.jpg (deflated 5%)\n",
            "  adding: content/runs/detect/predict/image_50_jpg.rf.f51120861ed4c28d86d0b3d70cdbc0c9.jpg (deflated 4%)\n",
            "  adding: content/runs/detect/predict/image_132_jpg.rf.acdd5d955c40b87c9e3905e975218793.jpg (deflated 6%)\n",
            "  adding: content/runs/detect/predict/image_62_jpg.rf.4d51cd6a6aa84605eade9403390a2757.jpg (deflated 4%)\n",
            "  adding: content/runs/detect/predict/image_35_jpg.rf.6fe2c2e66292ae08730f56f303a756e4.jpg (deflated 6%)\n",
            "  adding: content/runs/detect/predict/image_176_jpg.rf.ce8ce4fa6de6012f93a6037f8de4b77a.jpg (deflated 4%)\n",
            "  adding: content/runs/detect/predict/image_89_jpg.rf.2da725a720724815f1460a3212a52173.jpg (deflated 6%)\n",
            "  adding: content/runs/detect/predict/image_161_jpg.rf.7cd149bb80f6d7eb04c2c2583e31b1ad.jpg (deflated 5%)\n",
            "  adding: content/runs/detect/predict/image_227_jpg.rf.b154ae8cf948120ec1074438a062ec89.jpg (deflated 6%)\n",
            "  adding: content/runs/detect/predict/image_314_jpg.rf.ca64186ebe314a637cc654e8674a2aad.jpg (deflated 5%)\n",
            "  adding: content/runs/detect/predict/image_327_jpg.rf.4442e3786bfa4406aa00dec1905b7256.jpg (deflated 7%)\n",
            "  adding: content/runs/detect/predict/image_201_jpg.rf.673fba6f99de57ae8b4bdc289f64c75b.jpg (deflated 5%)\n",
            "  adding: content/runs/detect/predict/image_127_jpg.rf.f5f083fc386d02d8b75c40dc14df410c.jpg (deflated 6%)\n",
            "  adding: content/runs/detect/predict/image_133_jpg.rf.7222b2e8d72a8f1738f9c14c25459172.jpg (deflated 5%)\n",
            "  adding: content/runs/detect/predict/image_95_jpg.rf.5f64a36f77c39d6cc9e3c448770d0172.jpg (deflated 5%)\n",
            "  adding: content/runs/detect/predict/image_186_jpg.rf.126fc904b7d90925082de06775770d16.jpg (deflated 4%)\n",
            "  adding: content/runs/detect/predict/image_168_jpg.rf.054cbb1701001a8062829d5a9fbeb3eb.jpg (deflated 4%)\n",
            "  adding: content/runs/detect/predict/image_64_jpg.rf.380060b2eab5a87b94d78ebd9accfe1f.jpg (deflated 5%)\n",
            "  adding: content/runs/detect/predict/image_108_jpg.rf.3ab6a043a4ef4021466189cd71301b2b.jpg (deflated 4%)\n",
            "  adding: content/runs/detect/predict/image_292_jpg.rf.5cfd0ca7bf526b023f5b10d4a3f95618.jpg (deflated 5%)\n",
            "  adding: content/runs/detect/predict/image_198_jpg.rf.a90a4dacabfc758907f8f7a12d938407.jpg (deflated 4%)\n",
            "  adding: content/runs/detect/predict/image_297_jpg.rf.7b71e6994dd3854f4f0a16491f6af724.jpg (deflated 5%)\n",
            "  adding: content/runs/detect/predict/image_21_jpg.rf.141f9eeb49018b0595f8848d8bbb3d1a.jpg (deflated 5%)\n",
            "  adding: content/runs/detect/predict/image_232_jpg.rf.82110d0c9a779ee5826022bc2116ab71.jpg (deflated 4%)\n",
            "  adding: content/runs/detect/predict/image_41_jpg.rf.0bf7b8c9da851b364a0e73e14eaf93c1.jpg (deflated 6%)\n",
            "  adding: content/runs/detect/predict/image_140_jpg.rf.ac2123846315925cba8e379f3074738b.jpg (deflated 4%)\n",
            "  adding: content/runs/detect/predict/image_302_jpg.rf.c84bed1541b76cf91e9c3ccfdfecc83d.jpg (deflated 5%)\n",
            "  adding: content/runs/detect/predict/image_56_jpg.rf.9e5f9b13533fd0ef5e730a3d631fe6eb.jpg (deflated 5%)\n",
            "  adding: content/runs/detect/predict/Backgound_027_jpg.rf.620e3e9e46e2e2c51402097b6fbc29ba.jpg (deflated 5%)\n",
            "  adding: content/runs/detect/predict/image_76_jpg.rf.189dc09451e1c379f548f608684d4d16.jpg (deflated 5%)\n",
            "  adding: content/runs/detect/predict/image_16_jpg.rf.4a4b6be9c7315dc0b54ac7f9b86e3997.jpg (deflated 5%)\n",
            "  adding: content/runs/detect/predict/image_28_jpg.rf.26df27b21bb048f11179ec4a3b6e3290.jpg (deflated 4%)\n",
            "  adding: content/runs/detect/predict/image_199_jpg.rf.51e7afd89e034c273950dd99321c6dd9.jpg (deflated 5%)\n",
            "  adding: content/runs/detect/predict/image_184_jpg.rf.77d6e7153a7655d893d9436ec47d5990.jpg (deflated 5%)\n",
            "  adding: content/runs/detect/predict/image_254_jpg.rf.3ff85cf72a01c6de051110f6863f67df.jpg (deflated 4%)\n",
            "  adding: content/runs/detect/predict/image_230_jpg.rf.97b3c34aedfbf6237adf505306d5637d.jpg (deflated 4%)\n",
            "  adding: content/runs/detect/predict/image_139_jpg.rf.14575196333c263b9f00cc13b85b7dfb.jpg (deflated 5%)\n",
            "  adding: content/runs/detect/predict/image_69_jpg.rf.688115532374251868fd06fd820dabf2.jpg (deflated 5%)\n",
            "  adding: content/runs/detect/predict/image_70_jpg.rf.25c3863cbf69aa9e3ab532544d8c7f5d.jpg (deflated 6%)\n",
            "  adding: content/runs/detect/predict/image_167_jpg.rf.a1553e780134d00463e6780a5e0fd210.jpg (deflated 6%)\n",
            "  adding: content/runs/detect/predict/image_145_jpg.rf.d16129cdea8420de655ec1366791b279.jpg (deflated 5%)\n",
            "  adding: content/runs/detect/predict/image_25_jpg.rf.5da0d0b438faae77c86589f53d4a8464.jpg (deflated 4%)\n",
            "  adding: content/runs/detect/predict/image_126_jpg.rf.1d3559aaa1da238f1a2e044481630c59.jpg (deflated 4%)\n",
            "  adding: content/runs/detect/predict/image_213_jpg.rf.dd80251328a978e737effa73ac81f4a6.jpg (deflated 6%)\n",
            "  adding: content/runs/detect/predict/image_135_jpg.rf.427eee489d3c8a2fd127460dd99dc17b.jpg (deflated 6%)\n",
            "  adding: content/runs/detect/predict/image_177_jpg.rf.377eada625475f0c5216f952ead506ad.jpg (deflated 4%)\n",
            "  adding: content/runs/detect/predict/image_264_jpg.rf.c51f2005b5eaad0d08e291c0b95f9377.jpg (deflated 5%)\n",
            "  adding: content/runs/detect/predict/image_94_jpg.rf.cc0a7001f7acd99098e73a6f062c22de.jpg (deflated 5%)\n",
            "  adding: content/runs/detect/predict/image_163_jpg.rf.20247cc501d82a96b8cb4059259799fb.jpg (deflated 5%)\n",
            "  adding: content/runs/detect/predict/image_163_jpg.rf.f2ee7dd70662366d2a97a0ade740de3a.jpg (deflated 5%)\n",
            "  adding: content/runs/detect/predict/image_124_jpg.rf.65009bb92fe6267b5256e9793ffafa87.jpg (deflated 6%)\n",
            "  adding: content/runs/detect/predict/image_318_jpg.rf.0236f6e81c32b8349c56b266bb073a99.jpg (deflated 5%)\n",
            "  adding: content/runs/detect/predict/image_53_jpg.rf.3115bb782eab45e62f339fd37824e8e9.jpg (deflated 5%)\n",
            "  adding: content/runs/detect/predict/image_103_jpg.rf.cf3a96cf1f79ce353aa6884f0b93cf08.jpg (deflated 4%)\n",
            "  adding: content/runs/detect/predict/image_142_jpg.rf.2f30fceabc2fcfb88c5b21cfdb02b1ea.jpg (deflated 4%)\n",
            "  adding: content/runs/detect/predict/image_160_jpg.rf.2aac48821f75e03161ecb47555268bee.jpg (deflated 4%)\n",
            "  adding: content/runs/detect/predict/image_121_jpg.rf.e620ae50e91962efa74ff11e06541666.jpg (deflated 5%)\n",
            "  adding: content/runs/detect/predict/image_129_jpg.rf.2d9df08a20dc9ece47b66e7d17ad4ca8.jpg (deflated 7%)\n",
            "  adding: content/runs/detect/predict/image_58_jpg.rf.e567b46dc1e79c6b649a7cec312a7efe.jpg (deflated 5%)\n",
            "  adding: content/runs/detect/predict/image_169_jpg.rf.44cbb29e0f458c0a845689b15c8e80ae.jpg (deflated 6%)\n",
            "  adding: content/runs/detect/predict/image_164_jpg.rf.308a8a69f61aaaa7ac3c97123b753389.jpg (deflated 4%)\n",
            "  adding: content/runs/detect/predict/image_108_jpg.rf.02b1228b2b3e097a90d4a47eb0131766.jpg (deflated 4%)\n",
            "  adding: content/runs/detect/predict/image_253_jpg.rf.19c9909e9af8fe2873a93aebf6d5605f.jpg (deflated 5%)\n",
            "  adding: content/runs/detect/predict/image_107_jpg.rf.27a6025f4dcd12dfceec3516222bbcd0.jpg (deflated 5%)\n",
            "  adding: content/runs/detect/predict/image_39_jpg.rf.ceb2d2c19e46ecf2df94b980aedc167c.jpg (deflated 5%)\n",
            "  adding: content/runs/detect/predict/image_156_jpg.rf.0314b73cf97ac128e768975ccdea1a7d.jpg (deflated 4%)\n",
            "  adding: content/runs/detect/predict/image_33_jpg.rf.02a2b7677cb5fb6756434f1ccc4eacf9.jpg (deflated 5%)\n",
            "  adding: content/runs/detect/predict/image_89_jpg.rf.bbc41649d090c250e63a89a0e0a9bb8b.jpg (deflated 5%)\n",
            "  adding: content/runs/detect/predict/image_113_jpg.rf.be3457ff2194e2f971290c1ee15f737f.jpg (deflated 5%)\n",
            "  adding: content/runs/detect/val/ (stored 0%)\n",
            "  adding: content/runs/detect/val/val_batch1_pred.jpg (deflated 5%)\n",
            "  adding: content/runs/detect/val/PR_curve.png (deflated 20%)\n",
            "  adding: content/runs/detect/val/R_curve.png (deflated 10%)\n",
            "  adding: content/runs/detect/val/P_curve.png (deflated 14%)\n",
            "  adding: content/runs/detect/val/val_batch0_labels.jpg (deflated 6%)\n",
            "  adding: content/runs/detect/val/val_batch0_pred.jpg (deflated 6%)\n",
            "  adding: content/runs/detect/val/confusion_matrix_normalized.png (deflated 24%)\n",
            "  adding: content/runs/detect/val/val_batch2_labels.jpg (deflated 5%)\n",
            "  adding: content/runs/detect/val/val_batch1_labels.jpg (deflated 5%)\n",
            "  adding: content/runs/detect/val/val_batch2_pred.jpg (deflated 5%)\n",
            "  adding: content/runs/detect/val/F1_curve.png (deflated 9%)\n",
            "  adding: content/runs/detect/val/confusion_matrix.png (deflated 27%)\n"
          ]
        }
      ]
    },
    {
      "cell_type": "code",
      "source": [],
      "metadata": {
        "id": "DaWBZLJmz1rR"
      },
      "execution_count": null,
      "outputs": []
    }
  ],
  "metadata": {
    "accelerator": "GPU",
    "colab": {
      "gpuType": "T4",
      "provenance": []
    },
    "kernelspec": {
      "display_name": "Python 3",
      "name": "python3"
    },
    "language_info": {
      "name": "python"
    }
  },
  "nbformat": 4,
  "nbformat_minor": 0
}